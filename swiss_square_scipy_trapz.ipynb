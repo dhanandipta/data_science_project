{
 "cells": [
  {
   "cell_type": "markdown",
   "metadata": {},
   "source": [
    "#### Perkenalan\n",
    "\n",
    "1. Nama     : I Made Dhanan Pradipta\n",
    "2. Batch    : 10"
   ]
  },
  {
   "cell_type": "markdown",
   "metadata": {},
   "source": [
    "#### Problem\n",
    "\n",
    "\n",
    "##### 1. Salah satu ruang lingkup Natural Language Processing (NLP) adalah mengukur kesamaan konteks antar kalimat. Untuk mengetahui dua kalimat memiliki konteks yang sama atau tidak, kita mengukurnya dengan   cosine similarity. Cosine similarity sejatinya mengukur 'jarak' antar dua vektor yang mana vektor-vektor tersebut berisikan angka-angka, sehingga kita perlu menerjemahkan kalimat menjadi list angka (encoding). Ada banyak metode encoding yang dapat digunakan untuk menerjemahkan kalimat ke angka, salah satunya adalah dengan menghitung frekuensi kemunculan kata pada setiap kalimat.\n",
    "\n",
    "##### Kalimat 1: Julie loves me more than Linda loves me\n",
    "\n",
    "##### Kalimat 2: Jane likes me more than Julie loves me\n",
    "\n",
    "##### Buatlah vektor yang merupakan representasi masing-masing kalimat berdasarkan tabel di atas dan hitung cosine similarity antar kedua vektor. Kemudian jawab pertanyaan berikut di markdown:"
   ]
  },
  {
   "cell_type": "code",
   "execution_count": 10,
   "metadata": {},
   "outputs": [],
   "source": [
    "# import library\n",
    "\n",
    "import numpy as np\n",
    "import pandas as pd\n",
    "from scipy.integrate import trapz\n",
    "import matplotlib.pyplot as plt"
   ]
  },
  {
   "cell_type": "code",
   "execution_count": 3,
   "metadata": {},
   "outputs": [],
   "source": [
    "#buat vektor berdasarkan tabel\n",
    "kal_1 = np.array([2, 0, 1, 1, 0, 2, 1, 1])\n",
    "kal_2 = np.array([2, 1, 1, 0, 1, 1, 1, 1])"
   ]
  },
  {
   "cell_type": "markdown",
   "metadata": {},
   "source": [
    "a. Apakah kedua kalimat memiliki konteks yang serupa? jika iya, mengapa dan jika tidak, mengapa (jawab berdasarkan hasil perhitungan cosine similaritynya)?"
   ]
  },
  {
   "cell_type": "code",
   "execution_count": 5,
   "metadata": {},
   "outputs": [
    {
     "data": {
      "text/plain": [
       "0.8215838362577491"
      ]
     },
     "execution_count": 5,
     "metadata": {},
     "output_type": "execute_result"
    }
   ],
   "source": [
    "#hitung consine similarity dari kedua kalimat\n",
    "cos_theta = kal_1 @ kal_2 / ((np.linalg.norm(kal_1)) * (np.linalg.norm(kal_2)))\n",
    "cos_theta"
   ]
  },
  {
   "cell_type": "markdown",
   "metadata": {},
   "source": [
    "    dari hasil cos theta yaitu 0.82, dapat disimpulkan bahwa kalimat 1 dan kalimat 2 memiliki konteks serupa karena memiliki hasil consine similarity diatas 0.5 yang merupakan nilai batas dari consine similarity"
   ]
  },
  {
   "cell_type": "markdown",
   "metadata": {},
   "source": [
    "b. Jika meninjau dua buah vektor dan dihitung cosine similaritynya (cos theta), jelaskan secara singkat, jelas, padat apa makna cosine similarity yang bernilai 0 dan 1 (tinjau dari posisi dua vektor di koordinat kartesian)?"
   ]
  },
  {
   "cell_type": "code",
   "execution_count": 32,
   "metadata": {},
   "outputs": [
    {
     "data": {
      "text/plain": [
       "34.756342442638676"
      ]
     },
     "execution_count": 32,
     "metadata": {},
     "output_type": "execute_result"
    }
   ],
   "source": [
    "rad = np.arccos(cos_theta)\n",
    "\n",
    "#mencari sudut antara dua buah vektor ada koordinat kartesian pada kal1 dan kal2\n",
    "deg = np.degrees(rad)\n",
    "deg"
   ]
  },
  {
   "cell_type": "markdown",
   "metadata": {},
   "source": [
    "    1. makna dari consine similarity yang nilainya mendekati angka 0 atau nilainya 0, sehingga posisi dua buah vektor pada kordinat kartesian mimiliki sudut mendekati 90 atau bernilai 90 derajad, maka dapat dikatakan kedua kalimat tersebut tidak mirip atau tidak memiliki keterkaikan\n",
    "\n",
    "    2. sedangkan, jika nilai dari consine similarity mendekati angka 1 atau bernilai 1, sehingga dua buah vektor pada koordinat kartesian membentuk sudut mendekati 0 atau bernilai 0 derajad, maka dapat disimpulkan kedua kalimat tersebut mirip dan memiliki keterkaitan"
   ]
  },
  {
   "cell_type": "markdown",
   "metadata": {},
   "source": [
    "c. Apa kekurangan dari perhitungan kemiripan menggunakan cosine similarity?"
   ]
  },
  {
   "cell_type": "markdown",
   "metadata": {},
   "source": [
    "    Kalimat 1: Julie loves me more than Linda loves me\n",
    "\n",
    "    Kalimat 2: Jane likes me more than Julie loves me\n",
    "\n",
    "    kekurangan dari perhitungan menggunakan consine similarity adalah, jika disimpulkan dari nilai yang didapat (cos_theta), maka kedua kalimat tsb mirip,\n",
    "    namun jika ditelaah dari makna yang terkandung kedua kalimat tersebut, dapat dikatakan bahwa kedua kalimat tersebut tidak memiliki kemiripan yang erat atau beda makna"
   ]
  },
  {
   "cell_type": "markdown",
   "metadata": {},
   "source": [
    "##### 2. Menggunakan konsep integral untuk menghitung luas dibawah kurva, tentukan luas negara Swiss jika diketahui koordinat batas-batasnya! Dataset koordinat batas Swiss dapat diakses pada link berikut: "
   ]
  },
  {
   "cell_type": "code",
   "execution_count": 8,
   "metadata": {},
   "outputs": [],
   "source": [
    "# data loading map swiss\n",
    "\n",
    "swiss = pd.read_csv(\"https://raw.githubusercontent.com/fahmimnalfrzki/Dataset/main/Swiss_boundaries.txt?token=AEZDEHXBTS7OMF32RTYPKZDA2FELA\")"
   ]
  },
  {
   "cell_type": "code",
   "execution_count": 9,
   "metadata": {},
   "outputs": [
    {
     "data": {
      "text/html": [
       "<div>\n",
       "<style scoped>\n",
       "    .dataframe tbody tr th:only-of-type {\n",
       "        vertical-align: middle;\n",
       "    }\n",
       "\n",
       "    .dataframe tbody tr th {\n",
       "        vertical-align: top;\n",
       "    }\n",
       "\n",
       "    .dataframe thead th {\n",
       "        text-align: right;\n",
       "    }\n",
       "</style>\n",
       "<table border=\"1\" class=\"dataframe\">\n",
       "  <thead>\n",
       "    <tr style=\"text-align: right;\">\n",
       "      <th></th>\n",
       "      <th>longitude</th>\n",
       "      <th>latitude</th>\n",
       "    </tr>\n",
       "  </thead>\n",
       "  <tbody>\n",
       "    <tr>\n",
       "      <th>0</th>\n",
       "      <td>9.56672</td>\n",
       "      <td>47.54045</td>\n",
       "    </tr>\n",
       "    <tr>\n",
       "      <th>1</th>\n",
       "      <td>9.55980</td>\n",
       "      <td>47.50209</td>\n",
       "    </tr>\n",
       "    <tr>\n",
       "      <th>2</th>\n",
       "      <td>9.59660</td>\n",
       "      <td>47.46944</td>\n",
       "    </tr>\n",
       "    <tr>\n",
       "      <th>3</th>\n",
       "      <td>9.64965</td>\n",
       "      <td>47.45861</td>\n",
       "    </tr>\n",
       "    <tr>\n",
       "      <th>4</th>\n",
       "      <td>9.67035</td>\n",
       "      <td>47.39069</td>\n",
       "    </tr>\n",
       "    <tr>\n",
       "      <th>...</th>\n",
       "      <td>...</td>\n",
       "      <td>...</td>\n",
       "    </tr>\n",
       "    <tr>\n",
       "      <th>273</th>\n",
       "      <td>9.03333</td>\n",
       "      <td>47.68833</td>\n",
       "    </tr>\n",
       "    <tr>\n",
       "      <th>274</th>\n",
       "      <td>9.08264</td>\n",
       "      <td>47.68541</td>\n",
       "    </tr>\n",
       "    <tr>\n",
       "      <th>275</th>\n",
       "      <td>9.26110</td>\n",
       "      <td>47.66284</td>\n",
       "    </tr>\n",
       "    <tr>\n",
       "      <th>276</th>\n",
       "      <td>9.47832</td>\n",
       "      <td>47.57585</td>\n",
       "    </tr>\n",
       "    <tr>\n",
       "      <th>277</th>\n",
       "      <td>9.56672</td>\n",
       "      <td>47.54045</td>\n",
       "    </tr>\n",
       "  </tbody>\n",
       "</table>\n",
       "<p>278 rows × 2 columns</p>\n",
       "</div>"
      ],
      "text/plain": [
       "     longitude  latitude\n",
       "0      9.56672  47.54045\n",
       "1      9.55980  47.50209\n",
       "2      9.59660  47.46944\n",
       "3      9.64965  47.45861\n",
       "4      9.67035  47.39069\n",
       "..         ...       ...\n",
       "273    9.03333  47.68833\n",
       "274    9.08264  47.68541\n",
       "275    9.26110  47.66284\n",
       "276    9.47832  47.57585\n",
       "277    9.56672  47.54045\n",
       "\n",
       "[278 rows x 2 columns]"
      ]
     },
     "execution_count": 9,
     "metadata": {},
     "output_type": "execute_result"
    }
   ],
   "source": [
    "swiss"
   ]
  },
  {
   "cell_type": "code",
   "execution_count": 11,
   "metadata": {},
   "outputs": [
    {
     "data": {
      "image/png": "[encoded data removed]",
      "text/plain": [
       "<Figure size 432x288 with 1 Axes>"
      ]
     },
     "metadata": {
      "needs_background": "light"
     },
     "output_type": "display_data"
    }
   ],
   "source": [
    "#plot wilayah negara swiss dengan menggunakan dataset yang diberika\n",
    "plt.plot(swiss.longitude, swiss.latitude)\n",
    "plt.show()"
   ]
  },
  {
   "cell_type": "code",
   "execution_count": 13,
   "metadata": {},
   "outputs": [],
   "source": [
    "#mencari nilai tengah dari negara swiss, sehingga bisa dimasukan ke fungsi integral\n",
    "nilai_tengah = (max(swiss.latitude) + min(swiss.latitude)) / 2"
   ]
  },
  {
   "cell_type": "code",
   "execution_count": 18,
   "metadata": {},
   "outputs": [
    {
     "data": {
      "image/png": "[encoded data removed]",
      "text/plain": [
       "<Figure size 432x288 with 1 Axes>"
      ]
     },
     "metadata": {
      "needs_background": "light"
     },
     "output_type": "display_data"
    }
   ],
   "source": [
    "#membuat batas northern swiss dan southern swiss\n",
    "plt.plot(swiss.longitude, swiss.latitude)\n",
    "plt.axhline(y=nilai_tengah)\n",
    "plt.show()"
   ]
  },
  {
   "cell_type": "code",
   "execution_count": 31,
   "metadata": {},
   "outputs": [
    {
     "data": {
      "text/plain": [
       "17.516630827200032"
      ]
     },
     "execution_count": 31,
     "metadata": {},
     "output_type": "execute_result"
    }
   ],
   "source": [
    "#sortir value dari longitude dari terkecil ke terbesar\n",
    "swiss_sorted = swiss.sort_values('longitude', ascending=True)\n",
    "\n",
    "#seleksi bagian north dan south dengan menggunakan nilai tengah\n",
    "northern = swiss_sorted[swiss_sorted.latitude > nilai_tengah]\n",
    "southern = swiss_sorted[swiss_sorted.latitude < nilai_tengah]\n",
    "\n",
    "#cari nilai dari north dan south menggunakan integral trapezoid dari nilai yang sudah diseleksi\n",
    "north_value = trapz(northern.latitude, northern.longitude)\n",
    "south_value = trapz(southern.latitude, southern.longitude)\n",
    "\n",
    "#kurangi nilai dari north dengan south untuk menghasilkan luas\n",
    "luas = np.abs(north_value - south_value)\n",
    "luas"
   ]
  },
  {
   "cell_type": "markdown",
   "metadata": {},
   "source": [
    "    sehingga didapat kesimpulan bahwa luas dari wilayah swiss adalah 17.51166"
   ]
  },
  {
   "cell_type": "markdown",
   "metadata": {},
   "source": [
    "a. Integral jenis apa yang diterapkan pada kasus ini? (Tertentu/Tak tentu) dan mengapa demikian? berikan alasan!\n",
    "\n",
    "    pada kasus kali ini, yang digunakan adalah integral tertentu,\n",
    "    ciri-ciri integral tertentu yaitu memiliki batas atas dan batas bawah, dan jika dikaitkan dengan perhitungan luas negara swiss di atas, diperlukan batas atas (northern) dan batas bawah (southern) untuk menghitung luas dari wilayahnya"
   ]
  },
  {
   "cell_type": "markdown",
   "metadata": {},
   "source": [
    "b.Untuk kasus ini, metode apa yang kamu pakai dalam perhitungan integral? secara simbolik atau numerik, dan mengapa?\n",
    "\n",
    "    pada kasus ini digunakan integral numerik, karena inputan dari integral adalah data points berupa nilai longitude dan latitude sebagai sumbu (x, y)"
   ]
  },
  {
   "cell_type": "markdown",
   "metadata": {},
   "source": [
    "c.Library Scipy menyediakan banyak function/modul untuk menghitung integral. Function apa yang kamu gunakan dan berikan alasan yang logis!\n",
    "\n",
    "    fungsi scipy yang digunakan adalah trapezoid, karena integral trapezoid dapat mengintegrasi data array menggunakan trapezoid method (yaitu menghitung bagian area dibawah garis kurva) sehingga cocok untuk menghitung luas wilayah tertentu "
   ]
  },
  {
   "cell_type": "markdown",
   "metadata": {},
   "source": []
  }
 ],
 "metadata": {
  "interpreter": {
   "hash": "ec48a7eb029cdc542407fb9869288c96ab6e2ae880e1da9f0814a29f5bb615aa"
  },
  "kernelspec": {
   "display_name": "Python 3.10.0 64-bit",
   "language": "python",
   "name": "python3"
  },
  "language_info": {
   "codemirror_mode": {
    "name": "ipython",
    "version": 3
   },
   "file_extension": ".py",
   "mimetype": "text/x-python",
   "name": "python",
   "nbconvert_exporter": "python",
   "pygments_lexer": "ipython3",
   "version": "3.10.0"
  },
  "orig_nbformat": 4
 },
 "nbformat": 4,
 "nbformat_minor": 2
}
