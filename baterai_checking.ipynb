{
 "cells": [
  {
   "cell_type": "markdown",
   "metadata": {},
   "source": [
    "## 1. Perkenalan\n",
    "\n",
    "- Nama  : I Made Dhanan Pradipta\n",
    "- Batch : 10"
   ]
  },
  {
   "cell_type": "markdown",
   "metadata": {},
   "source": [
    "## 2. Problem\n",
    "\n",
    "    Kamu adalah seorang data scientist yang bekerja di salah satu perusahaan manufaktur baterai Lithium ion. Tim produksi meminta kamu untuk mengecek apakah baterai yang mereka buat dalam kondisi bagus atau tidak. Sebelum melakukan pengecekan lebih lanjut, kamu diminta untuk menghitung hambatan/resistansi dan Daya setiap detik:\n",
    "\n",
    "[R=\\frac{V}{I}]\n",
    "\n",
    "[P=VI]\n",
    "\n",
    "    R adalah Kapasitas dalam satuan Ohm\n",
    "    P adalah Daya dalam Watt\n",
    "    I adalah kuat arus dalam satuan Ampere\n",
    "    V adalah tegangan dalam satuan Volt\n"
   ]
  },
  {
   "cell_type": "markdown",
   "metadata": {},
   "source": [
    "##### 1. Import Library"
   ]
  },
  {
   "cell_type": "code",
   "execution_count": 1,
   "metadata": {},
   "outputs": [],
   "source": [
    "import pandas as pd\n",
    "import numpy as np"
   ]
  },
  {
   "cell_type": "markdown",
   "metadata": {},
   "source": [
    "##### 2. Data Loading"
   ]
  },
  {
   "cell_type": "code",
   "execution_count": 2,
   "metadata": {},
   "outputs": [],
   "source": [
    "df = pd.read_excel(\"dataset/NMC1-9.xlsx\")"
   ]
  },
  {
   "cell_type": "code",
   "execution_count": 3,
   "metadata": {},
   "outputs": [
    {
     "data": {
      "text/html": [
       "<div>\n",
       "<style scoped>\n",
       "    .dataframe tbody tr th:only-of-type {\n",
       "        vertical-align: middle;\n",
       "    }\n",
       "\n",
       "    .dataframe tbody tr th {\n",
       "        vertical-align: top;\n",
       "    }\n",
       "\n",
       "    .dataframe thead th {\n",
       "        text-align: right;\n",
       "    }\n",
       "</style>\n",
       "<table border=\"1\" class=\"dataframe\">\n",
       "  <thead>\n",
       "    <tr style=\"text-align: right;\">\n",
       "      <th></th>\n",
       "      <th>time(s)</th>\n",
       "      <th>V_m</th>\n",
       "      <th>Current (A)</th>\n",
       "      <th>Cycle</th>\n",
       "      <th>Cap</th>\n",
       "    </tr>\n",
       "  </thead>\n",
       "  <tbody>\n",
       "    <tr>\n",
       "      <th>0</th>\n",
       "      <td>0</td>\n",
       "      <td>4.098</td>\n",
       "      <td>0.997</td>\n",
       "      <td>1</td>\n",
       "      <td>2.840817</td>\n",
       "    </tr>\n",
       "    <tr>\n",
       "      <th>1</th>\n",
       "      <td>1</td>\n",
       "      <td>4.096</td>\n",
       "      <td>0.998</td>\n",
       "      <td>1</td>\n",
       "      <td>2.840817</td>\n",
       "    </tr>\n",
       "    <tr>\n",
       "      <th>2</th>\n",
       "      <td>2</td>\n",
       "      <td>4.094</td>\n",
       "      <td>0.999</td>\n",
       "      <td>1</td>\n",
       "      <td>2.840817</td>\n",
       "    </tr>\n",
       "    <tr>\n",
       "      <th>3</th>\n",
       "      <td>3</td>\n",
       "      <td>4.093</td>\n",
       "      <td>0.998</td>\n",
       "      <td>1</td>\n",
       "      <td>2.840817</td>\n",
       "    </tr>\n",
       "    <tr>\n",
       "      <th>4</th>\n",
       "      <td>4</td>\n",
       "      <td>4.092</td>\n",
       "      <td>0.999</td>\n",
       "      <td>1</td>\n",
       "      <td>2.840817</td>\n",
       "    </tr>\n",
       "  </tbody>\n",
       "</table>\n",
       "</div>"
      ],
      "text/plain": [
       "   time(s)    V_m  Current (A)  Cycle       Cap\n",
       "0        0  4.098        0.997      1  2.840817\n",
       "1        1  4.096        0.998      1  2.840817\n",
       "2        2  4.094        0.999      1  2.840817\n",
       "3        3  4.093        0.998      1  2.840817\n",
       "4        4  4.092        0.999      1  2.840817"
      ]
     },
     "execution_count": 3,
     "metadata": {},
     "output_type": "execute_result"
    }
   ],
   "source": [
    "df.head()"
   ]
  },
  {
   "cell_type": "code",
   "execution_count": 4,
   "metadata": {},
   "outputs": [
    {
     "name": "stdout",
     "output_type": "stream",
     "text": [
      "<class 'pandas.core.frame.DataFrame'>\n",
      "RangeIndex: 90982 entries, 0 to 90981\n",
      "Data columns (total 5 columns):\n",
      " #   Column       Non-Null Count  Dtype  \n",
      "---  ------       --------------  -----  \n",
      " 0   time(s)      90982 non-null  int64  \n",
      " 1   V_m          90982 non-null  float64\n",
      " 2   Current (A)  90982 non-null  float64\n",
      " 3   Cycle        90982 non-null  int64  \n",
      " 4   Cap          90982 non-null  float64\n",
      "dtypes: float64(3), int64(2)\n",
      "memory usage: 3.5 MB\n"
     ]
    }
   ],
   "source": [
    "df.info()"
   ]
  },
  {
   "cell_type": "markdown",
   "metadata": {},
   "source": [
    "##### 3. Answer"
   ]
  },
  {
   "cell_type": "markdown",
   "metadata": {},
   "source": [
    "##### a. Buatlah dua fungsi eksplisit masing-masing memuat perhitungan hambatan (R) dan daya (P) yang nantinya akan digunakan untuk perhitungan"
   ]
  },
  {
   "cell_type": "code",
   "execution_count": 5,
   "metadata": {},
   "outputs": [],
   "source": [
    "#mencari hambatan (R)\n",
    "def hambatan(tegangan, arus):\n",
    "    return tegangan / arus"
   ]
  },
  {
   "cell_type": "code",
   "execution_count": 6,
   "metadata": {},
   "outputs": [],
   "source": [
    "#mencari daya (P)\n",
    "def daya(tegangan, arus):\n",
    "    return tegangan * arus"
   ]
  },
  {
   "cell_type": "markdown",
   "metadata": {},
   "source": [
    "b. Buat kolom baru dengan nama kolom R/P berisikan hasil perhitungan daya/hambatan dengan kriteria untuk Kapasitas >=2.5 hitung daya, Kapasitas <2.5 hitung nilai hambatan. (Hint: Gunakan for loop dan if statement untuk mengerjakan perintah nomor b, kamu bisa menggunakan list untuk menyimpan perhitungan sementara, setelahnya dapat dimasukkan ke kolom R/P)."
   ]
  },
  {
   "cell_type": "markdown",
   "metadata": {},
   "source": [
    "##### Versi 1 (kolom R/P tergabung dengan main dataframe (df))"
   ]
  },
  {
   "cell_type": "code",
   "execution_count": 12,
   "metadata": {},
   "outputs": [],
   "source": [
    "#looping utk mencari hambatan dengan kriteria >=2.5\n",
    "lst_hambatan = []\n",
    "lst_daya = []\n",
    "for i in range(len(df['V_m'])):\n",
    "    R = hambatan(df['V_m'][i], df['Current (A)'][i]) #masukan function hambatan\n",
    "    P = daya(df['V_m'][i], df['Current (A)'][i]) #masukan function daya\n",
    "    lst_hambatan.append(R)\n",
    "    lst_daya.append(P)"
   ]
  },
  {
   "cell_type": "markdown",
   "metadata": {},
   "source": [
    "##### Versi 2 kolom R/P tidak tergabung dengan df"
   ]
  },
  {
   "cell_type": "code",
   "execution_count": 9,
   "metadata": {},
   "outputs": [],
   "source": [
    "lst = []\n",
    "for i in range(len(df['V_m'])):\n",
    "    R = hambatan(df['V_m'][i], df['Current (A)'][i]) #masukan function hambatan\n",
    "    P = daya(df['V_m'][i], df['Current (A)'][i]) #masukan daya\n",
    "    if df['Cap'][i] < 2.5: #jika kondisi terpenuhi masukan nilai ke list kosong \n",
    "        lst.append(R)\n",
    "    else:\n",
    "        lst.append(P)\n",
    "\n",
    "df['R/P'] = lst"
   ]
  },
  {
   "cell_type": "markdown",
   "metadata": {},
   "source": [
    "##### c. Hitunglah rata-rata nilai kapasitas untuk arus = 1 Ampere dan cycle ganjil."
   ]
  },
  {
   "cell_type": "code",
   "execution_count": 10,
   "metadata": {},
   "outputs": [
    {
     "data": {
      "text/html": [
       "<div>\n",
       "<style scoped>\n",
       "    .dataframe tbody tr th:only-of-type {\n",
       "        vertical-align: middle;\n",
       "    }\n",
       "\n",
       "    .dataframe tbody tr th {\n",
       "        vertical-align: top;\n",
       "    }\n",
       "\n",
       "    .dataframe thead th {\n",
       "        text-align: right;\n",
       "    }\n",
       "</style>\n",
       "<table border=\"1\" class=\"dataframe\">\n",
       "  <thead>\n",
       "    <tr style=\"text-align: right;\">\n",
       "      <th></th>\n",
       "      <th>time(s)</th>\n",
       "      <th>V_m</th>\n",
       "      <th>Current (A)</th>\n",
       "      <th>Cycle</th>\n",
       "      <th>Cap</th>\n",
       "      <th>R</th>\n",
       "      <th>R/P</th>\n",
       "    </tr>\n",
       "  </thead>\n",
       "  <tbody>\n",
       "    <tr>\n",
       "      <th>0</th>\n",
       "      <td>0</td>\n",
       "      <td>4.098</td>\n",
       "      <td>0.997</td>\n",
       "      <td>1</td>\n",
       "      <td>2.840817</td>\n",
       "      <td>4.110331</td>\n",
       "      <td>4.085706</td>\n",
       "    </tr>\n",
       "    <tr>\n",
       "      <th>1</th>\n",
       "      <td>1</td>\n",
       "      <td>4.096</td>\n",
       "      <td>0.998</td>\n",
       "      <td>1</td>\n",
       "      <td>2.840817</td>\n",
       "      <td>4.104208</td>\n",
       "      <td>4.087808</td>\n",
       "    </tr>\n",
       "    <tr>\n",
       "      <th>2</th>\n",
       "      <td>2</td>\n",
       "      <td>4.094</td>\n",
       "      <td>0.999</td>\n",
       "      <td>1</td>\n",
       "      <td>2.840817</td>\n",
       "      <td>4.098098</td>\n",
       "      <td>4.089906</td>\n",
       "    </tr>\n",
       "    <tr>\n",
       "      <th>3</th>\n",
       "      <td>3</td>\n",
       "      <td>4.093</td>\n",
       "      <td>0.998</td>\n",
       "      <td>1</td>\n",
       "      <td>2.840817</td>\n",
       "      <td>4.101202</td>\n",
       "      <td>4.084814</td>\n",
       "    </tr>\n",
       "    <tr>\n",
       "      <th>4</th>\n",
       "      <td>4</td>\n",
       "      <td>4.092</td>\n",
       "      <td>0.999</td>\n",
       "      <td>1</td>\n",
       "      <td>2.840817</td>\n",
       "      <td>4.096096</td>\n",
       "      <td>4.087908</td>\n",
       "    </tr>\n",
       "  </tbody>\n",
       "</table>\n",
       "</div>"
      ],
      "text/plain": [
       "   time(s)    V_m  Current (A)  Cycle       Cap         R       R/P\n",
       "0        0  4.098        0.997      1  2.840817  4.110331  4.085706\n",
       "1        1  4.096        0.998      1  2.840817  4.104208  4.087808\n",
       "2        2  4.094        0.999      1  2.840817  4.098098  4.089906\n",
       "3        3  4.093        0.998      1  2.840817  4.101202  4.084814\n",
       "4        4  4.092        0.999      1  2.840817  4.096096  4.087908"
      ]
     },
     "execution_count": 10,
     "metadata": {},
     "output_type": "execute_result"
    }
   ],
   "source": [
    "df.head()"
   ]
  },
  {
   "cell_type": "code",
   "execution_count": 11,
   "metadata": {},
   "outputs": [
    {
     "data": {
      "text/plain": [
       "2.8064845553927484"
      ]
     },
     "execution_count": 11,
     "metadata": {},
     "output_type": "execute_result"
    }
   ],
   "source": [
    "#menghitung nilai rata2 dari kapasitas (R) dengan kondisi Current (A) = 1 dan Cycle berupa angka ganjil\n",
    "\n",
    "df['Cap'][(df['Current (A)'] == 1) & (df['Cycle'] % 2 == 1)].mean()"
   ]
  },
  {
   "cell_type": "markdown",
   "metadata": {},
   "source": [
    "rata-rata dari kapasitas (R) dengan kondisi Kuat Arus (A) = 1 dan juga Cycle bernilai ganjil yaitu 2.806 Ohm "
   ]
  }
 ],
 "metadata": {
  "interpreter": {
   "hash": "ec48a7eb029cdc542407fb9869288c96ab6e2ae880e1da9f0814a29f5bb615aa"
  },
  "kernelspec": {
   "display_name": "Python 3.10.0 64-bit",
   "language": "python",
   "name": "python3"
  },
  "language_info": {
   "codemirror_mode": {
    "name": "ipython",
    "version": 3
   },
   "file_extension": ".py",
   "mimetype": "text/x-python",
   "name": "python",
   "nbconvert_exporter": "python",
   "pygments_lexer": "ipython3",
   "version": "3.10.0"
  },
  "orig_nbformat": 4
 },
 "nbformat": 4,
 "nbformat_minor": 2
}
