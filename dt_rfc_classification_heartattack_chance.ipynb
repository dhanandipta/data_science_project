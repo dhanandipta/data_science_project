{
 "cells": [
  {
   "cell_type": "markdown",
   "metadata": {},
   "source": [
    "---\n",
    "---\n",
    "### Perkenalan\n",
    "\n",
    "Nama    : I Made Dhanan Pradipta <br>\n",
    "\n",
    "\n",
    "Objective   : Buatlah model machine learning untuk mengklasifikasikan<br>        kemungkinan orang terkena serangan jantung. Bandingkan antara model Decision Tree dan Random Forest. <br>\n",
    "Analisa dua buah model ini dan tentukan model yang terbaik untuk data ini"
   ]
  },
  {
   "cell_type": "markdown",
   "metadata": {},
   "source": [
    "---\n",
    "---\n",
    "### Import Library"
   ]
  },
  {
   "cell_type": "code",
   "execution_count": 425,
   "metadata": {},
   "outputs": [],
   "source": [
    "#mport library\n",
    "import pandas as pd\n",
    "import numpy as np\n",
    "import matplotlib.pyplot as plt\n",
    "import seaborn as sns\n",
    "\n",
    "from sklearn.model_selection import train_test_split\n",
    "from sklearn.preprocessing import StandardScaler\n",
    "from sklearn.ensemble import RandomForestClassifier\n",
    "from sklearn.tree import DecisionTreeClassifier\n",
    "from sklearn.metrics import accuracy_score\n",
    "from sklearn.metrics import classification_report\n",
    "from sklearn.metrics import confusion_matrix\n",
    "from sklearn.model_selection import RepeatedStratifiedKFold\n",
    "from sklearn.model_selection import GridSearchCV"
   ]
  },
  {
   "cell_type": "markdown",
   "metadata": {},
   "source": [
    "---\n",
    "---\n",
    "### Data Loading"
   ]
  },
  {
   "cell_type": "code",
   "execution_count": 426,
   "metadata": {},
   "outputs": [],
   "source": [
    "#load dataset\n",
    "df = pd.read_csv('heart.csv')"
   ]
  },
  {
   "cell_type": "code",
   "execution_count": 427,
   "metadata": {},
   "outputs": [
    {
     "data": {
      "text/html": [
       "<div>\n",
       "<style scoped>\n",
       "    .dataframe tbody tr th:only-of-type {\n",
       "        vertical-align: middle;\n",
       "    }\n",
       "\n",
       "    .dataframe tbody tr th {\n",
       "        vertical-align: top;\n",
       "    }\n",
       "\n",
       "    .dataframe thead th {\n",
       "        text-align: right;\n",
       "    }\n",
       "</style>\n",
       "<table border=\"1\" class=\"dataframe\">\n",
       "  <thead>\n",
       "    <tr style=\"text-align: right;\">\n",
       "      <th></th>\n",
       "      <th>age</th>\n",
       "      <th>sex</th>\n",
       "      <th>cp</th>\n",
       "      <th>trestbps</th>\n",
       "      <th>chol</th>\n",
       "      <th>fbs</th>\n",
       "      <th>restecg</th>\n",
       "      <th>thalach</th>\n",
       "      <th>exang</th>\n",
       "      <th>oldpeak</th>\n",
       "      <th>slope</th>\n",
       "      <th>ca</th>\n",
       "      <th>thal</th>\n",
       "      <th>target</th>\n",
       "    </tr>\n",
       "  </thead>\n",
       "  <tbody>\n",
       "    <tr>\n",
       "      <th>0</th>\n",
       "      <td>63</td>\n",
       "      <td>1</td>\n",
       "      <td>3</td>\n",
       "      <td>145</td>\n",
       "      <td>233</td>\n",
       "      <td>1</td>\n",
       "      <td>0</td>\n",
       "      <td>150</td>\n",
       "      <td>0</td>\n",
       "      <td>2.3</td>\n",
       "      <td>0</td>\n",
       "      <td>0</td>\n",
       "      <td>1</td>\n",
       "      <td>1</td>\n",
       "    </tr>\n",
       "    <tr>\n",
       "      <th>1</th>\n",
       "      <td>37</td>\n",
       "      <td>1</td>\n",
       "      <td>2</td>\n",
       "      <td>130</td>\n",
       "      <td>250</td>\n",
       "      <td>0</td>\n",
       "      <td>1</td>\n",
       "      <td>187</td>\n",
       "      <td>0</td>\n",
       "      <td>3.5</td>\n",
       "      <td>0</td>\n",
       "      <td>0</td>\n",
       "      <td>2</td>\n",
       "      <td>1</td>\n",
       "    </tr>\n",
       "    <tr>\n",
       "      <th>2</th>\n",
       "      <td>41</td>\n",
       "      <td>0</td>\n",
       "      <td>1</td>\n",
       "      <td>130</td>\n",
       "      <td>204</td>\n",
       "      <td>0</td>\n",
       "      <td>0</td>\n",
       "      <td>172</td>\n",
       "      <td>0</td>\n",
       "      <td>1.4</td>\n",
       "      <td>2</td>\n",
       "      <td>0</td>\n",
       "      <td>2</td>\n",
       "      <td>1</td>\n",
       "    </tr>\n",
       "    <tr>\n",
       "      <th>3</th>\n",
       "      <td>56</td>\n",
       "      <td>1</td>\n",
       "      <td>1</td>\n",
       "      <td>120</td>\n",
       "      <td>236</td>\n",
       "      <td>0</td>\n",
       "      <td>1</td>\n",
       "      <td>178</td>\n",
       "      <td>0</td>\n",
       "      <td>0.8</td>\n",
       "      <td>2</td>\n",
       "      <td>0</td>\n",
       "      <td>2</td>\n",
       "      <td>1</td>\n",
       "    </tr>\n",
       "    <tr>\n",
       "      <th>4</th>\n",
       "      <td>57</td>\n",
       "      <td>0</td>\n",
       "      <td>0</td>\n",
       "      <td>120</td>\n",
       "      <td>354</td>\n",
       "      <td>0</td>\n",
       "      <td>1</td>\n",
       "      <td>163</td>\n",
       "      <td>1</td>\n",
       "      <td>0.6</td>\n",
       "      <td>2</td>\n",
       "      <td>0</td>\n",
       "      <td>2</td>\n",
       "      <td>1</td>\n",
       "    </tr>\n",
       "  </tbody>\n",
       "</table>\n",
       "</div>"
      ],
      "text/plain": [
       "   age  sex  cp  trestbps  chol  fbs  restecg  thalach  exang  oldpeak  slope  \\\n",
       "0   63    1   3       145   233    1        0      150      0      2.3      0   \n",
       "1   37    1   2       130   250    0        1      187      0      3.5      0   \n",
       "2   41    0   1       130   204    0        0      172      0      1.4      2   \n",
       "3   56    1   1       120   236    0        1      178      0      0.8      2   \n",
       "4   57    0   0       120   354    0        1      163      1      0.6      2   \n",
       "\n",
       "   ca  thal  target  \n",
       "0   0     1       1  \n",
       "1   0     2       1  \n",
       "2   0     2       1  \n",
       "3   0     2       1  \n",
       "4   0     2       1  "
      ]
     },
     "execution_count": 427,
     "metadata": {},
     "output_type": "execute_result"
    }
   ],
   "source": [
    "df.head()"
   ]
  },
  {
   "cell_type": "code",
   "execution_count": 428,
   "metadata": {},
   "outputs": [],
   "source": [
    "heart_df = df.copy()"
   ]
  },
  {
   "cell_type": "code",
   "execution_count": 429,
   "metadata": {},
   "outputs": [
    {
     "name": "stdout",
     "output_type": "stream",
     "text": [
      "<class 'pandas.core.frame.DataFrame'>\n",
      "RangeIndex: 303 entries, 0 to 302\n",
      "Data columns (total 14 columns):\n",
      " #   Column    Non-Null Count  Dtype  \n",
      "---  ------    --------------  -----  \n",
      " 0   age       303 non-null    int64  \n",
      " 1   sex       303 non-null    int64  \n",
      " 2   cp        303 non-null    int64  \n",
      " 3   trestbps  303 non-null    int64  \n",
      " 4   chol      303 non-null    int64  \n",
      " 5   fbs       303 non-null    int64  \n",
      " 6   restecg   303 non-null    int64  \n",
      " 7   thalach   303 non-null    int64  \n",
      " 8   exang     303 non-null    int64  \n",
      " 9   oldpeak   303 non-null    float64\n",
      " 10  slope     303 non-null    int64  \n",
      " 11  ca        303 non-null    int64  \n",
      " 12  thal      303 non-null    int64  \n",
      " 13  target    303 non-null    int64  \n",
      "dtypes: float64(1), int64(13)\n",
      "memory usage: 33.3 KB\n"
     ]
    }
   ],
   "source": [
    "heart_df.info()"
   ]
  },
  {
   "cell_type": "code",
   "execution_count": 430,
   "metadata": {},
   "outputs": [
    {
     "data": {
      "text/html": [
       "<div>\n",
       "<style scoped>\n",
       "    .dataframe tbody tr th:only-of-type {\n",
       "        vertical-align: middle;\n",
       "    }\n",
       "\n",
       "    .dataframe tbody tr th {\n",
       "        vertical-align: top;\n",
       "    }\n",
       "\n",
       "    .dataframe thead th {\n",
       "        text-align: right;\n",
       "    }\n",
       "</style>\n",
       "<table border=\"1\" class=\"dataframe\">\n",
       "  <thead>\n",
       "    <tr style=\"text-align: right;\">\n",
       "      <th></th>\n",
       "      <th>age</th>\n",
       "      <th>sex</th>\n",
       "      <th>cp</th>\n",
       "      <th>trestbps</th>\n",
       "      <th>chol</th>\n",
       "      <th>fbs</th>\n",
       "      <th>restecg</th>\n",
       "      <th>thalach</th>\n",
       "      <th>exang</th>\n",
       "      <th>oldpeak</th>\n",
       "      <th>slope</th>\n",
       "      <th>ca</th>\n",
       "      <th>thal</th>\n",
       "      <th>target</th>\n",
       "    </tr>\n",
       "  </thead>\n",
       "  <tbody>\n",
       "    <tr>\n",
       "      <th>count</th>\n",
       "      <td>303.000000</td>\n",
       "      <td>303.000000</td>\n",
       "      <td>303.000000</td>\n",
       "      <td>303.000000</td>\n",
       "      <td>303.000000</td>\n",
       "      <td>303.000000</td>\n",
       "      <td>303.000000</td>\n",
       "      <td>303.000000</td>\n",
       "      <td>303.000000</td>\n",
       "      <td>303.000000</td>\n",
       "      <td>303.000000</td>\n",
       "      <td>303.000000</td>\n",
       "      <td>303.000000</td>\n",
       "      <td>303.000000</td>\n",
       "    </tr>\n",
       "    <tr>\n",
       "      <th>mean</th>\n",
       "      <td>54.366337</td>\n",
       "      <td>0.683168</td>\n",
       "      <td>0.966997</td>\n",
       "      <td>131.623762</td>\n",
       "      <td>246.264026</td>\n",
       "      <td>0.148515</td>\n",
       "      <td>0.528053</td>\n",
       "      <td>149.646865</td>\n",
       "      <td>0.326733</td>\n",
       "      <td>1.039604</td>\n",
       "      <td>1.399340</td>\n",
       "      <td>0.729373</td>\n",
       "      <td>2.313531</td>\n",
       "      <td>0.544554</td>\n",
       "    </tr>\n",
       "    <tr>\n",
       "      <th>std</th>\n",
       "      <td>9.082101</td>\n",
       "      <td>0.466011</td>\n",
       "      <td>1.032052</td>\n",
       "      <td>17.538143</td>\n",
       "      <td>51.830751</td>\n",
       "      <td>0.356198</td>\n",
       "      <td>0.525860</td>\n",
       "      <td>22.905161</td>\n",
       "      <td>0.469794</td>\n",
       "      <td>1.161075</td>\n",
       "      <td>0.616226</td>\n",
       "      <td>1.022606</td>\n",
       "      <td>0.612277</td>\n",
       "      <td>0.498835</td>\n",
       "    </tr>\n",
       "    <tr>\n",
       "      <th>min</th>\n",
       "      <td>29.000000</td>\n",
       "      <td>0.000000</td>\n",
       "      <td>0.000000</td>\n",
       "      <td>94.000000</td>\n",
       "      <td>126.000000</td>\n",
       "      <td>0.000000</td>\n",
       "      <td>0.000000</td>\n",
       "      <td>71.000000</td>\n",
       "      <td>0.000000</td>\n",
       "      <td>0.000000</td>\n",
       "      <td>0.000000</td>\n",
       "      <td>0.000000</td>\n",
       "      <td>0.000000</td>\n",
       "      <td>0.000000</td>\n",
       "    </tr>\n",
       "    <tr>\n",
       "      <th>25%</th>\n",
       "      <td>47.500000</td>\n",
       "      <td>0.000000</td>\n",
       "      <td>0.000000</td>\n",
       "      <td>120.000000</td>\n",
       "      <td>211.000000</td>\n",
       "      <td>0.000000</td>\n",
       "      <td>0.000000</td>\n",
       "      <td>133.500000</td>\n",
       "      <td>0.000000</td>\n",
       "      <td>0.000000</td>\n",
       "      <td>1.000000</td>\n",
       "      <td>0.000000</td>\n",
       "      <td>2.000000</td>\n",
       "      <td>0.000000</td>\n",
       "    </tr>\n",
       "    <tr>\n",
       "      <th>50%</th>\n",
       "      <td>55.000000</td>\n",
       "      <td>1.000000</td>\n",
       "      <td>1.000000</td>\n",
       "      <td>130.000000</td>\n",
       "      <td>240.000000</td>\n",
       "      <td>0.000000</td>\n",
       "      <td>1.000000</td>\n",
       "      <td>153.000000</td>\n",
       "      <td>0.000000</td>\n",
       "      <td>0.800000</td>\n",
       "      <td>1.000000</td>\n",
       "      <td>0.000000</td>\n",
       "      <td>2.000000</td>\n",
       "      <td>1.000000</td>\n",
       "    </tr>\n",
       "    <tr>\n",
       "      <th>75%</th>\n",
       "      <td>61.000000</td>\n",
       "      <td>1.000000</td>\n",
       "      <td>2.000000</td>\n",
       "      <td>140.000000</td>\n",
       "      <td>274.500000</td>\n",
       "      <td>0.000000</td>\n",
       "      <td>1.000000</td>\n",
       "      <td>166.000000</td>\n",
       "      <td>1.000000</td>\n",
       "      <td>1.600000</td>\n",
       "      <td>2.000000</td>\n",
       "      <td>1.000000</td>\n",
       "      <td>3.000000</td>\n",
       "      <td>1.000000</td>\n",
       "    </tr>\n",
       "    <tr>\n",
       "      <th>max</th>\n",
       "      <td>77.000000</td>\n",
       "      <td>1.000000</td>\n",
       "      <td>3.000000</td>\n",
       "      <td>200.000000</td>\n",
       "      <td>564.000000</td>\n",
       "      <td>1.000000</td>\n",
       "      <td>2.000000</td>\n",
       "      <td>202.000000</td>\n",
       "      <td>1.000000</td>\n",
       "      <td>6.200000</td>\n",
       "      <td>2.000000</td>\n",
       "      <td>4.000000</td>\n",
       "      <td>3.000000</td>\n",
       "      <td>1.000000</td>\n",
       "    </tr>\n",
       "  </tbody>\n",
       "</table>\n",
       "</div>"
      ],
      "text/plain": [
       "              age         sex          cp    trestbps        chol         fbs  \\\n",
       "count  303.000000  303.000000  303.000000  303.000000  303.000000  303.000000   \n",
       "mean    54.366337    0.683168    0.966997  131.623762  246.264026    0.148515   \n",
       "std      9.082101    0.466011    1.032052   17.538143   51.830751    0.356198   \n",
       "min     29.000000    0.000000    0.000000   94.000000  126.000000    0.000000   \n",
       "25%     47.500000    0.000000    0.000000  120.000000  211.000000    0.000000   \n",
       "50%     55.000000    1.000000    1.000000  130.000000  240.000000    0.000000   \n",
       "75%     61.000000    1.000000    2.000000  140.000000  274.500000    0.000000   \n",
       "max     77.000000    1.000000    3.000000  200.000000  564.000000    1.000000   \n",
       "\n",
       "          restecg     thalach       exang     oldpeak       slope          ca  \\\n",
       "count  303.000000  303.000000  303.000000  303.000000  303.000000  303.000000   \n",
       "mean     0.528053  149.646865    0.326733    1.039604    1.399340    0.729373   \n",
       "std      0.525860   22.905161    0.469794    1.161075    0.616226    1.022606   \n",
       "min      0.000000   71.000000    0.000000    0.000000    0.000000    0.000000   \n",
       "25%      0.000000  133.500000    0.000000    0.000000    1.000000    0.000000   \n",
       "50%      1.000000  153.000000    0.000000    0.800000    1.000000    0.000000   \n",
       "75%      1.000000  166.000000    1.000000    1.600000    2.000000    1.000000   \n",
       "max      2.000000  202.000000    1.000000    6.200000    2.000000    4.000000   \n",
       "\n",
       "             thal      target  \n",
       "count  303.000000  303.000000  \n",
       "mean     2.313531    0.544554  \n",
       "std      0.612277    0.498835  \n",
       "min      0.000000    0.000000  \n",
       "25%      2.000000    0.000000  \n",
       "50%      2.000000    1.000000  \n",
       "75%      3.000000    1.000000  \n",
       "max      3.000000    1.000000  "
      ]
     },
     "execution_count": 430,
     "metadata": {},
     "output_type": "execute_result"
    }
   ],
   "source": [
    "heart_df.describe()"
   ]
  },
  {
   "cell_type": "code",
   "execution_count": 431,
   "metadata": {},
   "outputs": [
    {
     "data": {
      "text/plain": [
       "age         0\n",
       "sex         0\n",
       "cp          0\n",
       "trestbps    0\n",
       "chol        0\n",
       "fbs         0\n",
       "restecg     0\n",
       "thalach     0\n",
       "exang       0\n",
       "oldpeak     0\n",
       "slope       0\n",
       "ca          0\n",
       "thal        0\n",
       "target      0\n",
       "dtype: int64"
      ]
     },
     "execution_count": 431,
     "metadata": {},
     "output_type": "execute_result"
    }
   ],
   "source": [
    "heart_df.isnull().sum()"
   ]
  },
  {
   "cell_type": "code",
   "execution_count": 432,
   "metadata": {},
   "outputs": [
    {
     "data": {
      "text/plain": [
       "Index(['age', 'sex', 'cp', 'trestbps', 'chol', 'fbs', 'restecg', 'thalach',\n",
       "       'exang', 'oldpeak', 'slope', 'ca', 'thal', 'target'],\n",
       "      dtype='object')"
      ]
     },
     "execution_count": 432,
     "metadata": {},
     "output_type": "execute_result"
    }
   ],
   "source": [
    "heart_df.columns"
   ]
  },
  {
   "cell_type": "code",
   "execution_count": 433,
   "metadata": {},
   "outputs": [
    {
     "data": {
      "text/plain": [
       "(303, 14)"
      ]
     },
     "execution_count": 433,
     "metadata": {},
     "output_type": "execute_result"
    }
   ],
   "source": [
    "heart_df.shape"
   ]
  },
  {
   "cell_type": "markdown",
   "metadata": {},
   "source": [
    "#### Note :\n",
    "1. terdapat 303 baris dan 14 kolom pada dataset \n",
    "2. kolom target yang akan dibuat model klasifikasinya adalah kolom _target_ yang dimana menjelaskan chance dari terjadinya serangan jantung pada pasien\n",
    "3. tidak terdapat missing value pada dataset\n",
    "4. dari deskripsi dataset, sulit menentukan apakah terdapat outlier apa tidak, karena tidak terdapat nilai yang aneh"
   ]
  },
  {
   "cell_type": "markdown",
   "metadata": {},
   "source": [
    "---\n",
    "---\n",
    "### Exploratory Data Analysis (EDA)"
   ]
  },
  {
   "cell_type": "markdown",
   "metadata": {},
   "source": [
    "#### Step by Step\n",
    "1. Target analysis\n",
    "2. Variabel analysis\n",
    "3. Cek missing value\n",
    "4. Cek Outlier"
   ]
  },
  {
   "cell_type": "markdown",
   "metadata": {},
   "source": [
    "---\n",
    "1. Target analysis"
   ]
  },
  {
   "cell_type": "code",
   "execution_count": 434,
   "metadata": {},
   "outputs": [],
   "source": [
    "#ubah nama pada target, sehingga lebih menjelaskan value dari kolom\n",
    "heart_df = heart_df.rename(columns={\"target\": \"heartattack_chance\"})"
   ]
  },
  {
   "cell_type": "code",
   "execution_count": 435,
   "metadata": {},
   "outputs": [
    {
     "data": {
      "text/plain": [
       "array([1, 0], dtype=int64)"
      ]
     },
     "execution_count": 435,
     "metadata": {},
     "output_type": "execute_result"
    }
   ],
   "source": [
    "#check unik value\n",
    "heart_df.heartattack_chance.unique()"
   ]
  },
  {
   "cell_type": "code",
   "execution_count": 436,
   "metadata": {},
   "outputs": [],
   "source": [
    "heart_count = heart_df.groupby('heartattack_chance').size().reset_index(name=\"counts\")"
   ]
  },
  {
   "cell_type": "code",
   "execution_count": 437,
   "metadata": {},
   "outputs": [
    {
     "name": "stdout",
     "output_type": "stream",
     "text": [
      "   heartattack_chance  counts\n",
      "0                   0     138\n",
      "1                   1     165\n"
     ]
    },
    {
     "data": {
      "image/png": "[encoded data removed]",
      "text/plain": [
       "<Figure size 576x432 with 1 Axes>"
      ]
     },
     "metadata": {
      "needs_background": "light"
     },
     "output_type": "display_data"
    }
   ],
   "source": [
    "#visualisasi dari kolom target\n",
    "print(heart_count)\n",
    "plt.figure(figsize=(8, 6))\n",
    "ax = sns.barplot(x=\"heartattack_chance\", y=\"counts\", data=heart_count)"
   ]
  },
  {
   "cell_type": "markdown",
   "metadata": {},
   "source": [
    "#### Note :\n",
    "1. Ubah nama _target_ menjadi _heartattack_chance_ sehingga lebih dikenali dan menjelaskan value pada target\n",
    "2. terdapat 2 value, yaitu 0 = kurang potensi terjadinya heartattack, 1 = potensi terjadinya heartattack\n",
    "3. lebih banyak pasien yang memiliki potensi terjadinya heartattack (165), dibandingkan yang tidak (138)"
   ]
  },
  {
   "cell_type": "markdown",
   "metadata": {},
   "source": [
    "---\n",
    "2. Variable Analysis"
   ]
  },
  {
   "cell_type": "code",
   "execution_count": 438,
   "metadata": {},
   "outputs": [
    {
     "name": "stdout",
     "output_type": "stream",
     "text": [
      "num columns :  ['age', 'sex', 'cp', 'trestbps', 'chol', 'fbs', 'restecg', 'thalach', 'exang', 'oldpeak', 'slope', 'ca', 'thal', 'heartattack_chance']\n",
      "cat columns :  []\n"
     ]
    }
   ],
   "source": [
    "#cek apakah terdapat numerice atau categorical value\n",
    "num_columns = heart_df.select_dtypes(include=np.number).columns.tolist()\n",
    "cat_columns = heart_df.select_dtypes(include=['object']).columns.tolist()\n",
    "\n",
    "print('num columns : ', num_columns)\n",
    "print('cat columns : ', cat_columns)"
   ]
  },
  {
   "cell_type": "code",
   "execution_count": 439,
   "metadata": {},
   "outputs": [
    {
     "data": {
      "text/plain": [
       "Text(0, 0.5, 'thelach')"
      ]
     },
     "execution_count": 439,
     "metadata": {},
     "output_type": "execute_result"
    },
    {
     "data": {
      "image/png": "[encoded data removed]",
      "text/plain": [
       "<Figure size 1080x720 with 3 Axes>"
      ]
     },
     "metadata": {
      "needs_background": "light"
     },
     "output_type": "display_data"
    }
   ],
   "source": [
    "#cek outlier menggunakan boxplot\n",
    "plt.figure(figsize=(15,10))\n",
    "\n",
    "plt.subplot(2, 2, 1)\n",
    "fig = heart_df.boxplot(column='trestbps')\n",
    "fig.set_title('')\n",
    "fig.set_ylabel('testbps')\n",
    "\n",
    "\n",
    "plt.subplot(2, 2, 2)\n",
    "fig = heart_df.boxplot(column='chol')\n",
    "fig.set_title('')\n",
    "fig.set_ylabel('chol')\n",
    "\n",
    "\n",
    "plt.subplot(2, 2, 3)\n",
    "fig = heart_df.boxplot(column='thalach')\n",
    "fig.set_title('')\n",
    "fig.set_ylabel('thelach')\n"
   ]
  },
  {
   "cell_type": "code",
   "execution_count": 440,
   "metadata": {},
   "outputs": [
    {
     "data": {
      "text/plain": [
       "Text(0, 0.5, 'heartattack_chance')"
      ]
     },
     "execution_count": 440,
     "metadata": {},
     "output_type": "execute_result"
    },
    {
     "data": {
      "image/png": "[encoded data removed]",
      "text/plain": [
       "<Figure size 1080x864 with 3 Axes>"
      ]
     },
     "metadata": {
      "needs_background": "light"
     },
     "output_type": "display_data"
    }
   ],
   "source": [
    "#cek distribusi pada dataset\n",
    "plt.figure(figsize=(15,12))\n",
    "\n",
    "\n",
    "plt.subplot(3, 2, 1)\n",
    "fig = heart_df['trestbps'].hist(bins=10)\n",
    "fig.set_xlabel('tretbps')\n",
    "fig.set_ylabel('heartattack_chance')\n",
    "\n",
    "\n",
    "plt.subplot(3, 2, 2)\n",
    "fig = heart_df['chol'].hist(bins=10)\n",
    "fig.set_xlabel('chol')\n",
    "fig.set_ylabel('heartattack_chance')\n",
    "\n",
    "\n",
    "plt.subplot(3, 2, 3)\n",
    "fig = heart_df['thalach'].hist(bins=10)\n",
    "fig.set_xlabel('thalach')\n",
    "fig.set_ylabel('heartattack_chance')"
   ]
  },
  {
   "cell_type": "code",
   "execution_count": 441,
   "metadata": {},
   "outputs": [
    {
     "data": {
      "text/plain": [
       "<AxesSubplot:>"
      ]
     },
     "execution_count": 441,
     "metadata": {},
     "output_type": "execute_result"
    },
    {
     "data": {
      "image/png": "[encoded data removed]",
      "text/plain": [
       "<Figure size 1152x720 with 2 Axes>"
      ]
     },
     "metadata": {
      "needs_background": "light"
     },
     "output_type": "display_data"
    }
   ],
   "source": [
    "#cek heatmap korelasi antara feature dan target\n",
    "num_corr = heart_df[num_columns]\n",
    "plt.figure(figsize=(16,10))\n",
    "sns.heatmap(num_corr.corr(),annot=True)"
   ]
  },
  {
   "cell_type": "code",
   "execution_count": 442,
   "metadata": {},
   "outputs": [
    {
     "data": {
      "text/plain": [
       "0    175\n",
       "1     65\n",
       "2     38\n",
       "3     20\n",
       "4      5\n",
       "Name: ca, dtype: int64"
      ]
     },
     "execution_count": 442,
     "metadata": {},
     "output_type": "execute_result"
    }
   ],
   "source": [
    "heart_df.ca.value_counts()"
   ]
  },
  {
   "cell_type": "code",
   "execution_count": 443,
   "metadata": {},
   "outputs": [
    {
     "data": {
      "text/plain": [
       "2    166\n",
       "3    117\n",
       "1     18\n",
       "0      2\n",
       "Name: thal, dtype: int64"
      ]
     },
     "execution_count": 443,
     "metadata": {},
     "output_type": "execute_result"
    }
   ],
   "source": [
    "heart_df.thal.value_counts()"
   ]
  },
  {
   "cell_type": "markdown",
   "metadata": {},
   "source": [
    "#### Note :\n",
    "1. tidak terdapat missing value pada feature atau target\n",
    "2. kolom hanya bertype numeric saja, tidak ada categorical \n",
    "3. dari visualisasi boxplot, terdapat 3 kolom yang memiliki outlier\n",
    "4. sebenarnya terdapat keanehan pada kolom thal, dan ca. pada kolom thal terdapat 4 value 0 - 3 sedangkan pada deskripsi dataset hanya dijelaskan 0 - 2, dan pada kolom ca terdapat 5 value (0 - 4) sedangkan pada deskripsi dataset, hanya terdapat 4 value (0 - 3). karena minimnya pengetahuan maka peneliti tidak bisa untuk menghapus atau melihat itu sebagai outlier\n",
    "5. korelasi heatmap, menjelaskan hampir semua feature mempunyai relasi dengan target, namu ada 2 kolom yang mempunyai relasi lemah terhadap kolom yaitu fbs dan col <br>\n",
    "namun berdasarkan refrensi yang terlah ditemukan, bahwa kedua feature tersebut memiliki keterkaitan dengan target secara medis, sehingga tidak didrop"
   ]
  },
  {
   "cell_type": "markdown",
   "metadata": {},
   "source": [
    "Ref : <br>\n",
    "https://pubmed.ncbi.nlm.nih.gov/23404299/\n",
    "\n",
    "https://www.healthline.com/health/blood-pressure-changes-during-heart-attack#is-it-a-warningsign"
   ]
  },
  {
   "cell_type": "markdown",
   "metadata": {},
   "source": [
    "---\n",
    "---\n",
    "### Data Preprocessing\n",
    "\n",
    "#### Step by Step   :\n",
    "1.  Split Train dan test set\n",
    "2.  Handling missing value\n",
    "3.  Handling outlier\n",
    "4.  Scalling\n"
   ]
  },
  {
   "cell_type": "markdown",
   "metadata": {},
   "source": [
    "---\n",
    "1. Spliting"
   ]
  },
  {
   "cell_type": "code",
   "execution_count": 444,
   "metadata": {},
   "outputs": [],
   "source": [
    "X = heart_df.drop(columns=['heartattack_chance'], axis=1)\n",
    "y = heart_df['heartattack_chance']"
   ]
  },
  {
   "cell_type": "code",
   "execution_count": 445,
   "metadata": {},
   "outputs": [],
   "source": [
    "#split data X, y with parameter 20% test and 80% training set\n",
    "X_train, X_test, y_train, y_test = train_test_split(X, y, test_size=0.2, random_state=0)"
   ]
  },
  {
   "cell_type": "markdown",
   "metadata": {},
   "source": [
    "---\n",
    "2. handling missing value"
   ]
  },
  {
   "cell_type": "code",
   "execution_count": 446,
   "metadata": {},
   "outputs": [
    {
     "data": {
      "text/plain": [
       "age         0\n",
       "sex         0\n",
       "cp          0\n",
       "trestbps    0\n",
       "chol        0\n",
       "fbs         0\n",
       "restecg     0\n",
       "thalach     0\n",
       "exang       0\n",
       "oldpeak     0\n",
       "slope       0\n",
       "ca          0\n",
       "thal        0\n",
       "dtype: int64"
      ]
     },
     "execution_count": 446,
     "metadata": {},
     "output_type": "execute_result"
    }
   ],
   "source": [
    "X_train.isnull().sum()"
   ]
  },
  {
   "cell_type": "markdown",
   "metadata": {},
   "source": [
    "---\n",
    "3. Handling outlier"
   ]
  },
  {
   "cell_type": "code",
   "execution_count": 447,
   "metadata": {},
   "outputs": [],
   "source": [
    "def calc_outlier(new_df, col):\n",
    "\n",
    "    q1 = np.quantile(new_df[col], 0.25)\n",
    "    q3 = np.quantile(new_df[col], 0.75)\n",
    "    iqr = q3 - q1\n",
    "\n",
    "    #cari batas atas dan batas bawah\n",
    "    upper = q3 + 1.5 * iqr\n",
    "    lower = q1 - 1.5 * iqr\n",
    "    \n",
    "    new_df[col] = np.where(\n",
    "    new_df[col] > upper,\n",
    "    upper,\n",
    "    np.where(\n",
    "        new_df[col] < lower,\n",
    "        lower,\n",
    "        new_df[col]\n",
    "        )\n",
    "    )"
   ]
  },
  {
   "cell_type": "code",
   "execution_count": 448,
   "metadata": {},
   "outputs": [],
   "source": [
    "#cek outlier\n",
    "calc_outlier(X_train, 'trestbps')\n",
    "calc_outlier(X_train, 'chol')\n",
    "calc_outlier(X_train, 'thalach')\n"
   ]
  },
  {
   "cell_type": "code",
   "execution_count": 449,
   "metadata": {},
   "outputs": [
    {
     "data": {
      "text/html": [
       "<div>\n",
       "<style scoped>\n",
       "    .dataframe tbody tr th:only-of-type {\n",
       "        vertical-align: middle;\n",
       "    }\n",
       "\n",
       "    .dataframe tbody tr th {\n",
       "        vertical-align: top;\n",
       "    }\n",
       "\n",
       "    .dataframe thead th {\n",
       "        text-align: right;\n",
       "    }\n",
       "</style>\n",
       "<table border=\"1\" class=\"dataframe\">\n",
       "  <thead>\n",
       "    <tr style=\"text-align: right;\">\n",
       "      <th></th>\n",
       "      <th>age</th>\n",
       "      <th>sex</th>\n",
       "      <th>cp</th>\n",
       "      <th>trestbps</th>\n",
       "      <th>chol</th>\n",
       "      <th>fbs</th>\n",
       "      <th>restecg</th>\n",
       "      <th>thalach</th>\n",
       "      <th>exang</th>\n",
       "      <th>oldpeak</th>\n",
       "      <th>slope</th>\n",
       "      <th>ca</th>\n",
       "      <th>thal</th>\n",
       "    </tr>\n",
       "  </thead>\n",
       "  <tbody>\n",
       "    <tr>\n",
       "      <th>count</th>\n",
       "      <td>242.000000</td>\n",
       "      <td>242.000000</td>\n",
       "      <td>242.000000</td>\n",
       "      <td>242.000000</td>\n",
       "      <td>242.000000</td>\n",
       "      <td>242.00000</td>\n",
       "      <td>242.000000</td>\n",
       "      <td>242.000000</td>\n",
       "      <td>242.000000</td>\n",
       "      <td>242.000000</td>\n",
       "      <td>242.000000</td>\n",
       "      <td>242.000000</td>\n",
       "      <td>242.000000</td>\n",
       "    </tr>\n",
       "    <tr>\n",
       "      <th>mean</th>\n",
       "      <td>54.851240</td>\n",
       "      <td>0.673554</td>\n",
       "      <td>0.966942</td>\n",
       "      <td>131.524793</td>\n",
       "      <td>245.685950</td>\n",
       "      <td>0.14876</td>\n",
       "      <td>0.520661</td>\n",
       "      <td>149.893595</td>\n",
       "      <td>0.334711</td>\n",
       "      <td>1.063223</td>\n",
       "      <td>1.409091</td>\n",
       "      <td>0.727273</td>\n",
       "      <td>2.289256</td>\n",
       "    </tr>\n",
       "    <tr>\n",
       "      <th>std</th>\n",
       "      <td>8.944421</td>\n",
       "      <td>0.469885</td>\n",
       "      <td>1.050065</td>\n",
       "      <td>16.355535</td>\n",
       "      <td>49.199616</td>\n",
       "      <td>0.35659</td>\n",
       "      <td>0.532732</td>\n",
       "      <td>22.962338</td>\n",
       "      <td>0.472867</td>\n",
       "      <td>1.193764</td>\n",
       "      <td>0.619530</td>\n",
       "      <td>1.030651</td>\n",
       "      <td>0.623709</td>\n",
       "    </tr>\n",
       "    <tr>\n",
       "      <th>min</th>\n",
       "      <td>29.000000</td>\n",
       "      <td>0.000000</td>\n",
       "      <td>0.000000</td>\n",
       "      <td>94.000000</td>\n",
       "      <td>131.000000</td>\n",
       "      <td>0.00000</td>\n",
       "      <td>0.000000</td>\n",
       "      <td>87.250000</td>\n",
       "      <td>0.000000</td>\n",
       "      <td>0.000000</td>\n",
       "      <td>0.000000</td>\n",
       "      <td>0.000000</td>\n",
       "      <td>0.000000</td>\n",
       "    </tr>\n",
       "    <tr>\n",
       "      <th>25%</th>\n",
       "      <td>48.000000</td>\n",
       "      <td>0.000000</td>\n",
       "      <td>0.000000</td>\n",
       "      <td>120.000000</td>\n",
       "      <td>209.250000</td>\n",
       "      <td>0.00000</td>\n",
       "      <td>0.000000</td>\n",
       "      <td>134.500000</td>\n",
       "      <td>0.000000</td>\n",
       "      <td>0.000000</td>\n",
       "      <td>1.000000</td>\n",
       "      <td>0.000000</td>\n",
       "      <td>2.000000</td>\n",
       "    </tr>\n",
       "    <tr>\n",
       "      <th>50%</th>\n",
       "      <td>56.000000</td>\n",
       "      <td>1.000000</td>\n",
       "      <td>1.000000</td>\n",
       "      <td>130.000000</td>\n",
       "      <td>240.000000</td>\n",
       "      <td>0.00000</td>\n",
       "      <td>1.000000</td>\n",
       "      <td>153.000000</td>\n",
       "      <td>0.000000</td>\n",
       "      <td>0.800000</td>\n",
       "      <td>1.000000</td>\n",
       "      <td>0.000000</td>\n",
       "      <td>2.000000</td>\n",
       "    </tr>\n",
       "    <tr>\n",
       "      <th>75%</th>\n",
       "      <td>61.000000</td>\n",
       "      <td>1.000000</td>\n",
       "      <td>2.000000</td>\n",
       "      <td>140.000000</td>\n",
       "      <td>277.750000</td>\n",
       "      <td>0.00000</td>\n",
       "      <td>1.000000</td>\n",
       "      <td>166.000000</td>\n",
       "      <td>1.000000</td>\n",
       "      <td>1.750000</td>\n",
       "      <td>2.000000</td>\n",
       "      <td>1.000000</td>\n",
       "      <td>3.000000</td>\n",
       "    </tr>\n",
       "    <tr>\n",
       "      <th>max</th>\n",
       "      <td>77.000000</td>\n",
       "      <td>1.000000</td>\n",
       "      <td>3.000000</td>\n",
       "      <td>170.000000</td>\n",
       "      <td>380.500000</td>\n",
       "      <td>1.00000</td>\n",
       "      <td>2.000000</td>\n",
       "      <td>202.000000</td>\n",
       "      <td>1.000000</td>\n",
       "      <td>6.200000</td>\n",
       "      <td>2.000000</td>\n",
       "      <td>4.000000</td>\n",
       "      <td>3.000000</td>\n",
       "    </tr>\n",
       "  </tbody>\n",
       "</table>\n",
       "</div>"
      ],
      "text/plain": [
       "              age         sex          cp    trestbps        chol        fbs  \\\n",
       "count  242.000000  242.000000  242.000000  242.000000  242.000000  242.00000   \n",
       "mean    54.851240    0.673554    0.966942  131.524793  245.685950    0.14876   \n",
       "std      8.944421    0.469885    1.050065   16.355535   49.199616    0.35659   \n",
       "min     29.000000    0.000000    0.000000   94.000000  131.000000    0.00000   \n",
       "25%     48.000000    0.000000    0.000000  120.000000  209.250000    0.00000   \n",
       "50%     56.000000    1.000000    1.000000  130.000000  240.000000    0.00000   \n",
       "75%     61.000000    1.000000    2.000000  140.000000  277.750000    0.00000   \n",
       "max     77.000000    1.000000    3.000000  170.000000  380.500000    1.00000   \n",
       "\n",
       "          restecg     thalach       exang     oldpeak       slope          ca  \\\n",
       "count  242.000000  242.000000  242.000000  242.000000  242.000000  242.000000   \n",
       "mean     0.520661  149.893595    0.334711    1.063223    1.409091    0.727273   \n",
       "std      0.532732   22.962338    0.472867    1.193764    0.619530    1.030651   \n",
       "min      0.000000   87.250000    0.000000    0.000000    0.000000    0.000000   \n",
       "25%      0.000000  134.500000    0.000000    0.000000    1.000000    0.000000   \n",
       "50%      1.000000  153.000000    0.000000    0.800000    1.000000    0.000000   \n",
       "75%      1.000000  166.000000    1.000000    1.750000    2.000000    1.000000   \n",
       "max      2.000000  202.000000    1.000000    6.200000    2.000000    4.000000   \n",
       "\n",
       "             thal  \n",
       "count  242.000000  \n",
       "mean     2.289256  \n",
       "std      0.623709  \n",
       "min      0.000000  \n",
       "25%      2.000000  \n",
       "50%      2.000000  \n",
       "75%      3.000000  \n",
       "max      3.000000  "
      ]
     },
     "execution_count": 449,
     "metadata": {},
     "output_type": "execute_result"
    }
   ],
   "source": [
    "X_train.describe()"
   ]
  },
  {
   "cell_type": "markdown",
   "metadata": {},
   "source": [
    "---\n",
    "4. Feature Scalling"
   ]
  },
  {
   "cell_type": "code",
   "execution_count": 450,
   "metadata": {},
   "outputs": [],
   "source": [
    "scaler = StandardScaler()\n",
    "scaler.fit(X_train) \n",
    "\n",
    "X_train_final = scaler.transform(X_train)\n",
    "X_test_final = scaler.transform(X_test)"
   ]
  },
  {
   "cell_type": "code",
   "execution_count": 451,
   "metadata": {},
   "outputs": [
    {
     "data": {
      "text/plain": [
       "array([[-1.32773282, -1.43641607,  0.98584243, ..., -0.66169316,\n",
       "        -0.70710678, -0.46472917],\n",
       "       [ 1.24903178, -1.43641607,  0.98584243, ..., -0.66169316,\n",
       "         0.26516504, -0.46472917],\n",
       "       [ 0.35276583,  0.69617712,  0.98584243, ...,  0.95577901,\n",
       "        -0.70710678, -0.46472917],\n",
       "       ...,\n",
       "       [ 0.12869935,  0.69617712,  1.94013791, ..., -0.66169316,\n",
       "        -0.70710678,  1.14190596],\n",
       "       [-0.87959984,  0.69617712,  0.98584243, ...,  0.95577901,\n",
       "        -0.70710678, -0.46472917],\n",
       "       [ 0.35276583,  0.69617712,  0.03154696, ..., -0.66169316,\n",
       "        -0.70710678, -0.46472917]])"
      ]
     },
     "execution_count": 451,
     "metadata": {},
     "output_type": "execute_result"
    }
   ],
   "source": [
    "X_train_final"
   ]
  },
  {
   "cell_type": "code",
   "execution_count": 452,
   "metadata": {},
   "outputs": [],
   "source": [
    "numeric_columns = X_train.select_dtypes(include=np.number).columns.tolist()\n",
    "df_num = pd.DataFrame(X_train_final, columns=numeric_columns)"
   ]
  },
  {
   "cell_type": "code",
   "execution_count": 453,
   "metadata": {},
   "outputs": [
    {
     "data": {
      "text/html": [
       "<div>\n",
       "<style scoped>\n",
       "    .dataframe tbody tr th:only-of-type {\n",
       "        vertical-align: middle;\n",
       "    }\n",
       "\n",
       "    .dataframe tbody tr th {\n",
       "        vertical-align: top;\n",
       "    }\n",
       "\n",
       "    .dataframe thead th {\n",
       "        text-align: right;\n",
       "    }\n",
       "</style>\n",
       "<table border=\"1\" class=\"dataframe\">\n",
       "  <thead>\n",
       "    <tr style=\"text-align: right;\">\n",
       "      <th></th>\n",
       "      <th>age</th>\n",
       "      <th>sex</th>\n",
       "      <th>cp</th>\n",
       "      <th>trestbps</th>\n",
       "      <th>chol</th>\n",
       "      <th>fbs</th>\n",
       "      <th>restecg</th>\n",
       "      <th>thalach</th>\n",
       "      <th>exang</th>\n",
       "      <th>oldpeak</th>\n",
       "      <th>slope</th>\n",
       "      <th>ca</th>\n",
       "      <th>thal</th>\n",
       "    </tr>\n",
       "  </thead>\n",
       "  <tbody>\n",
       "    <tr>\n",
       "      <th>0</th>\n",
       "      <td>-1.327733</td>\n",
       "      <td>-1.436416</td>\n",
       "      <td>0.985842</td>\n",
       "      <td>-0.583566</td>\n",
       "      <td>-0.665731</td>\n",
       "      <td>-0.418040</td>\n",
       "      <td>0.901639</td>\n",
       "      <td>0.659241</td>\n",
       "      <td>-0.709299</td>\n",
       "      <td>-0.724609</td>\n",
       "      <td>-0.661693</td>\n",
       "      <td>-0.707107</td>\n",
       "      <td>-0.464729</td>\n",
       "    </tr>\n",
       "    <tr>\n",
       "      <th>1</th>\n",
       "      <td>1.249032</td>\n",
       "      <td>-1.436416</td>\n",
       "      <td>0.985842</td>\n",
       "      <td>0.886868</td>\n",
       "      <td>0.658156</td>\n",
       "      <td>-0.418040</td>\n",
       "      <td>-0.979367</td>\n",
       "      <td>0.091923</td>\n",
       "      <td>-0.709299</td>\n",
       "      <td>-0.892493</td>\n",
       "      <td>-0.661693</td>\n",
       "      <td>0.265165</td>\n",
       "      <td>-0.464729</td>\n",
       "    </tr>\n",
       "    <tr>\n",
       "      <th>2</th>\n",
       "      <td>0.352766</td>\n",
       "      <td>0.696177</td>\n",
       "      <td>0.985842</td>\n",
       "      <td>0.519260</td>\n",
       "      <td>-0.706466</td>\n",
       "      <td>2.392117</td>\n",
       "      <td>-0.979367</td>\n",
       "      <td>0.659241</td>\n",
       "      <td>-0.709299</td>\n",
       "      <td>-0.892493</td>\n",
       "      <td>0.955779</td>\n",
       "      <td>-0.707107</td>\n",
       "      <td>-0.464729</td>\n",
       "    </tr>\n",
       "    <tr>\n",
       "      <th>3</th>\n",
       "      <td>0.912932</td>\n",
       "      <td>-1.436416</td>\n",
       "      <td>-0.922749</td>\n",
       "      <td>-0.461030</td>\n",
       "      <td>-0.991610</td>\n",
       "      <td>-0.418040</td>\n",
       "      <td>0.901639</td>\n",
       "      <td>-0.606314</td>\n",
       "      <td>1.409842</td>\n",
       "      <td>-0.892493</td>\n",
       "      <td>-0.661693</td>\n",
       "      <td>-0.707107</td>\n",
       "      <td>-0.464729</td>\n",
       "    </tr>\n",
       "    <tr>\n",
       "      <th>4</th>\n",
       "      <td>0.240733</td>\n",
       "      <td>0.696177</td>\n",
       "      <td>0.031547</td>\n",
       "      <td>1.377013</td>\n",
       "      <td>-0.278748</td>\n",
       "      <td>-0.418040</td>\n",
       "      <td>-0.979367</td>\n",
       "      <td>0.615601</td>\n",
       "      <td>-0.709299</td>\n",
       "      <td>-0.892493</td>\n",
       "      <td>0.955779</td>\n",
       "      <td>0.265165</td>\n",
       "      <td>-0.464729</td>\n",
       "    </tr>\n",
       "    <tr>\n",
       "      <th>...</th>\n",
       "      <td>...</td>\n",
       "      <td>...</td>\n",
       "      <td>...</td>\n",
       "      <td>...</td>\n",
       "      <td>...</td>\n",
       "      <td>...</td>\n",
       "      <td>...</td>\n",
       "      <td>...</td>\n",
       "      <td>...</td>\n",
       "      <td>...</td>\n",
       "      <td>...</td>\n",
       "      <td>...</td>\n",
       "      <td>...</td>\n",
       "    </tr>\n",
       "    <tr>\n",
       "      <th>237</th>\n",
       "      <td>-1.327733</td>\n",
       "      <td>0.696177</td>\n",
       "      <td>-0.922749</td>\n",
       "      <td>0.029115</td>\n",
       "      <td>0.026764</td>\n",
       "      <td>2.392117</td>\n",
       "      <td>-0.979367</td>\n",
       "      <td>-0.300835</td>\n",
       "      <td>1.409842</td>\n",
       "      <td>-0.808551</td>\n",
       "      <td>-0.661693</td>\n",
       "      <td>3.181981</td>\n",
       "      <td>1.141906</td>\n",
       "    </tr>\n",
       "    <tr>\n",
       "      <th>238</th>\n",
       "      <td>-0.095367</td>\n",
       "      <td>0.696177</td>\n",
       "      <td>-0.922749</td>\n",
       "      <td>-0.706102</td>\n",
       "      <td>-1.174918</td>\n",
       "      <td>-0.418040</td>\n",
       "      <td>0.901639</td>\n",
       "      <td>-1.610030</td>\n",
       "      <td>-0.709299</td>\n",
       "      <td>0.282698</td>\n",
       "      <td>-0.661693</td>\n",
       "      <td>0.265165</td>\n",
       "      <td>1.141906</td>\n",
       "    </tr>\n",
       "    <tr>\n",
       "      <th>239</th>\n",
       "      <td>0.128699</td>\n",
       "      <td>0.696177</td>\n",
       "      <td>1.940138</td>\n",
       "      <td>-0.706102</td>\n",
       "      <td>-1.073080</td>\n",
       "      <td>-0.418040</td>\n",
       "      <td>-0.979367</td>\n",
       "      <td>0.528321</td>\n",
       "      <td>-0.709299</td>\n",
       "      <td>0.702409</td>\n",
       "      <td>-0.661693</td>\n",
       "      <td>-0.707107</td>\n",
       "      <td>1.141906</td>\n",
       "    </tr>\n",
       "    <tr>\n",
       "      <th>240</th>\n",
       "      <td>-0.879600</td>\n",
       "      <td>0.696177</td>\n",
       "      <td>0.985842</td>\n",
       "      <td>0.396724</td>\n",
       "      <td>0.230439</td>\n",
       "      <td>-0.418040</td>\n",
       "      <td>-0.979367</td>\n",
       "      <td>0.266482</td>\n",
       "      <td>-0.709299</td>\n",
       "      <td>-0.892493</td>\n",
       "      <td>0.955779</td>\n",
       "      <td>-0.707107</td>\n",
       "      <td>-0.464729</td>\n",
       "    </tr>\n",
       "    <tr>\n",
       "      <th>241</th>\n",
       "      <td>0.352766</td>\n",
       "      <td>0.696177</td>\n",
       "      <td>0.031547</td>\n",
       "      <td>-0.706102</td>\n",
       "      <td>0.780361</td>\n",
       "      <td>-0.418040</td>\n",
       "      <td>-0.979367</td>\n",
       "      <td>0.441042</td>\n",
       "      <td>-0.709299</td>\n",
       "      <td>0.618467</td>\n",
       "      <td>-0.661693</td>\n",
       "      <td>-0.707107</td>\n",
       "      <td>-0.464729</td>\n",
       "    </tr>\n",
       "  </tbody>\n",
       "</table>\n",
       "<p>242 rows × 13 columns</p>\n",
       "</div>"
      ],
      "text/plain": [
       "          age       sex        cp  trestbps      chol       fbs   restecg  \\\n",
       "0   -1.327733 -1.436416  0.985842 -0.583566 -0.665731 -0.418040  0.901639   \n",
       "1    1.249032 -1.436416  0.985842  0.886868  0.658156 -0.418040 -0.979367   \n",
       "2    0.352766  0.696177  0.985842  0.519260 -0.706466  2.392117 -0.979367   \n",
       "3    0.912932 -1.436416 -0.922749 -0.461030 -0.991610 -0.418040  0.901639   \n",
       "4    0.240733  0.696177  0.031547  1.377013 -0.278748 -0.418040 -0.979367   \n",
       "..        ...       ...       ...       ...       ...       ...       ...   \n",
       "237 -1.327733  0.696177 -0.922749  0.029115  0.026764  2.392117 -0.979367   \n",
       "238 -0.095367  0.696177 -0.922749 -0.706102 -1.174918 -0.418040  0.901639   \n",
       "239  0.128699  0.696177  1.940138 -0.706102 -1.073080 -0.418040 -0.979367   \n",
       "240 -0.879600  0.696177  0.985842  0.396724  0.230439 -0.418040 -0.979367   \n",
       "241  0.352766  0.696177  0.031547 -0.706102  0.780361 -0.418040 -0.979367   \n",
       "\n",
       "      thalach     exang   oldpeak     slope        ca      thal  \n",
       "0    0.659241 -0.709299 -0.724609 -0.661693 -0.707107 -0.464729  \n",
       "1    0.091923 -0.709299 -0.892493 -0.661693  0.265165 -0.464729  \n",
       "2    0.659241 -0.709299 -0.892493  0.955779 -0.707107 -0.464729  \n",
       "3   -0.606314  1.409842 -0.892493 -0.661693 -0.707107 -0.464729  \n",
       "4    0.615601 -0.709299 -0.892493  0.955779  0.265165 -0.464729  \n",
       "..        ...       ...       ...       ...       ...       ...  \n",
       "237 -0.300835  1.409842 -0.808551 -0.661693  3.181981  1.141906  \n",
       "238 -1.610030 -0.709299  0.282698 -0.661693  0.265165  1.141906  \n",
       "239  0.528321 -0.709299  0.702409 -0.661693 -0.707107  1.141906  \n",
       "240  0.266482 -0.709299 -0.892493  0.955779 -0.707107 -0.464729  \n",
       "241  0.441042 -0.709299  0.618467 -0.661693 -0.707107 -0.464729  \n",
       "\n",
       "[242 rows x 13 columns]"
      ]
     },
     "execution_count": 453,
     "metadata": {},
     "output_type": "execute_result"
    }
   ],
   "source": [
    "df_num"
   ]
  },
  {
   "cell_type": "markdown",
   "metadata": {},
   "source": [
    "#### Note :\n",
    "1. tidak terdapat missing value, sehingga tidak perlu diproses\n",
    "2. handling oitlier pada temuan sebelumnya\n",
    "3. scaling data sehingga memiliki satuan yang tidak terlalu jauh satu sama lainya\n",
    "4. tidak perlu dilakukan encoding, karena semua data sudah bertype numeric"
   ]
  },
  {
   "cell_type": "markdown",
   "metadata": {},
   "source": [
    "---\n",
    "---\n",
    "### Model Definition"
   ]
  },
  {
   "cell_type": "markdown",
   "metadata": {},
   "source": [
    "#### Step by step\n",
    "1. definisi Decsiiontree\n",
    "2. definisi randomforest\n",
    "3. Predict kedua hasil\n",
    "4. Evaluasi menggunakan accuracy score, confusin matric, dan clasiffication report"
   ]
  },
  {
   "cell_type": "code",
   "execution_count": 454,
   "metadata": {},
   "outputs": [
    {
     "data": {
      "text/plain": [
       "DecisionTreeClassifier()"
      ]
     },
     "execution_count": 454,
     "metadata": {},
     "output_type": "execute_result"
    }
   ],
   "source": [
    "dt = DecisionTreeClassifier()\n",
    "\n",
    "\n",
    "# fit the model\n",
    "dt.fit(X_train_final, y_train)"
   ]
  },
  {
   "cell_type": "markdown",
   "metadata": {},
   "source": [
    "---\n",
    "---\n",
    "### Model Training"
   ]
  },
  {
   "cell_type": "code",
   "execution_count": 455,
   "metadata": {},
   "outputs": [
    {
     "data": {
      "text/plain": [
       "RandomForestClassifier()"
      ]
     },
     "execution_count": 455,
     "metadata": {},
     "output_type": "execute_result"
    }
   ],
   "source": [
    "rfc = RandomForestClassifier()\n",
    "\n",
    "rfc.fit(X_train_final, y_train)"
   ]
  },
  {
   "cell_type": "code",
   "execution_count": 456,
   "metadata": {},
   "outputs": [],
   "source": [
    "#predik decisiiontree\n",
    "dt_pred_train = dt.predict(X_train_final)\n",
    "dt_pred_test = dt.predict(X_test_final)"
   ]
  },
  {
   "cell_type": "code",
   "execution_count": 457,
   "metadata": {},
   "outputs": [],
   "source": [
    "#predik randomforest\n",
    "rfc_pred_train = rfc.predict(X_train_final)\n",
    "rfc_pred_test = rfc.predict(X_test_final)"
   ]
  },
  {
   "cell_type": "markdown",
   "metadata": {},
   "source": [
    "---\n",
    "---\n",
    "### Model Evaluation"
   ]
  },
  {
   "cell_type": "markdown",
   "metadata": {},
   "source": [
    "1. DecisionTree"
   ]
  },
  {
   "cell_type": "code",
   "execution_count": 458,
   "metadata": {},
   "outputs": [
    {
     "name": "stdout",
     "output_type": "stream",
     "text": [
      "accuracy score training - set: 1.0\n",
      "accuracy score test - set : 0.7540983606557377 \n"
     ]
    }
   ],
   "source": [
    "#print acc pada decision tree\n",
    "print('accuracy score training - set: {}'. format(accuracy_score(y_train, dt_pred_train)))\n",
    "\n",
    "print('accuracy score test - set : {} '. format(accuracy_score(y_test, dt_pred_test)))"
   ]
  },
  {
   "cell_type": "code",
   "execution_count": 459,
   "metadata": {},
   "outputs": [
    {
     "name": "stdout",
     "output_type": "stream",
     "text": [
      "confusion matrix test set\n",
      "[[21  6]\n",
      " [ 9 25]]\n"
     ]
    }
   ],
   "source": [
    "#print conf matrixnya\n",
    "print('confusion matrix test set')\n",
    "print(confusion_matrix(y_test, dt_pred_test))"
   ]
  },
  {
   "cell_type": "code",
   "execution_count": 460,
   "metadata": {},
   "outputs": [
    {
     "name": "stdout",
     "output_type": "stream",
     "text": [
      "              precision    recall  f1-score   support\n",
      "\n",
      "           0       0.70      0.78      0.74        27\n",
      "           1       0.81      0.74      0.77        34\n",
      "\n",
      "    accuracy                           0.75        61\n",
      "   macro avg       0.75      0.76      0.75        61\n",
      "weighted avg       0.76      0.75      0.75        61\n",
      "\n"
     ]
    }
   ],
   "source": [
    "#print clsification report\n",
    "print(classification_report(y_test, dt_pred_test))"
   ]
  },
  {
   "cell_type": "markdown",
   "metadata": {},
   "source": [
    "2. RandomForest"
   ]
  },
  {
   "cell_type": "code",
   "execution_count": 461,
   "metadata": {},
   "outputs": [
    {
     "name": "stdout",
     "output_type": "stream",
     "text": [
      "accuracy score training - set: 1.0\n",
      "accuracy score test - set : 0.8032786885245902 \n"
     ]
    }
   ],
   "source": [
    "#print acc pada random forest\n",
    "print('accuracy score training - set: {}'. format(accuracy_score(y_train, rfc_pred_train)))\n",
    "\n",
    "print('accuracy score test - set : {} '. format(accuracy_score(y_test, rfc_pred_test)))"
   ]
  },
  {
   "cell_type": "code",
   "execution_count": 462,
   "metadata": {},
   "outputs": [
    {
     "name": "stdout",
     "output_type": "stream",
     "text": [
      "confusion matrix test set\n",
      "[[22  5]\n",
      " [ 7 27]]\n"
     ]
    }
   ],
   "source": [
    "print('confusion matrix test set')\n",
    "print(confusion_matrix(y_test, rfc_pred_test))"
   ]
  },
  {
   "cell_type": "code",
   "execution_count": 463,
   "metadata": {},
   "outputs": [
    {
     "name": "stdout",
     "output_type": "stream",
     "text": [
      "              precision    recall  f1-score   support\n",
      "\n",
      "           0       0.76      0.81      0.79        27\n",
      "           1       0.84      0.79      0.82        34\n",
      "\n",
      "    accuracy                           0.80        61\n",
      "   macro avg       0.80      0.80      0.80        61\n",
      "weighted avg       0.81      0.80      0.80        61\n",
      "\n"
     ]
    }
   ],
   "source": [
    "print(classification_report(y_test, rfc_pred_test))"
   ]
  },
  {
   "cell_type": "markdown",
   "metadata": {},
   "source": [
    "- DecisionTree\n",
    "1.  Training set akurasi yaitu 1, sedangkan pada test set yaitu 0.78\n",
    "2.  Precision mengidentifikasi proporsi hasil positif yang diprediksi dengan benar, dengan skore 73% pada tidak terdapat potensi serangan jantung dan 84% pada terdapat potensi serangan jantung\n",
    "3.  Recall mengidentifikasi proporsi positif aktual yang diprediksi dengan benar, dengan skore 81% pada tidak terdapat potensi serangan jantung dan 76% pada terdapat potensi serangan jantung\n",
    "4.  f1-score adalah rata-rata dari Precision dan Recall\n",
    "5.  Support adalah jumlah aktual kemunculan kelas dalam dataset, yatu 27 pada tidak terdapat potensi serangan jantung dan 34 pada terdapat potensi serangan jantung\n",
    "\n",
    "-  Random Forest\n",
    "1.  Training set akurasi yaitu 1, sedangkan pada test set yaitu 0.83\n",
    "2.  Precision mengidentifikasi proporsi hasil positif yang diprediksi dengan benar, dengan skore 81% pada tidak terdapat potensi serangan jantung dan 85% pada terdapat potensi serangan jantung\n",
    "3.  Recall mengidentifikasi proporsi positif aktual yang diprediksi dengan benar, dengan skore 81% pada tidak terdapat potensi serangan jantung dan 85% pada terdapat potensi serangan jantung\n",
    "4.  Support adalah jumlah aktual kemunculan kelas dalam dataset, yatu 27 pada tidak terdapat potensi serangan jantung dan 34 pada terdapat potensi serangan jantung\n",
    "\n",
    "Kesimpulanya :\n",
    "\n",
    "kedua model mengalamu underfitting pada train set, sehingga perlu dituning menggunakan hyperparameter yang tepat"
   ]
  },
  {
   "cell_type": "markdown",
   "metadata": {},
   "source": [
    "---\n",
    "3. Tuning hyperparameter"
   ]
  },
  {
   "cell_type": "code",
   "execution_count": 464,
   "metadata": {},
   "outputs": [
    {
     "name": "stdout",
     "output_type": "stream",
     "text": [
      "Best: 0.823444 using {'max_features': 'sqrt', 'n_estimators': 100}\n",
      "0.783222 (0.075890) with: {'max_features': 'sqrt', 'n_estimators': 10}\n",
      "0.823444 (0.064400) with: {'max_features': 'sqrt', 'n_estimators': 100}\n",
      "0.790222 (0.084240) with: {'max_features': 'log2', 'n_estimators': 10}\n",
      "0.823389 (0.073953) with: {'max_features': 'log2', 'n_estimators': 100}\n"
     ]
    }
   ],
   "source": [
    "model = RandomForestClassifier()\n",
    "n_estimators = [10, 100]\n",
    "max_features = ['sqrt', 'log2']\n",
    "# define grid search\n",
    "grid = dict(n_estimators=n_estimators,max_features=max_features)\n",
    "cv = RepeatedStratifiedKFold(n_splits=10, n_repeats=3, random_state=1)\n",
    "grid_search = GridSearchCV(estimator=model, param_grid=grid, n_jobs=-1, cv=cv, scoring='accuracy',error_score=0)\n",
    "grid_result = grid_search.fit(X_train_final, y_train)\n",
    "# summarize results\n",
    "print(\"Best: %f using %s\" % (grid_result.best_score_, grid_result.best_params_))\n",
    "means = grid_result.cv_results_['mean_test_score']\n",
    "stds = grid_result.cv_results_['std_test_score']\n",
    "params = grid_result.cv_results_['params']\n",
    "for mean, stdev, param in zip(means, stds, params):\n",
    "    print(\"%f (%f) with: %r\" % (mean, stdev, param))"
   ]
  },
  {
   "cell_type": "code",
   "execution_count": 465,
   "metadata": {},
   "outputs": [
    {
     "name": "stdout",
     "output_type": "stream",
     "text": [
      "Best: 0.750500 using {'criterion': 'entropy', 'max_depth': 100}\n",
      "0.701111 (0.085622) with: {'criterion': 'gini', 'max_depth': 1}\n",
      "0.736833 (0.102234) with: {'criterion': 'gini', 'max_depth': 100}\n",
      "0.701111 (0.085622) with: {'criterion': 'entropy', 'max_depth': 1}\n",
      "0.750500 (0.076098) with: {'criterion': 'entropy', 'max_depth': 100}\n"
     ]
    }
   ],
   "source": [
    "model = DecisionTreeClassifier()\n",
    "criterion = [\"gini\", \"entropy\"]\n",
    "max_depth = [1, 100]\n",
    "# define grid search\n",
    "grid = dict(criterion=criterion,max_depth=max_depth)\n",
    "cv = RepeatedStratifiedKFold(n_splits=10, n_repeats=3, random_state=1)\n",
    "grid_search = GridSearchCV(estimator=model, param_grid=grid, n_jobs=-1, cv=cv, scoring='accuracy',error_score=0)\n",
    "grid_result = grid_search.fit(X_train_final, y_train)\n",
    "# summarize results\n",
    "print(\"Best: %f using %s\" % (grid_result.best_score_, grid_result.best_params_))\n",
    "means = grid_result.cv_results_['mean_test_score']\n",
    "stds = grid_result.cv_results_['std_test_score']\n",
    "params = grid_result.cv_results_['params']\n",
    "for mean, stdev, param in zip(means, stds, params):\n",
    "    print(\"%f (%f) with: %r\" % (mean, stdev, param))"
   ]
  },
  {
   "cell_type": "code",
   "execution_count": 466,
   "metadata": {},
   "outputs": [
    {
     "data": {
      "text/plain": [
       "DecisionTreeClassifier(max_depth=1)"
      ]
     },
     "execution_count": 466,
     "metadata": {},
     "output_type": "execute_result"
    }
   ],
   "source": [
    "dtgini = DecisionTreeClassifier(criterion=\"gini\", max_depth=1)\n",
    "\n",
    "\n",
    "# fit the model\n",
    "dtgini.fit(X_train_final, y_train)"
   ]
  },
  {
   "cell_type": "code",
   "execution_count": 467,
   "metadata": {},
   "outputs": [],
   "source": [
    "dtgini_pred_train = dtgini.predict(X_train_final)\n",
    "dtgini_pred_test = dtgini.predict(X_test_final)"
   ]
  },
  {
   "cell_type": "code",
   "execution_count": 468,
   "metadata": {},
   "outputs": [
    {
     "name": "stdout",
     "output_type": "stream",
     "text": [
      "accuracy score training - set: 0.7520661157024794\n",
      "accuracy score test - set : 0.7868852459016393 \n"
     ]
    }
   ],
   "source": [
    "print('accuracy score training - set: {}'. format(accuracy_score(y_train, dtgini_pred_train)))\n",
    "\n",
    "print('accuracy score test - set : {} '. format(accuracy_score(y_test, dtgini_pred_test)))"
   ]
  },
  {
   "cell_type": "code",
   "execution_count": 469,
   "metadata": {},
   "outputs": [
    {
     "data": {
      "text/plain": [
       "RandomForestClassifier()"
      ]
     },
     "execution_count": 469,
     "metadata": {},
     "output_type": "execute_result"
    }
   ],
   "source": [
    "rfc100 = RandomForestClassifier(max_features='sqrt', n_estimators=100)\n",
    "\n",
    "\n",
    "# fit the model\n",
    "rfc100.fit(X_train_final, y_train)"
   ]
  },
  {
   "cell_type": "code",
   "execution_count": 470,
   "metadata": {},
   "outputs": [],
   "source": [
    "rfc100_pred_train = rfc100.predict(X_train_final)\n",
    "rfc100_pred_test = rfc100.predict(X_test_final)"
   ]
  },
  {
   "cell_type": "code",
   "execution_count": 471,
   "metadata": {},
   "outputs": [
    {
     "name": "stdout",
     "output_type": "stream",
     "text": [
      "accuracy score training - set: 1.0\n",
      "accuracy score test - set : 0.8524590163934426 \n"
     ]
    }
   ],
   "source": [
    "print('accuracy score training - set: {}'. format(accuracy_score(y_train, rfc100_pred_train)))\n",
    "\n",
    "print('accuracy score test - set : {} '. format(accuracy_score(y_test, rfc100_pred_test)))"
   ]
  },
  {
   "cell_type": "markdown",
   "metadata": {},
   "source": [
    "### Note : \n",
    "1. setelah dilakukang tuning hyperparameter menggunakan gridsearchcv, dapat disimpulkan bahwa pada model menggunakan decision tree terdapat perubahan yang signifikan, dan antara akurasu train set dengan test setnya tidak terlalu jauh, sehingga sangat kecil terdapat underfitting\n",
    "2. pada model random forest, setelah dilakukan tuning, masih terdapat perbedaan, sehingga masih bersifat underfitting\n",
    "\n",
    "Kesimpulan :\n",
    "- model terlalu sederhana dan random forest classifier tidak cocok digunakan dalam model ini"
   ]
  },
  {
   "cell_type": "markdown",
   "metadata": {},
   "source": [
    "---\n",
    "---\n",
    "### Model Inference"
   ]
  },
  {
   "cell_type": "code",
   "execution_count": 472,
   "metadata": {},
   "outputs": [],
   "source": [
    "data_inf = heart_df.sample(10, random_state=0)"
   ]
  },
  {
   "cell_type": "code",
   "execution_count": 473,
   "metadata": {},
   "outputs": [
    {
     "data": {
      "text/html": [
       "<div>\n",
       "<style scoped>\n",
       "    .dataframe tbody tr th:only-of-type {\n",
       "        vertical-align: middle;\n",
       "    }\n",
       "\n",
       "    .dataframe tbody tr th {\n",
       "        vertical-align: top;\n",
       "    }\n",
       "\n",
       "    .dataframe thead th {\n",
       "        text-align: right;\n",
       "    }\n",
       "</style>\n",
       "<table border=\"1\" class=\"dataframe\">\n",
       "  <thead>\n",
       "    <tr style=\"text-align: right;\">\n",
       "      <th></th>\n",
       "      <th>age</th>\n",
       "      <th>sex</th>\n",
       "      <th>cp</th>\n",
       "      <th>trestbps</th>\n",
       "      <th>chol</th>\n",
       "      <th>fbs</th>\n",
       "      <th>restecg</th>\n",
       "      <th>thalach</th>\n",
       "      <th>exang</th>\n",
       "      <th>oldpeak</th>\n",
       "      <th>slope</th>\n",
       "      <th>ca</th>\n",
       "      <th>thal</th>\n",
       "      <th>heartattack_chance</th>\n",
       "    </tr>\n",
       "  </thead>\n",
       "  <tbody>\n",
       "    <tr>\n",
       "      <th>225</th>\n",
       "      <td>70</td>\n",
       "      <td>1</td>\n",
       "      <td>0</td>\n",
       "      <td>145</td>\n",
       "      <td>174</td>\n",
       "      <td>0</td>\n",
       "      <td>1</td>\n",
       "      <td>125</td>\n",
       "      <td>1</td>\n",
       "      <td>2.6</td>\n",
       "      <td>0</td>\n",
       "      <td>0</td>\n",
       "      <td>3</td>\n",
       "      <td>0</td>\n",
       "    </tr>\n",
       "    <tr>\n",
       "      <th>152</th>\n",
       "      <td>64</td>\n",
       "      <td>1</td>\n",
       "      <td>3</td>\n",
       "      <td>170</td>\n",
       "      <td>227</td>\n",
       "      <td>0</td>\n",
       "      <td>0</td>\n",
       "      <td>155</td>\n",
       "      <td>0</td>\n",
       "      <td>0.6</td>\n",
       "      <td>1</td>\n",
       "      <td>0</td>\n",
       "      <td>3</td>\n",
       "      <td>1</td>\n",
       "    </tr>\n",
       "    <tr>\n",
       "      <th>228</th>\n",
       "      <td>59</td>\n",
       "      <td>1</td>\n",
       "      <td>3</td>\n",
       "      <td>170</td>\n",
       "      <td>288</td>\n",
       "      <td>0</td>\n",
       "      <td>0</td>\n",
       "      <td>159</td>\n",
       "      <td>0</td>\n",
       "      <td>0.2</td>\n",
       "      <td>1</td>\n",
       "      <td>0</td>\n",
       "      <td>3</td>\n",
       "      <td>0</td>\n",
       "    </tr>\n",
       "    <tr>\n",
       "      <th>201</th>\n",
       "      <td>60</td>\n",
       "      <td>1</td>\n",
       "      <td>0</td>\n",
       "      <td>125</td>\n",
       "      <td>258</td>\n",
       "      <td>0</td>\n",
       "      <td>0</td>\n",
       "      <td>141</td>\n",
       "      <td>1</td>\n",
       "      <td>2.8</td>\n",
       "      <td>1</td>\n",
       "      <td>1</td>\n",
       "      <td>3</td>\n",
       "      <td>0</td>\n",
       "    </tr>\n",
       "    <tr>\n",
       "      <th>52</th>\n",
       "      <td>62</td>\n",
       "      <td>1</td>\n",
       "      <td>2</td>\n",
       "      <td>130</td>\n",
       "      <td>231</td>\n",
       "      <td>0</td>\n",
       "      <td>1</td>\n",
       "      <td>146</td>\n",
       "      <td>0</td>\n",
       "      <td>1.8</td>\n",
       "      <td>1</td>\n",
       "      <td>3</td>\n",
       "      <td>3</td>\n",
       "      <td>1</td>\n",
       "    </tr>\n",
       "    <tr>\n",
       "      <th>245</th>\n",
       "      <td>48</td>\n",
       "      <td>1</td>\n",
       "      <td>0</td>\n",
       "      <td>124</td>\n",
       "      <td>274</td>\n",
       "      <td>0</td>\n",
       "      <td>0</td>\n",
       "      <td>166</td>\n",
       "      <td>0</td>\n",
       "      <td>0.5</td>\n",
       "      <td>1</td>\n",
       "      <td>0</td>\n",
       "      <td>3</td>\n",
       "      <td>0</td>\n",
       "    </tr>\n",
       "    <tr>\n",
       "      <th>175</th>\n",
       "      <td>40</td>\n",
       "      <td>1</td>\n",
       "      <td>0</td>\n",
       "      <td>110</td>\n",
       "      <td>167</td>\n",
       "      <td>0</td>\n",
       "      <td>0</td>\n",
       "      <td>114</td>\n",
       "      <td>1</td>\n",
       "      <td>2.0</td>\n",
       "      <td>1</td>\n",
       "      <td>0</td>\n",
       "      <td>3</td>\n",
       "      <td>0</td>\n",
       "    </tr>\n",
       "    <tr>\n",
       "      <th>168</th>\n",
       "      <td>63</td>\n",
       "      <td>1</td>\n",
       "      <td>0</td>\n",
       "      <td>130</td>\n",
       "      <td>254</td>\n",
       "      <td>0</td>\n",
       "      <td>0</td>\n",
       "      <td>147</td>\n",
       "      <td>0</td>\n",
       "      <td>1.4</td>\n",
       "      <td>1</td>\n",
       "      <td>1</td>\n",
       "      <td>3</td>\n",
       "      <td>0</td>\n",
       "    </tr>\n",
       "    <tr>\n",
       "      <th>223</th>\n",
       "      <td>56</td>\n",
       "      <td>0</td>\n",
       "      <td>0</td>\n",
       "      <td>200</td>\n",
       "      <td>288</td>\n",
       "      <td>1</td>\n",
       "      <td>0</td>\n",
       "      <td>133</td>\n",
       "      <td>1</td>\n",
       "      <td>4.0</td>\n",
       "      <td>0</td>\n",
       "      <td>2</td>\n",
       "      <td>3</td>\n",
       "      <td>0</td>\n",
       "    </tr>\n",
       "    <tr>\n",
       "      <th>217</th>\n",
       "      <td>63</td>\n",
       "      <td>1</td>\n",
       "      <td>0</td>\n",
       "      <td>130</td>\n",
       "      <td>330</td>\n",
       "      <td>1</td>\n",
       "      <td>0</td>\n",
       "      <td>132</td>\n",
       "      <td>1</td>\n",
       "      <td>1.8</td>\n",
       "      <td>2</td>\n",
       "      <td>3</td>\n",
       "      <td>3</td>\n",
       "      <td>0</td>\n",
       "    </tr>\n",
       "  </tbody>\n",
       "</table>\n",
       "</div>"
      ],
      "text/plain": [
       "     age  sex  cp  trestbps  chol  fbs  restecg  thalach  exang  oldpeak  \\\n",
       "225   70    1   0       145   174    0        1      125      1      2.6   \n",
       "152   64    1   3       170   227    0        0      155      0      0.6   \n",
       "228   59    1   3       170   288    0        0      159      0      0.2   \n",
       "201   60    1   0       125   258    0        0      141      1      2.8   \n",
       "52    62    1   2       130   231    0        1      146      0      1.8   \n",
       "245   48    1   0       124   274    0        0      166      0      0.5   \n",
       "175   40    1   0       110   167    0        0      114      1      2.0   \n",
       "168   63    1   0       130   254    0        0      147      0      1.4   \n",
       "223   56    0   0       200   288    1        0      133      1      4.0   \n",
       "217   63    1   0       130   330    1        0      132      1      1.8   \n",
       "\n",
       "     slope  ca  thal  heartattack_chance  \n",
       "225      0   0     3                   0  \n",
       "152      1   0     3                   1  \n",
       "228      1   0     3                   0  \n",
       "201      1   1     3                   0  \n",
       "52       1   3     3                   1  \n",
       "245      1   0     3                   0  \n",
       "175      1   0     3                   0  \n",
       "168      1   1     3                   0  \n",
       "223      0   2     3                   0  \n",
       "217      2   3     3                   0  "
      ]
     },
     "execution_count": 473,
     "metadata": {},
     "output_type": "execute_result"
    }
   ],
   "source": [
    "data_inf"
   ]
  },
  {
   "cell_type": "code",
   "execution_count": 474,
   "metadata": {},
   "outputs": [
    {
     "data": {
      "text/html": [
       "<div>\n",
       "<style scoped>\n",
       "    .dataframe tbody tr th:only-of-type {\n",
       "        vertical-align: middle;\n",
       "    }\n",
       "\n",
       "    .dataframe tbody tr th {\n",
       "        vertical-align: top;\n",
       "    }\n",
       "\n",
       "    .dataframe thead th {\n",
       "        text-align: right;\n",
       "    }\n",
       "</style>\n",
       "<table border=\"1\" class=\"dataframe\">\n",
       "  <thead>\n",
       "    <tr style=\"text-align: right;\">\n",
       "      <th></th>\n",
       "      <th>age</th>\n",
       "      <th>sex</th>\n",
       "      <th>cp</th>\n",
       "      <th>trestbps</th>\n",
       "      <th>chol</th>\n",
       "      <th>fbs</th>\n",
       "      <th>restecg</th>\n",
       "      <th>thalach</th>\n",
       "      <th>exang</th>\n",
       "      <th>oldpeak</th>\n",
       "      <th>slope</th>\n",
       "      <th>ca</th>\n",
       "      <th>thal</th>\n",
       "      <th>heartattack_chance</th>\n",
       "    </tr>\n",
       "  </thead>\n",
       "  <tbody>\n",
       "    <tr>\n",
       "      <th>count</th>\n",
       "      <td>10.000000</td>\n",
       "      <td>10.000000</td>\n",
       "      <td>10.000000</td>\n",
       "      <td>10.000000</td>\n",
       "      <td>10.000000</td>\n",
       "      <td>10.000000</td>\n",
       "      <td>10.000000</td>\n",
       "      <td>10.000000</td>\n",
       "      <td>10.000000</td>\n",
       "      <td>10.00000</td>\n",
       "      <td>10.000000</td>\n",
       "      <td>10.000000</td>\n",
       "      <td>10.0</td>\n",
       "      <td>10.000000</td>\n",
       "    </tr>\n",
       "    <tr>\n",
       "      <th>mean</th>\n",
       "      <td>58.500000</td>\n",
       "      <td>0.900000</td>\n",
       "      <td>0.800000</td>\n",
       "      <td>143.400000</td>\n",
       "      <td>249.100000</td>\n",
       "      <td>0.200000</td>\n",
       "      <td>0.200000</td>\n",
       "      <td>141.800000</td>\n",
       "      <td>0.500000</td>\n",
       "      <td>1.77000</td>\n",
       "      <td>0.900000</td>\n",
       "      <td>1.000000</td>\n",
       "      <td>3.0</td>\n",
       "      <td>0.200000</td>\n",
       "    </tr>\n",
       "    <tr>\n",
       "      <th>std</th>\n",
       "      <td>8.669871</td>\n",
       "      <td>0.316228</td>\n",
       "      <td>1.316561</td>\n",
       "      <td>27.869537</td>\n",
       "      <td>51.089138</td>\n",
       "      <td>0.421637</td>\n",
       "      <td>0.421637</td>\n",
       "      <td>16.088643</td>\n",
       "      <td>0.527046</td>\n",
       "      <td>1.17194</td>\n",
       "      <td>0.567646</td>\n",
       "      <td>1.247219</td>\n",
       "      <td>0.0</td>\n",
       "      <td>0.421637</td>\n",
       "    </tr>\n",
       "    <tr>\n",
       "      <th>min</th>\n",
       "      <td>40.000000</td>\n",
       "      <td>0.000000</td>\n",
       "      <td>0.000000</td>\n",
       "      <td>110.000000</td>\n",
       "      <td>167.000000</td>\n",
       "      <td>0.000000</td>\n",
       "      <td>0.000000</td>\n",
       "      <td>114.000000</td>\n",
       "      <td>0.000000</td>\n",
       "      <td>0.20000</td>\n",
       "      <td>0.000000</td>\n",
       "      <td>0.000000</td>\n",
       "      <td>3.0</td>\n",
       "      <td>0.000000</td>\n",
       "    </tr>\n",
       "    <tr>\n",
       "      <th>25%</th>\n",
       "      <td>56.750000</td>\n",
       "      <td>1.000000</td>\n",
       "      <td>0.000000</td>\n",
       "      <td>126.250000</td>\n",
       "      <td>228.000000</td>\n",
       "      <td>0.000000</td>\n",
       "      <td>0.000000</td>\n",
       "      <td>132.250000</td>\n",
       "      <td>0.000000</td>\n",
       "      <td>0.80000</td>\n",
       "      <td>1.000000</td>\n",
       "      <td>0.000000</td>\n",
       "      <td>3.0</td>\n",
       "      <td>0.000000</td>\n",
       "    </tr>\n",
       "    <tr>\n",
       "      <th>50%</th>\n",
       "      <td>61.000000</td>\n",
       "      <td>1.000000</td>\n",
       "      <td>0.000000</td>\n",
       "      <td>130.000000</td>\n",
       "      <td>256.000000</td>\n",
       "      <td>0.000000</td>\n",
       "      <td>0.000000</td>\n",
       "      <td>143.500000</td>\n",
       "      <td>0.500000</td>\n",
       "      <td>1.80000</td>\n",
       "      <td>1.000000</td>\n",
       "      <td>0.500000</td>\n",
       "      <td>3.0</td>\n",
       "      <td>0.000000</td>\n",
       "    </tr>\n",
       "    <tr>\n",
       "      <th>75%</th>\n",
       "      <td>63.000000</td>\n",
       "      <td>1.000000</td>\n",
       "      <td>1.500000</td>\n",
       "      <td>163.750000</td>\n",
       "      <td>284.500000</td>\n",
       "      <td>0.000000</td>\n",
       "      <td>0.000000</td>\n",
       "      <td>153.000000</td>\n",
       "      <td>1.000000</td>\n",
       "      <td>2.45000</td>\n",
       "      <td>1.000000</td>\n",
       "      <td>1.750000</td>\n",
       "      <td>3.0</td>\n",
       "      <td>0.000000</td>\n",
       "    </tr>\n",
       "    <tr>\n",
       "      <th>max</th>\n",
       "      <td>70.000000</td>\n",
       "      <td>1.000000</td>\n",
       "      <td>3.000000</td>\n",
       "      <td>200.000000</td>\n",
       "      <td>330.000000</td>\n",
       "      <td>1.000000</td>\n",
       "      <td>1.000000</td>\n",
       "      <td>166.000000</td>\n",
       "      <td>1.000000</td>\n",
       "      <td>4.00000</td>\n",
       "      <td>2.000000</td>\n",
       "      <td>3.000000</td>\n",
       "      <td>3.0</td>\n",
       "      <td>1.000000</td>\n",
       "    </tr>\n",
       "  </tbody>\n",
       "</table>\n",
       "</div>"
      ],
      "text/plain": [
       "             age        sex         cp    trestbps        chol        fbs  \\\n",
       "count  10.000000  10.000000  10.000000   10.000000   10.000000  10.000000   \n",
       "mean   58.500000   0.900000   0.800000  143.400000  249.100000   0.200000   \n",
       "std     8.669871   0.316228   1.316561   27.869537   51.089138   0.421637   \n",
       "min    40.000000   0.000000   0.000000  110.000000  167.000000   0.000000   \n",
       "25%    56.750000   1.000000   0.000000  126.250000  228.000000   0.000000   \n",
       "50%    61.000000   1.000000   0.000000  130.000000  256.000000   0.000000   \n",
       "75%    63.000000   1.000000   1.500000  163.750000  284.500000   0.000000   \n",
       "max    70.000000   1.000000   3.000000  200.000000  330.000000   1.000000   \n",
       "\n",
       "         restecg     thalach      exang   oldpeak      slope         ca  thal  \\\n",
       "count  10.000000   10.000000  10.000000  10.00000  10.000000  10.000000  10.0   \n",
       "mean    0.200000  141.800000   0.500000   1.77000   0.900000   1.000000   3.0   \n",
       "std     0.421637   16.088643   0.527046   1.17194   0.567646   1.247219   0.0   \n",
       "min     0.000000  114.000000   0.000000   0.20000   0.000000   0.000000   3.0   \n",
       "25%     0.000000  132.250000   0.000000   0.80000   1.000000   0.000000   3.0   \n",
       "50%     0.000000  143.500000   0.500000   1.80000   1.000000   0.500000   3.0   \n",
       "75%     0.000000  153.000000   1.000000   2.45000   1.000000   1.750000   3.0   \n",
       "max     1.000000  166.000000   1.000000   4.00000   2.000000   3.000000   3.0   \n",
       "\n",
       "       heartattack_chance  \n",
       "count           10.000000  \n",
       "mean             0.200000  \n",
       "std              0.421637  \n",
       "min              0.000000  \n",
       "25%              0.000000  \n",
       "50%              0.000000  \n",
       "75%              0.000000  \n",
       "max              1.000000  "
      ]
     },
     "execution_count": 474,
     "metadata": {},
     "output_type": "execute_result"
    }
   ],
   "source": [
    "data_inf.describe()"
   ]
  },
  {
   "cell_type": "code",
   "execution_count": 475,
   "metadata": {},
   "outputs": [
    {
     "data": {
      "text/plain": [
       "age                   0\n",
       "sex                   0\n",
       "cp                    0\n",
       "trestbps              0\n",
       "chol                  0\n",
       "fbs                   0\n",
       "restecg               0\n",
       "thalach               0\n",
       "exang                 0\n",
       "oldpeak               0\n",
       "slope                 0\n",
       "ca                    0\n",
       "thal                  0\n",
       "heartattack_chance    0\n",
       "dtype: int64"
      ]
     },
     "execution_count": 475,
     "metadata": {},
     "output_type": "execute_result"
    }
   ],
   "source": [
    "data_inf.isnull().sum()"
   ]
  },
  {
   "cell_type": "code",
   "execution_count": 476,
   "metadata": {},
   "outputs": [],
   "source": [
    "data_inf_test = data_inf.copy()"
   ]
  },
  {
   "cell_type": "code",
   "execution_count": 477,
   "metadata": {},
   "outputs": [],
   "source": [
    "#drop target to use as model inference\n",
    "data_inf.drop(columns=['heartattack_chance'], axis=1, inplace=True)"
   ]
  },
  {
   "cell_type": "code",
   "execution_count": 478,
   "metadata": {},
   "outputs": [
    {
     "data": {
      "text/plain": [
       "Text(0, 0.5, 'thelach')"
      ]
     },
     "execution_count": 478,
     "metadata": {},
     "output_type": "execute_result"
    },
    {
     "data": {
      "image/png": "[encoded data removed]",
      "text/plain": [
       "<Figure size 1080x720 with 3 Axes>"
      ]
     },
     "metadata": {
      "needs_background": "light"
     },
     "output_type": "display_data"
    }
   ],
   "source": [
    "plt.figure(figsize=(15,10))\n",
    "\n",
    "plt.subplot(2, 2, 1)\n",
    "fig = data_inf.boxplot(column='trestbps')\n",
    "fig.set_title('')\n",
    "fig.set_ylabel('testbps')\n",
    "\n",
    "\n",
    "plt.subplot(2, 2, 2)\n",
    "fig = data_inf.boxplot(column='chol')\n",
    "fig.set_title('')\n",
    "fig.set_ylabel('chol')\n",
    "\n",
    "\n",
    "plt.subplot(2, 2, 3)\n",
    "fig = data_inf.boxplot(column='thalach')\n",
    "fig.set_title('')\n",
    "fig.set_ylabel('thelach')"
   ]
  },
  {
   "cell_type": "code",
   "execution_count": 479,
   "metadata": {},
   "outputs": [],
   "source": [
    "data_inf_scaled = scaler.transform(data_inf)"
   ]
  },
  {
   "cell_type": "code",
   "execution_count": 480,
   "metadata": {},
   "outputs": [
    {
     "data": {
      "text/html": [
       "<div>\n",
       "<style scoped>\n",
       "    .dataframe tbody tr th:only-of-type {\n",
       "        vertical-align: middle;\n",
       "    }\n",
       "\n",
       "    .dataframe tbody tr th {\n",
       "        vertical-align: top;\n",
       "    }\n",
       "\n",
       "    .dataframe thead th {\n",
       "        text-align: right;\n",
       "    }\n",
       "</style>\n",
       "<table border=\"1\" class=\"dataframe\">\n",
       "  <thead>\n",
       "    <tr style=\"text-align: right;\">\n",
       "      <th></th>\n",
       "      <th>0</th>\n",
       "      <th>1</th>\n",
       "      <th>2</th>\n",
       "      <th>3</th>\n",
       "      <th>4</th>\n",
       "      <th>5</th>\n",
       "      <th>6</th>\n",
       "      <th>7</th>\n",
       "      <th>8</th>\n",
       "      <th>9</th>\n",
       "      <th>10</th>\n",
       "      <th>11</th>\n",
       "      <th>12</th>\n",
       "    </tr>\n",
       "  </thead>\n",
       "  <tbody>\n",
       "    <tr>\n",
       "      <th>0</th>\n",
       "      <td>1.697165</td>\n",
       "      <td>0.696177</td>\n",
       "      <td>-0.922749</td>\n",
       "      <td>0.825600</td>\n",
       "      <td>-1.460063</td>\n",
       "      <td>-0.418040</td>\n",
       "      <td>0.901639</td>\n",
       "      <td>-1.086352</td>\n",
       "      <td>1.409842</td>\n",
       "      <td>1.290005</td>\n",
       "      <td>-2.279165</td>\n",
       "      <td>-0.707107</td>\n",
       "      <td>1.141906</td>\n",
       "    </tr>\n",
       "    <tr>\n",
       "      <th>1</th>\n",
       "      <td>1.024965</td>\n",
       "      <td>0.696177</td>\n",
       "      <td>1.940138</td>\n",
       "      <td>2.357303</td>\n",
       "      <td>-0.380586</td>\n",
       "      <td>-0.418040</td>\n",
       "      <td>-0.979367</td>\n",
       "      <td>0.222843</td>\n",
       "      <td>-0.709299</td>\n",
       "      <td>-0.388840</td>\n",
       "      <td>-0.661693</td>\n",
       "      <td>-0.707107</td>\n",
       "      <td>1.141906</td>\n",
       "    </tr>\n",
       "    <tr>\n",
       "      <th>2</th>\n",
       "      <td>0.464799</td>\n",
       "      <td>0.696177</td>\n",
       "      <td>1.940138</td>\n",
       "      <td>2.357303</td>\n",
       "      <td>0.861831</td>\n",
       "      <td>-0.418040</td>\n",
       "      <td>-0.979367</td>\n",
       "      <td>0.397402</td>\n",
       "      <td>-0.709299</td>\n",
       "      <td>-0.724609</td>\n",
       "      <td>-0.661693</td>\n",
       "      <td>-0.707107</td>\n",
       "      <td>1.141906</td>\n",
       "    </tr>\n",
       "    <tr>\n",
       "      <th>3</th>\n",
       "      <td>0.576832</td>\n",
       "      <td>0.696177</td>\n",
       "      <td>-0.922749</td>\n",
       "      <td>-0.399762</td>\n",
       "      <td>0.250806</td>\n",
       "      <td>-0.418040</td>\n",
       "      <td>-0.979367</td>\n",
       "      <td>-0.388115</td>\n",
       "      <td>1.409842</td>\n",
       "      <td>1.457889</td>\n",
       "      <td>-0.661693</td>\n",
       "      <td>0.265165</td>\n",
       "      <td>1.141906</td>\n",
       "    </tr>\n",
       "    <tr>\n",
       "      <th>4</th>\n",
       "      <td>0.800899</td>\n",
       "      <td>0.696177</td>\n",
       "      <td>0.985842</td>\n",
       "      <td>-0.093421</td>\n",
       "      <td>-0.299116</td>\n",
       "      <td>-0.418040</td>\n",
       "      <td>0.901639</td>\n",
       "      <td>-0.169916</td>\n",
       "      <td>-0.709299</td>\n",
       "      <td>0.618467</td>\n",
       "      <td>-0.661693</td>\n",
       "      <td>2.209709</td>\n",
       "      <td>1.141906</td>\n",
       "    </tr>\n",
       "    <tr>\n",
       "      <th>5</th>\n",
       "      <td>-0.767567</td>\n",
       "      <td>0.696177</td>\n",
       "      <td>-0.922749</td>\n",
       "      <td>-0.461030</td>\n",
       "      <td>0.576686</td>\n",
       "      <td>-0.418040</td>\n",
       "      <td>-0.979367</td>\n",
       "      <td>0.702881</td>\n",
       "      <td>-0.709299</td>\n",
       "      <td>-0.472782</td>\n",
       "      <td>-0.661693</td>\n",
       "      <td>-0.707107</td>\n",
       "      <td>1.141906</td>\n",
       "    </tr>\n",
       "    <tr>\n",
       "      <th>6</th>\n",
       "      <td>-1.663833</td>\n",
       "      <td>0.696177</td>\n",
       "      <td>-0.922749</td>\n",
       "      <td>-1.318783</td>\n",
       "      <td>-1.602635</td>\n",
       "      <td>-0.418040</td>\n",
       "      <td>-0.979367</td>\n",
       "      <td>-1.566390</td>\n",
       "      <td>1.409842</td>\n",
       "      <td>0.786351</td>\n",
       "      <td>-0.661693</td>\n",
       "      <td>-0.707107</td>\n",
       "      <td>1.141906</td>\n",
       "    </tr>\n",
       "    <tr>\n",
       "      <th>7</th>\n",
       "      <td>0.912932</td>\n",
       "      <td>0.696177</td>\n",
       "      <td>-0.922749</td>\n",
       "      <td>-0.093421</td>\n",
       "      <td>0.169336</td>\n",
       "      <td>-0.418040</td>\n",
       "      <td>-0.979367</td>\n",
       "      <td>-0.126276</td>\n",
       "      <td>-0.709299</td>\n",
       "      <td>0.282698</td>\n",
       "      <td>-0.661693</td>\n",
       "      <td>0.265165</td>\n",
       "      <td>1.141906</td>\n",
       "    </tr>\n",
       "    <tr>\n",
       "      <th>8</th>\n",
       "      <td>0.128699</td>\n",
       "      <td>-1.436416</td>\n",
       "      <td>-0.922749</td>\n",
       "      <td>4.195346</td>\n",
       "      <td>0.861831</td>\n",
       "      <td>2.392117</td>\n",
       "      <td>-0.979367</td>\n",
       "      <td>-0.737234</td>\n",
       "      <td>1.409842</td>\n",
       "      <td>2.465196</td>\n",
       "      <td>-2.279165</td>\n",
       "      <td>1.237437</td>\n",
       "      <td>1.141906</td>\n",
       "    </tr>\n",
       "    <tr>\n",
       "      <th>9</th>\n",
       "      <td>0.912932</td>\n",
       "      <td>0.696177</td>\n",
       "      <td>-0.922749</td>\n",
       "      <td>-0.093421</td>\n",
       "      <td>1.717265</td>\n",
       "      <td>2.392117</td>\n",
       "      <td>-0.979367</td>\n",
       "      <td>-0.780873</td>\n",
       "      <td>1.409842</td>\n",
       "      <td>0.618467</td>\n",
       "      <td>0.955779</td>\n",
       "      <td>2.209709</td>\n",
       "      <td>1.141906</td>\n",
       "    </tr>\n",
       "  </tbody>\n",
       "</table>\n",
       "</div>"
      ],
      "text/plain": [
       "         0         1         2         3         4         5         6   \\\n",
       "0  1.697165  0.696177 -0.922749  0.825600 -1.460063 -0.418040  0.901639   \n",
       "1  1.024965  0.696177  1.940138  2.357303 -0.380586 -0.418040 -0.979367   \n",
       "2  0.464799  0.696177  1.940138  2.357303  0.861831 -0.418040 -0.979367   \n",
       "3  0.576832  0.696177 -0.922749 -0.399762  0.250806 -0.418040 -0.979367   \n",
       "4  0.800899  0.696177  0.985842 -0.093421 -0.299116 -0.418040  0.901639   \n",
       "5 -0.767567  0.696177 -0.922749 -0.461030  0.576686 -0.418040 -0.979367   \n",
       "6 -1.663833  0.696177 -0.922749 -1.318783 -1.602635 -0.418040 -0.979367   \n",
       "7  0.912932  0.696177 -0.922749 -0.093421  0.169336 -0.418040 -0.979367   \n",
       "8  0.128699 -1.436416 -0.922749  4.195346  0.861831  2.392117 -0.979367   \n",
       "9  0.912932  0.696177 -0.922749 -0.093421  1.717265  2.392117 -0.979367   \n",
       "\n",
       "         7         8         9         10        11        12  \n",
       "0 -1.086352  1.409842  1.290005 -2.279165 -0.707107  1.141906  \n",
       "1  0.222843 -0.709299 -0.388840 -0.661693 -0.707107  1.141906  \n",
       "2  0.397402 -0.709299 -0.724609 -0.661693 -0.707107  1.141906  \n",
       "3 -0.388115  1.409842  1.457889 -0.661693  0.265165  1.141906  \n",
       "4 -0.169916 -0.709299  0.618467 -0.661693  2.209709  1.141906  \n",
       "5  0.702881 -0.709299 -0.472782 -0.661693 -0.707107  1.141906  \n",
       "6 -1.566390  1.409842  0.786351 -0.661693 -0.707107  1.141906  \n",
       "7 -0.126276 -0.709299  0.282698 -0.661693  0.265165  1.141906  \n",
       "8 -0.737234  1.409842  2.465196 -2.279165  1.237437  1.141906  \n",
       "9 -0.780873  1.409842  0.618467  0.955779  2.209709  1.141906  "
      ]
     },
     "execution_count": 480,
     "metadata": {},
     "output_type": "execute_result"
    }
   ],
   "source": [
    "pd.DataFrame(data_inf_scaled)"
   ]
  },
  {
   "cell_type": "code",
   "execution_count": 481,
   "metadata": {},
   "outputs": [
    {
     "name": "stderr",
     "output_type": "stream",
     "text": [
      "C:\\Users\\danan\\AppData\\Local\\Programs\\Python\\Python310\\lib\\site-packages\\sklearn\\base.py:444: UserWarning: X has feature names, but RandomForestClassifier was fitted without feature names\n",
      "  warnings.warn(\n"
     ]
    },
    {
     "data": {
      "text/html": [
       "<div>\n",
       "<style scoped>\n",
       "    .dataframe tbody tr th:only-of-type {\n",
       "        vertical-align: middle;\n",
       "    }\n",
       "\n",
       "    .dataframe tbody tr th {\n",
       "        vertical-align: top;\n",
       "    }\n",
       "\n",
       "    .dataframe thead th {\n",
       "        text-align: right;\n",
       "    }\n",
       "</style>\n",
       "<table border=\"1\" class=\"dataframe\">\n",
       "  <thead>\n",
       "    <tr style=\"text-align: right;\">\n",
       "      <th></th>\n",
       "      <th>heartattack_chance - Inference</th>\n",
       "    </tr>\n",
       "  </thead>\n",
       "  <tbody>\n",
       "    <tr>\n",
       "      <th>0</th>\n",
       "      <td>0</td>\n",
       "    </tr>\n",
       "    <tr>\n",
       "      <th>1</th>\n",
       "      <td>1</td>\n",
       "    </tr>\n",
       "    <tr>\n",
       "      <th>2</th>\n",
       "      <td>0</td>\n",
       "    </tr>\n",
       "    <tr>\n",
       "      <th>3</th>\n",
       "      <td>0</td>\n",
       "    </tr>\n",
       "    <tr>\n",
       "      <th>4</th>\n",
       "      <td>0</td>\n",
       "    </tr>\n",
       "    <tr>\n",
       "      <th>5</th>\n",
       "      <td>0</td>\n",
       "    </tr>\n",
       "    <tr>\n",
       "      <th>6</th>\n",
       "      <td>0</td>\n",
       "    </tr>\n",
       "    <tr>\n",
       "      <th>7</th>\n",
       "      <td>0</td>\n",
       "    </tr>\n",
       "    <tr>\n",
       "      <th>8</th>\n",
       "      <td>0</td>\n",
       "    </tr>\n",
       "    <tr>\n",
       "      <th>9</th>\n",
       "      <td>0</td>\n",
       "    </tr>\n",
       "  </tbody>\n",
       "</table>\n",
       "</div>"
      ],
      "text/plain": [
       "   heartattack_chance - Inference\n",
       "0                               0\n",
       "1                               1\n",
       "2                               0\n",
       "3                               0\n",
       "4                               0\n",
       "5                               0\n",
       "6                               0\n",
       "7                               0\n",
       "8                               0\n",
       "9                               0"
      ]
     },
     "execution_count": 481,
     "metadata": {},
     "output_type": "execute_result"
    }
   ],
   "source": [
    "y_pred_inf = rfc.predict(data_inf)\n",
    "y_pred_inf_df = pd.DataFrame(y_pred_inf, columns=['heartattack_chance - Inference'])\n",
    "y_pred_inf_df"
   ]
  },
  {
   "cell_type": "code",
   "execution_count": 483,
   "metadata": {},
   "outputs": [
    {
     "name": "stderr",
     "output_type": "stream",
     "text": [
      "C:\\Users\\danan\\AppData\\Local\\Programs\\Python\\Python310\\lib\\site-packages\\sklearn\\base.py:444: UserWarning: X has feature names, but DecisionTreeClassifier was fitted without feature names\n",
      "  warnings.warn(\n"
     ]
    },
    {
     "data": {
      "text/html": [
       "<div>\n",
       "<style scoped>\n",
       "    .dataframe tbody tr th:only-of-type {\n",
       "        vertical-align: middle;\n",
       "    }\n",
       "\n",
       "    .dataframe tbody tr th {\n",
       "        vertical-align: top;\n",
       "    }\n",
       "\n",
       "    .dataframe thead th {\n",
       "        text-align: right;\n",
       "    }\n",
       "</style>\n",
       "<table border=\"1\" class=\"dataframe\">\n",
       "  <thead>\n",
       "    <tr style=\"text-align: right;\">\n",
       "      <th></th>\n",
       "      <th>heartattack_chance - Inference</th>\n",
       "    </tr>\n",
       "  </thead>\n",
       "  <tbody>\n",
       "    <tr>\n",
       "      <th>0</th>\n",
       "      <td>0</td>\n",
       "    </tr>\n",
       "    <tr>\n",
       "      <th>1</th>\n",
       "      <td>1</td>\n",
       "    </tr>\n",
       "    <tr>\n",
       "      <th>2</th>\n",
       "      <td>0</td>\n",
       "    </tr>\n",
       "    <tr>\n",
       "      <th>3</th>\n",
       "      <td>0</td>\n",
       "    </tr>\n",
       "    <tr>\n",
       "      <th>4</th>\n",
       "      <td>0</td>\n",
       "    </tr>\n",
       "    <tr>\n",
       "      <th>5</th>\n",
       "      <td>0</td>\n",
       "    </tr>\n",
       "    <tr>\n",
       "      <th>6</th>\n",
       "      <td>0</td>\n",
       "    </tr>\n",
       "    <tr>\n",
       "      <th>7</th>\n",
       "      <td>0</td>\n",
       "    </tr>\n",
       "    <tr>\n",
       "      <th>8</th>\n",
       "      <td>0</td>\n",
       "    </tr>\n",
       "    <tr>\n",
       "      <th>9</th>\n",
       "      <td>0</td>\n",
       "    </tr>\n",
       "  </tbody>\n",
       "</table>\n",
       "</div>"
      ],
      "text/plain": [
       "   heartattack_chance - Inference\n",
       "0                               0\n",
       "1                               1\n",
       "2                               0\n",
       "3                               0\n",
       "4                               0\n",
       "5                               0\n",
       "6                               0\n",
       "7                               0\n",
       "8                               0\n",
       "9                               0"
      ]
     },
     "execution_count": 483,
     "metadata": {},
     "output_type": "execute_result"
    }
   ],
   "source": [
    "y_pred_inf_dt = dt.predict(data_inf)\n",
    "y_pred_inf_df_dt = pd.DataFrame(y_pred_inf, columns=['heartattack_chance - Inference'])\n",
    "y_pred_inf_df_dt"
   ]
  },
  {
   "cell_type": "code",
   "execution_count": 482,
   "metadata": {},
   "outputs": [
    {
     "data": {
      "text/plain": [
       "225    0\n",
       "152    1\n",
       "228    0\n",
       "201    0\n",
       "52     1\n",
       "245    0\n",
       "175    0\n",
       "168    0\n",
       "223    0\n",
       "217    0\n",
       "Name: heartattack_chance, dtype: int64"
      ]
     },
     "execution_count": 482,
     "metadata": {},
     "output_type": "execute_result"
    }
   ],
   "source": [
    "data_inf_test['heartattack_chance']"
   ]
  },
  {
   "cell_type": "markdown",
   "metadata": {},
   "source": [
    "#### Note   :\n",
    "1.  Berdasarkan hasil dari prediksi menggunakan Data Inference pada kedua model, random forest ataupun Decision Tree perbandingan antara dataset asli dengan prediksi adalah dari 10 sampel didapat 8 prediksi tepat, sedangkan 2 buah prediksi salah\n",
    "sehingga dapat disimpulkan model memiliki akurasi 80%"
   ]
  },
  {
   "cell_type": "markdown",
   "metadata": {},
   "source": [
    "---\n",
    "---\n",
    "### Kesimpulan "
   ]
  },
  {
   "cell_type": "markdown",
   "metadata": {},
   "source": [
    "1. sebelum dituning hyperparamter kedua model underfiting\n",
    "2. setelah dituning hyperparamerter model Decision Tree tidak undefitinf lagi, sedangkan random forest masih\n",
    "3. pada model ini lebih disarankan menggunakan decision tree karena, random forest tidak cocok untuk dataset yang sederhana sedangkan decision tree lebih cocok"
   ]
  }
 ],
 "metadata": {
  "interpreter": {
   "hash": "ec48a7eb029cdc542407fb9869288c96ab6e2ae880e1da9f0814a29f5bb615aa"
  },
  "kernelspec": {
   "display_name": "Python 3.10.0 64-bit",
   "language": "python",
   "name": "python3"
  },
  "language_info": {
   "codemirror_mode": {
    "name": "ipython",
    "version": 3
   },
   "file_extension": ".py",
   "mimetype": "text/x-python",
   "name": "python",
   "nbconvert_exporter": "python",
   "pygments_lexer": "ipython3",
   "version": "3.10.0"
  },
  "orig_nbformat": 4
 },
 "nbformat": 4,
 "nbformat_minor": 2
}
