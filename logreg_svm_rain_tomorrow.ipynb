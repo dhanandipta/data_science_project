{
 "cells": [
  {
   "cell_type": "markdown",
   "metadata": {},
   "source": [
    "## 1.    Perkenalan\n",
    "\n",
    "Nama    : I Made Dhanan Pradipta <br>\n",
    "Batch   : 10\n",
    "\n",
    "Objecktif : <br><br>\n",
    "        Mampu memahami konsep Classification dengan Logistic Regression dan SVM <br>\n",
    "        Mampu mempersiapkan data untuk digunakan dalam model Logistic Regression dan SVM <br>\n",
    "        Mampu mengimplementasikan Logistic Regression dan SVM untuk membuat prediksi\n"
   ]
  },
  {
   "cell_type": "markdown",
   "metadata": {},
   "source": [
    "---\n",
    "---\n",
    "## 2.   Import Library"
   ]
  },
  {
   "cell_type": "code",
   "execution_count": 1,
   "metadata": {},
   "outputs": [],
   "source": [
    "#library for data processing\n",
    "import pandas as pd\n",
    "import numpy as np\n",
    "\n",
    "#library fo visualization\n",
    "import matplotlib.pyplot as plt\n",
    "import seaborn as sns\n",
    "\n",
    "from sklearn.model_selection import train_test_split\n",
    "from sklearn.preprocessing import OneHotEncoder\n",
    "from sklearn.preprocessing import MinMaxScaler\n",
    "from sklearn.linear_model import LogisticRegression\n",
    "from sklearn.metrics import accuracy_score\n",
    "from sklearn.svm import SVC\n",
    "from sklearn.metrics import classification_report\n",
    "from sklearn.model_selection import RepeatedStratifiedKFold\n",
    "from sklearn.model_selection import GridSearchCV\n"
   ]
  },
  {
   "cell_type": "code",
   "execution_count": 2,
   "metadata": {},
   "outputs": [],
   "source": [
    "import warnings\n",
    "\n",
    "warnings.filterwarnings('ignore')"
   ]
  },
  {
   "cell_type": "markdown",
   "metadata": {},
   "source": [
    "---\n",
    "---\n",
    "## 3.   Data Loading"
   ]
  },
  {
   "cell_type": "code",
   "execution_count": 3,
   "metadata": {},
   "outputs": [],
   "source": [
    "#load data with csv extension\n",
    "df = pd.read_csv('dataset/weatherAUS.csv') "
   ]
  },
  {
   "cell_type": "code",
   "execution_count": 4,
   "metadata": {},
   "outputs": [
    {
     "data": {
      "text/html": [
       "<div>\n",
       "<style scoped>\n",
       "    .dataframe tbody tr th:only-of-type {\n",
       "        vertical-align: middle;\n",
       "    }\n",
       "\n",
       "    .dataframe tbody tr th {\n",
       "        vertical-align: top;\n",
       "    }\n",
       "\n",
       "    .dataframe thead th {\n",
       "        text-align: right;\n",
       "    }\n",
       "</style>\n",
       "<table border=\"1\" class=\"dataframe\">\n",
       "  <thead>\n",
       "    <tr style=\"text-align: right;\">\n",
       "      <th></th>\n",
       "      <th>Date</th>\n",
       "      <th>Location</th>\n",
       "      <th>MinTemp</th>\n",
       "      <th>MaxTemp</th>\n",
       "      <th>Rainfall</th>\n",
       "      <th>Evaporation</th>\n",
       "      <th>Sunshine</th>\n",
       "      <th>WindGustDir</th>\n",
       "      <th>WindGustSpeed</th>\n",
       "      <th>WindDir9am</th>\n",
       "      <th>...</th>\n",
       "      <th>Humidity9am</th>\n",
       "      <th>Humidity3pm</th>\n",
       "      <th>Pressure9am</th>\n",
       "      <th>Pressure3pm</th>\n",
       "      <th>Cloud9am</th>\n",
       "      <th>Cloud3pm</th>\n",
       "      <th>Temp9am</th>\n",
       "      <th>Temp3pm</th>\n",
       "      <th>RainToday</th>\n",
       "      <th>RainTomorrow</th>\n",
       "    </tr>\n",
       "  </thead>\n",
       "  <tbody>\n",
       "    <tr>\n",
       "      <th>0</th>\n",
       "      <td>2008-12-01</td>\n",
       "      <td>Albury</td>\n",
       "      <td>13.4</td>\n",
       "      <td>22.9</td>\n",
       "      <td>0.6</td>\n",
       "      <td>NaN</td>\n",
       "      <td>NaN</td>\n",
       "      <td>W</td>\n",
       "      <td>44.0</td>\n",
       "      <td>W</td>\n",
       "      <td>...</td>\n",
       "      <td>71.0</td>\n",
       "      <td>22.0</td>\n",
       "      <td>1007.7</td>\n",
       "      <td>1007.1</td>\n",
       "      <td>8.0</td>\n",
       "      <td>NaN</td>\n",
       "      <td>16.9</td>\n",
       "      <td>21.8</td>\n",
       "      <td>No</td>\n",
       "      <td>No</td>\n",
       "    </tr>\n",
       "    <tr>\n",
       "      <th>1</th>\n",
       "      <td>2008-12-02</td>\n",
       "      <td>Albury</td>\n",
       "      <td>7.4</td>\n",
       "      <td>25.1</td>\n",
       "      <td>0.0</td>\n",
       "      <td>NaN</td>\n",
       "      <td>NaN</td>\n",
       "      <td>WNW</td>\n",
       "      <td>44.0</td>\n",
       "      <td>NNW</td>\n",
       "      <td>...</td>\n",
       "      <td>44.0</td>\n",
       "      <td>25.0</td>\n",
       "      <td>1010.6</td>\n",
       "      <td>1007.8</td>\n",
       "      <td>NaN</td>\n",
       "      <td>NaN</td>\n",
       "      <td>17.2</td>\n",
       "      <td>24.3</td>\n",
       "      <td>No</td>\n",
       "      <td>No</td>\n",
       "    </tr>\n",
       "    <tr>\n",
       "      <th>2</th>\n",
       "      <td>2008-12-03</td>\n",
       "      <td>Albury</td>\n",
       "      <td>12.9</td>\n",
       "      <td>25.7</td>\n",
       "      <td>0.0</td>\n",
       "      <td>NaN</td>\n",
       "      <td>NaN</td>\n",
       "      <td>WSW</td>\n",
       "      <td>46.0</td>\n",
       "      <td>W</td>\n",
       "      <td>...</td>\n",
       "      <td>38.0</td>\n",
       "      <td>30.0</td>\n",
       "      <td>1007.6</td>\n",
       "      <td>1008.7</td>\n",
       "      <td>NaN</td>\n",
       "      <td>2.0</td>\n",
       "      <td>21.0</td>\n",
       "      <td>23.2</td>\n",
       "      <td>No</td>\n",
       "      <td>No</td>\n",
       "    </tr>\n",
       "    <tr>\n",
       "      <th>3</th>\n",
       "      <td>2008-12-04</td>\n",
       "      <td>Albury</td>\n",
       "      <td>9.2</td>\n",
       "      <td>28.0</td>\n",
       "      <td>0.0</td>\n",
       "      <td>NaN</td>\n",
       "      <td>NaN</td>\n",
       "      <td>NE</td>\n",
       "      <td>24.0</td>\n",
       "      <td>SE</td>\n",
       "      <td>...</td>\n",
       "      <td>45.0</td>\n",
       "      <td>16.0</td>\n",
       "      <td>1017.6</td>\n",
       "      <td>1012.8</td>\n",
       "      <td>NaN</td>\n",
       "      <td>NaN</td>\n",
       "      <td>18.1</td>\n",
       "      <td>26.5</td>\n",
       "      <td>No</td>\n",
       "      <td>No</td>\n",
       "    </tr>\n",
       "    <tr>\n",
       "      <th>4</th>\n",
       "      <td>2008-12-05</td>\n",
       "      <td>Albury</td>\n",
       "      <td>17.5</td>\n",
       "      <td>32.3</td>\n",
       "      <td>1.0</td>\n",
       "      <td>NaN</td>\n",
       "      <td>NaN</td>\n",
       "      <td>W</td>\n",
       "      <td>41.0</td>\n",
       "      <td>ENE</td>\n",
       "      <td>...</td>\n",
       "      <td>82.0</td>\n",
       "      <td>33.0</td>\n",
       "      <td>1010.8</td>\n",
       "      <td>1006.0</td>\n",
       "      <td>7.0</td>\n",
       "      <td>8.0</td>\n",
       "      <td>17.8</td>\n",
       "      <td>29.7</td>\n",
       "      <td>No</td>\n",
       "      <td>No</td>\n",
       "    </tr>\n",
       "  </tbody>\n",
       "</table>\n",
       "<p>5 rows × 23 columns</p>\n",
       "</div>"
      ],
      "text/plain": [
       "         Date Location  MinTemp  MaxTemp  Rainfall  Evaporation  Sunshine  \\\n",
       "0  2008-12-01   Albury     13.4     22.9       0.6          NaN       NaN   \n",
       "1  2008-12-02   Albury      7.4     25.1       0.0          NaN       NaN   \n",
       "2  2008-12-03   Albury     12.9     25.7       0.0          NaN       NaN   \n",
       "3  2008-12-04   Albury      9.2     28.0       0.0          NaN       NaN   \n",
       "4  2008-12-05   Albury     17.5     32.3       1.0          NaN       NaN   \n",
       "\n",
       "  WindGustDir  WindGustSpeed WindDir9am  ... Humidity9am  Humidity3pm  \\\n",
       "0           W           44.0          W  ...        71.0         22.0   \n",
       "1         WNW           44.0        NNW  ...        44.0         25.0   \n",
       "2         WSW           46.0          W  ...        38.0         30.0   \n",
       "3          NE           24.0         SE  ...        45.0         16.0   \n",
       "4           W           41.0        ENE  ...        82.0         33.0   \n",
       "\n",
       "   Pressure9am  Pressure3pm  Cloud9am  Cloud3pm  Temp9am  Temp3pm  RainToday  \\\n",
       "0       1007.7       1007.1       8.0       NaN     16.9     21.8         No   \n",
       "1       1010.6       1007.8       NaN       NaN     17.2     24.3         No   \n",
       "2       1007.6       1008.7       NaN       2.0     21.0     23.2         No   \n",
       "3       1017.6       1012.8       NaN       NaN     18.1     26.5         No   \n",
       "4       1010.8       1006.0       7.0       8.0     17.8     29.7         No   \n",
       "\n",
       "   RainTomorrow  \n",
       "0            No  \n",
       "1            No  \n",
       "2            No  \n",
       "3            No  \n",
       "4            No  \n",
       "\n",
       "[5 rows x 23 columns]"
      ]
     },
     "execution_count": 4,
     "metadata": {},
     "output_type": "execute_result"
    }
   ],
   "source": [
    "#inspect 5 beginning  row\n",
    "df.head()"
   ]
  },
  {
   "cell_type": "code",
   "execution_count": 5,
   "metadata": {},
   "outputs": [
    {
     "name": "stdout",
     "output_type": "stream",
     "text": [
      "<class 'pandas.core.frame.DataFrame'>\n",
      "RangeIndex: 145460 entries, 0 to 145459\n",
      "Data columns (total 23 columns):\n",
      " #   Column         Non-Null Count   Dtype  \n",
      "---  ------         --------------   -----  \n",
      " 0   Date           145460 non-null  object \n",
      " 1   Location       145460 non-null  object \n",
      " 2   MinTemp        143975 non-null  float64\n",
      " 3   MaxTemp        144199 non-null  float64\n",
      " 4   Rainfall       142199 non-null  float64\n",
      " 5   Evaporation    82670 non-null   float64\n",
      " 6   Sunshine       75625 non-null   float64\n",
      " 7   WindGustDir    135134 non-null  object \n",
      " 8   WindGustSpeed  135197 non-null  float64\n",
      " 9   WindDir9am     134894 non-null  object \n",
      " 10  WindDir3pm     141232 non-null  object \n",
      " 11  WindSpeed9am   143693 non-null  float64\n",
      " 12  WindSpeed3pm   142398 non-null  float64\n",
      " 13  Humidity9am    142806 non-null  float64\n",
      " 14  Humidity3pm    140953 non-null  float64\n",
      " 15  Pressure9am    130395 non-null  float64\n",
      " 16  Pressure3pm    130432 non-null  float64\n",
      " 17  Cloud9am       89572 non-null   float64\n",
      " 18  Cloud3pm       86102 non-null   float64\n",
      " 19  Temp9am        143693 non-null  float64\n",
      " 20  Temp3pm        141851 non-null  float64\n",
      " 21  RainToday      142199 non-null  object \n",
      " 22  RainTomorrow   142193 non-null  object \n",
      "dtypes: float64(16), object(7)\n",
      "memory usage: 25.5+ MB\n"
     ]
    }
   ],
   "source": [
    "#inspect info of dataset\n",
    "df.info()"
   ]
  },
  {
   "cell_type": "code",
   "execution_count": 6,
   "metadata": {},
   "outputs": [
    {
     "data": {
      "text/plain": [
       "Index(['Date', 'Location', 'MinTemp', 'MaxTemp', 'Rainfall', 'Evaporation',\n",
       "       'Sunshine', 'WindGustDir', 'WindGustSpeed', 'WindDir9am', 'WindDir3pm',\n",
       "       'WindSpeed9am', 'WindSpeed3pm', 'Humidity9am', 'Humidity3pm',\n",
       "       'Pressure9am', 'Pressure3pm', 'Cloud9am', 'Cloud3pm', 'Temp9am',\n",
       "       'Temp3pm', 'RainToday', 'RainTomorrow'],\n",
       "      dtype='object')"
      ]
     },
     "execution_count": 6,
     "metadata": {},
     "output_type": "execute_result"
    }
   ],
   "source": [
    "#check name of columns\n",
    "df.columns"
   ]
  },
  {
   "cell_type": "code",
   "execution_count": 7,
   "metadata": {},
   "outputs": [],
   "source": [
    "#make a copy of default dataset for later uses\n",
    "rain_df = df.copy()"
   ]
  },
  {
   "cell_type": "code",
   "execution_count": 8,
   "metadata": {},
   "outputs": [
    {
     "data": {
      "text/plain": [
       "Date                 0\n",
       "Location             0\n",
       "MinTemp           1485\n",
       "MaxTemp           1261\n",
       "Rainfall          3261\n",
       "Evaporation      62790\n",
       "Sunshine         69835\n",
       "WindGustDir      10326\n",
       "WindGustSpeed    10263\n",
       "WindDir9am       10566\n",
       "WindDir3pm        4228\n",
       "WindSpeed9am      1767\n",
       "WindSpeed3pm      3062\n",
       "Humidity9am       2654\n",
       "Humidity3pm       4507\n",
       "Pressure9am      15065\n",
       "Pressure3pm      15028\n",
       "Cloud9am         55888\n",
       "Cloud3pm         59358\n",
       "Temp9am           1767\n",
       "Temp3pm           3609\n",
       "RainToday         3261\n",
       "RainTomorrow      3267\n",
       "dtype: int64"
      ]
     },
     "execution_count": 8,
     "metadata": {},
     "output_type": "execute_result"
    }
   ],
   "source": [
    "#check missing value dataset\n",
    "rain_df.isnull().sum()"
   ]
  },
  {
   "cell_type": "markdown",
   "metadata": {},
   "source": [
    "#### Note    :\n",
    "1. dataset terdiri dari 23 columns dan 145460 row\n",
    "2. type data pada dataset mix antara _float64_ dan _object_\n",
    "3. kolom numerikal mempunyai type _object_\n",
    "4. kolom categorikal mempunyai type _float64_\n",
    "5. terdapat missing value pada dataset\n"
   ]
  },
  {
   "cell_type": "markdown",
   "metadata": {},
   "source": [
    "---\n",
    "---\n",
    "## 4.   Exploratory Data Analysis (EDA)"
   ]
  },
  {
   "cell_type": "markdown",
   "metadata": {},
   "source": [
    "#### Step by Step\n",
    "1. Target analysis\n",
    "2. Variabel analysis\n",
    "    - Numerikal\n",
    "    - Categorikal\n",
    "3. Cek missing value\n",
    "4. Cek Outlier"
   ]
  },
  {
   "cell_type": "markdown",
   "metadata": {},
   "source": [
    "---\n",
    "#### 1.  Target Analysis (_RainTomorrow_)"
   ]
  },
  {
   "cell_type": "code",
   "execution_count": 9,
   "metadata": {},
   "outputs": [
    {
     "data": {
      "text/plain": [
       "No     110316\n",
       "Yes     31877\n",
       "Name: RainTomorrow, dtype: int64"
      ]
     },
     "execution_count": 9,
     "metadata": {},
     "output_type": "execute_result"
    }
   ],
   "source": [
    "#check value of target\n",
    "rain_df['RainTomorrow'].value_counts()"
   ]
  },
  {
   "cell_type": "code",
   "execution_count": 10,
   "metadata": {},
   "outputs": [
    {
     "data": {
      "text/plain": [
       "3267"
      ]
     },
     "execution_count": 10,
     "metadata": {},
     "output_type": "execute_result"
    }
   ],
   "source": [
    "#check missing value of target\n",
    "rain_df['RainTomorrow'].isnull().sum()"
   ]
  },
  {
   "cell_type": "code",
   "execution_count": 11,
   "metadata": {},
   "outputs": [],
   "source": [
    "#drop missing value of target\n",
    "rain_df.dropna(subset=['RainTomorrow'], inplace=True)"
   ]
  },
  {
   "cell_type": "code",
   "execution_count": 12,
   "metadata": {},
   "outputs": [
    {
     "data": {
      "text/plain": [
       "(142193,)"
      ]
     },
     "execution_count": 12,
     "metadata": {},
     "output_type": "execute_result"
    }
   ],
   "source": [
    "#check shape of target\n",
    "rain_df['RainTomorrow'].shape\n"
   ]
  },
  {
   "cell_type": "code",
   "execution_count": 13,
   "metadata": {},
   "outputs": [
    {
     "data": {
      "text/plain": [
       "array(['No', 'Yes'], dtype=object)"
      ]
     },
     "execution_count": 13,
     "metadata": {},
     "output_type": "execute_result"
    }
   ],
   "source": [
    "#check unique value of target\n",
    "rain_df['RainTomorrow'].unique()"
   ]
  },
  {
   "cell_type": "code",
   "execution_count": 14,
   "metadata": {},
   "outputs": [],
   "source": [
    "rain_count = rain_df.groupby('RainTomorrow').size().reset_index(name=\"counts\")"
   ]
  },
  {
   "cell_type": "code",
   "execution_count": 15,
   "metadata": {},
   "outputs": [
    {
     "name": "stdout",
     "output_type": "stream",
     "text": [
      "  RainTomorrow  counts\n",
      "0           No  110316\n",
      "1          Yes   31877\n"
     ]
    },
    {
     "data": {
      "image/png": "[encoded data removed]",
      "text/plain": [
       "<Figure size 576x432 with 1 Axes>"
      ]
     },
     "metadata": {
      "needs_background": "light"
     },
     "output_type": "display_data"
    }
   ],
   "source": [
    "#make visualization of target\n",
    "print(rain_count)\n",
    "plt.figure(figsize=(8, 6))\n",
    "ax = sns.barplot(x=\"RainTomorrow\", y=\"counts\", data=rain_count)"
   ]
  },
  {
   "cell_type": "markdown",
   "metadata": {},
   "source": [
    "#### Note   :\n",
    "1. Nama kolom target yaitu _RainTomorrow_, dimana hasil dari prediksi kondisi hujan besok berdasarkan feature2nya\n",
    "2. Value pada kolom target adalah _Yes_, _No_ dan _Nan_\n",
    "3. Terdapat missing value _Nan_, dimana value tsb harus segera didrop\n",
    "4. Terdapat 3267 buah missing value pada kolom target\n",
    "5. row akhir berjumlah 142193 setelah missing value dihapus\n",
    "6. Terdapat 110316 dengan value _No_ yang berarti tidak hujan pada besok hari\n",
    "7. Terdapat 31877 dengan value _Yes_ yang berarti hujan pada besok hari"
   ]
  },
  {
   "cell_type": "markdown",
   "metadata": {},
   "source": [
    "---\n",
    "#### 2.  Variable Analysis"
   ]
  },
  {
   "cell_type": "markdown",
   "metadata": {},
   "source": [
    "a.  Numerical Columns"
   ]
  },
  {
   "cell_type": "code",
   "execution_count": 16,
   "metadata": {},
   "outputs": [
    {
     "name": "stdout",
     "output_type": "stream",
     "text": [
      "Numerical Columns are :  ['MinTemp', 'MaxTemp', 'Rainfall', 'Evaporation', 'Sunshine', 'WindGustSpeed', 'WindSpeed9am', 'WindSpeed3pm', 'Humidity9am', 'Humidity3pm', 'Pressure9am', 'Pressure3pm', 'Cloud9am', 'Cloud3pm', 'Temp9am', 'Temp3pm']\n",
      "\n",
      "Categorical Columns are :  ['Date', 'Location', 'WindGustDir', 'WindDir9am', 'WindDir3pm', 'RainToday', 'RainTomorrow']\n"
     ]
    }
   ],
   "source": [
    "#split columns in 2 type, numerical and categorical\n",
    "num_columns = rain_df.select_dtypes(include=np.number).columns.tolist()\n",
    "cat_columns = rain_df.select_dtypes(include=['object']).columns.tolist()\n",
    "\n",
    "print('Numerical Columns are : ' , num_columns)\n",
    "print()\n",
    "print('Categorical Columns are : ' , cat_columns)"
   ]
  },
  {
   "cell_type": "code",
   "execution_count": 17,
   "metadata": {},
   "outputs": [
    {
     "data": {
      "text/plain": [
       "MinTemp            637\n",
       "MaxTemp            322\n",
       "Rainfall          1406\n",
       "Evaporation      60843\n",
       "Sunshine         67816\n",
       "WindGustSpeed     9270\n",
       "WindSpeed9am      1348\n",
       "WindSpeed3pm      2630\n",
       "Humidity9am       1774\n",
       "Humidity3pm       3610\n",
       "Pressure9am      14014\n",
       "Pressure3pm      13981\n",
       "Cloud9am         53657\n",
       "Cloud3pm         57094\n",
       "Temp9am            904\n",
       "Temp3pm           2726\n",
       "dtype: int64"
      ]
     },
     "execution_count": 17,
     "metadata": {},
     "output_type": "execute_result"
    }
   ],
   "source": [
    "#check missing value from num columns\n",
    "rain_df[num_columns].isnull().sum()"
   ]
  },
  {
   "cell_type": "code",
   "execution_count": 18,
   "metadata": {},
   "outputs": [
    {
     "data": {
      "text/html": [
       "<div>\n",
       "<style scoped>\n",
       "    .dataframe tbody tr th:only-of-type {\n",
       "        vertical-align: middle;\n",
       "    }\n",
       "\n",
       "    .dataframe tbody tr th {\n",
       "        vertical-align: top;\n",
       "    }\n",
       "\n",
       "    .dataframe thead th {\n",
       "        text-align: right;\n",
       "    }\n",
       "</style>\n",
       "<table border=\"1\" class=\"dataframe\">\n",
       "  <thead>\n",
       "    <tr style=\"text-align: right;\">\n",
       "      <th></th>\n",
       "      <th>MinTemp</th>\n",
       "      <th>MaxTemp</th>\n",
       "      <th>Rainfall</th>\n",
       "      <th>Evaporation</th>\n",
       "      <th>Sunshine</th>\n",
       "      <th>WindGustSpeed</th>\n",
       "      <th>WindSpeed9am</th>\n",
       "      <th>WindSpeed3pm</th>\n",
       "      <th>Humidity9am</th>\n",
       "      <th>Humidity3pm</th>\n",
       "      <th>Pressure9am</th>\n",
       "      <th>Pressure3pm</th>\n",
       "      <th>Cloud9am</th>\n",
       "      <th>Cloud3pm</th>\n",
       "      <th>Temp9am</th>\n",
       "      <th>Temp3pm</th>\n",
       "    </tr>\n",
       "  </thead>\n",
       "  <tbody>\n",
       "    <tr>\n",
       "      <th>count</th>\n",
       "      <td>141556.000000</td>\n",
       "      <td>141871.000000</td>\n",
       "      <td>140787.000000</td>\n",
       "      <td>81350.000000</td>\n",
       "      <td>74377.000000</td>\n",
       "      <td>132923.000000</td>\n",
       "      <td>140845.000000</td>\n",
       "      <td>139563.000000</td>\n",
       "      <td>140419.000000</td>\n",
       "      <td>138583.000000</td>\n",
       "      <td>128179.000000</td>\n",
       "      <td>128212.000000</td>\n",
       "      <td>88536.000000</td>\n",
       "      <td>85099.000000</td>\n",
       "      <td>141289.000000</td>\n",
       "      <td>139467.000000</td>\n",
       "    </tr>\n",
       "    <tr>\n",
       "      <th>mean</th>\n",
       "      <td>12.186400</td>\n",
       "      <td>23.226784</td>\n",
       "      <td>2.349974</td>\n",
       "      <td>5.469824</td>\n",
       "      <td>7.624853</td>\n",
       "      <td>39.984292</td>\n",
       "      <td>14.001988</td>\n",
       "      <td>18.637576</td>\n",
       "      <td>68.843810</td>\n",
       "      <td>51.482606</td>\n",
       "      <td>1017.653758</td>\n",
       "      <td>1015.258204</td>\n",
       "      <td>4.437189</td>\n",
       "      <td>4.503167</td>\n",
       "      <td>16.987509</td>\n",
       "      <td>21.687235</td>\n",
       "    </tr>\n",
       "    <tr>\n",
       "      <th>std</th>\n",
       "      <td>6.403283</td>\n",
       "      <td>7.117618</td>\n",
       "      <td>8.465173</td>\n",
       "      <td>4.188537</td>\n",
       "      <td>3.781525</td>\n",
       "      <td>13.588801</td>\n",
       "      <td>8.893337</td>\n",
       "      <td>8.803345</td>\n",
       "      <td>19.051293</td>\n",
       "      <td>20.797772</td>\n",
       "      <td>7.105476</td>\n",
       "      <td>7.036677</td>\n",
       "      <td>2.887016</td>\n",
       "      <td>2.720633</td>\n",
       "      <td>6.492838</td>\n",
       "      <td>6.937594</td>\n",
       "    </tr>\n",
       "    <tr>\n",
       "      <th>min</th>\n",
       "      <td>-8.500000</td>\n",
       "      <td>-4.800000</td>\n",
       "      <td>0.000000</td>\n",
       "      <td>0.000000</td>\n",
       "      <td>0.000000</td>\n",
       "      <td>6.000000</td>\n",
       "      <td>0.000000</td>\n",
       "      <td>0.000000</td>\n",
       "      <td>0.000000</td>\n",
       "      <td>0.000000</td>\n",
       "      <td>980.500000</td>\n",
       "      <td>977.100000</td>\n",
       "      <td>0.000000</td>\n",
       "      <td>0.000000</td>\n",
       "      <td>-7.200000</td>\n",
       "      <td>-5.400000</td>\n",
       "    </tr>\n",
       "    <tr>\n",
       "      <th>25%</th>\n",
       "      <td>7.600000</td>\n",
       "      <td>17.900000</td>\n",
       "      <td>0.000000</td>\n",
       "      <td>2.600000</td>\n",
       "      <td>4.900000</td>\n",
       "      <td>31.000000</td>\n",
       "      <td>7.000000</td>\n",
       "      <td>13.000000</td>\n",
       "      <td>57.000000</td>\n",
       "      <td>37.000000</td>\n",
       "      <td>1012.900000</td>\n",
       "      <td>1010.400000</td>\n",
       "      <td>1.000000</td>\n",
       "      <td>2.000000</td>\n",
       "      <td>12.300000</td>\n",
       "      <td>16.600000</td>\n",
       "    </tr>\n",
       "    <tr>\n",
       "      <th>50%</th>\n",
       "      <td>12.000000</td>\n",
       "      <td>22.600000</td>\n",
       "      <td>0.000000</td>\n",
       "      <td>4.800000</td>\n",
       "      <td>8.500000</td>\n",
       "      <td>39.000000</td>\n",
       "      <td>13.000000</td>\n",
       "      <td>19.000000</td>\n",
       "      <td>70.000000</td>\n",
       "      <td>52.000000</td>\n",
       "      <td>1017.600000</td>\n",
       "      <td>1015.200000</td>\n",
       "      <td>5.000000</td>\n",
       "      <td>5.000000</td>\n",
       "      <td>16.700000</td>\n",
       "      <td>21.100000</td>\n",
       "    </tr>\n",
       "    <tr>\n",
       "      <th>75%</th>\n",
       "      <td>16.800000</td>\n",
       "      <td>28.200000</td>\n",
       "      <td>0.800000</td>\n",
       "      <td>7.400000</td>\n",
       "      <td>10.600000</td>\n",
       "      <td>48.000000</td>\n",
       "      <td>19.000000</td>\n",
       "      <td>24.000000</td>\n",
       "      <td>83.000000</td>\n",
       "      <td>66.000000</td>\n",
       "      <td>1022.400000</td>\n",
       "      <td>1020.000000</td>\n",
       "      <td>7.000000</td>\n",
       "      <td>7.000000</td>\n",
       "      <td>21.600000</td>\n",
       "      <td>26.400000</td>\n",
       "    </tr>\n",
       "    <tr>\n",
       "      <th>max</th>\n",
       "      <td>33.900000</td>\n",
       "      <td>48.100000</td>\n",
       "      <td>371.000000</td>\n",
       "      <td>145.000000</td>\n",
       "      <td>14.500000</td>\n",
       "      <td>135.000000</td>\n",
       "      <td>130.000000</td>\n",
       "      <td>87.000000</td>\n",
       "      <td>100.000000</td>\n",
       "      <td>100.000000</td>\n",
       "      <td>1041.000000</td>\n",
       "      <td>1039.600000</td>\n",
       "      <td>9.000000</td>\n",
       "      <td>9.000000</td>\n",
       "      <td>40.200000</td>\n",
       "      <td>46.700000</td>\n",
       "    </tr>\n",
       "  </tbody>\n",
       "</table>\n",
       "</div>"
      ],
      "text/plain": [
       "             MinTemp        MaxTemp       Rainfall   Evaporation  \\\n",
       "count  141556.000000  141871.000000  140787.000000  81350.000000   \n",
       "mean       12.186400      23.226784       2.349974      5.469824   \n",
       "std         6.403283       7.117618       8.465173      4.188537   \n",
       "min        -8.500000      -4.800000       0.000000      0.000000   \n",
       "25%         7.600000      17.900000       0.000000      2.600000   \n",
       "50%        12.000000      22.600000       0.000000      4.800000   \n",
       "75%        16.800000      28.200000       0.800000      7.400000   \n",
       "max        33.900000      48.100000     371.000000    145.000000   \n",
       "\n",
       "           Sunshine  WindGustSpeed   WindSpeed9am   WindSpeed3pm  \\\n",
       "count  74377.000000  132923.000000  140845.000000  139563.000000   \n",
       "mean       7.624853      39.984292      14.001988      18.637576   \n",
       "std        3.781525      13.588801       8.893337       8.803345   \n",
       "min        0.000000       6.000000       0.000000       0.000000   \n",
       "25%        4.900000      31.000000       7.000000      13.000000   \n",
       "50%        8.500000      39.000000      13.000000      19.000000   \n",
       "75%       10.600000      48.000000      19.000000      24.000000   \n",
       "max       14.500000     135.000000     130.000000      87.000000   \n",
       "\n",
       "         Humidity9am    Humidity3pm    Pressure9am    Pressure3pm  \\\n",
       "count  140419.000000  138583.000000  128179.000000  128212.000000   \n",
       "mean       68.843810      51.482606    1017.653758    1015.258204   \n",
       "std        19.051293      20.797772       7.105476       7.036677   \n",
       "min         0.000000       0.000000     980.500000     977.100000   \n",
       "25%        57.000000      37.000000    1012.900000    1010.400000   \n",
       "50%        70.000000      52.000000    1017.600000    1015.200000   \n",
       "75%        83.000000      66.000000    1022.400000    1020.000000   \n",
       "max       100.000000     100.000000    1041.000000    1039.600000   \n",
       "\n",
       "           Cloud9am      Cloud3pm        Temp9am        Temp3pm  \n",
       "count  88536.000000  85099.000000  141289.000000  139467.000000  \n",
       "mean       4.437189      4.503167      16.987509      21.687235  \n",
       "std        2.887016      2.720633       6.492838       6.937594  \n",
       "min        0.000000      0.000000      -7.200000      -5.400000  \n",
       "25%        1.000000      2.000000      12.300000      16.600000  \n",
       "50%        5.000000      5.000000      16.700000      21.100000  \n",
       "75%        7.000000      7.000000      21.600000      26.400000  \n",
       "max        9.000000      9.000000      40.200000      46.700000  "
      ]
     },
     "execution_count": 18,
     "metadata": {},
     "output_type": "execute_result"
    }
   ],
   "source": [
    "#check describe of num columns\n",
    "rain_df[num_columns].describe()"
   ]
  },
  {
   "cell_type": "code",
   "execution_count": 101,
   "metadata": {},
   "outputs": [
    {
     "data": {
      "text/plain": [
       "Text(0, 0.5, 'WindGustSpeed')"
      ]
     },
     "execution_count": 101,
     "metadata": {},
     "output_type": "execute_result"
    },
    {
     "data": {
      "image/png": "[encoded data removed]",
      "text/plain": [
       "<Figure size 1080x720 with 5 Axes>"
      ]
     },
     "metadata": {
      "needs_background": "light"
     },
     "output_type": "display_data"
    }
   ],
   "source": [
    "#make visualization of num columns on boxplot\n",
    "plt.figure(figsize=(15,10))\n",
    "\n",
    "plt.subplot(3, 2, 1)\n",
    "fig = rain_df.boxplot(column='Rainfall')\n",
    "fig.set_title('')\n",
    "fig.set_ylabel('Rainfall')\n",
    "\n",
    "\n",
    "plt.subplot(3, 2, 2)\n",
    "fig = rain_df.boxplot(column='Evaporation')\n",
    "fig.set_title('')\n",
    "fig.set_ylabel('Evaporation')\n",
    "\n",
    "\n",
    "plt.subplot(3, 2, 3)\n",
    "fig = rain_df.boxplot(column='WindSpeed9am')\n",
    "fig.set_title('')\n",
    "fig.set_ylabel('WindSpeed9am')\n",
    "\n",
    "\n",
    "plt.subplot(3, 2, 4)\n",
    "fig = rain_df.boxplot(column='WindSpeed3pm')\n",
    "fig.set_title('')\n",
    "fig.set_ylabel('WindSpeed3pm')\n",
    "\n",
    "plt.subplot(3, 2, 5)\n",
    "fig = rain_df.boxplot(column='WindGustSpeed')\n",
    "fig.set_title('')\n",
    "fig.set_ylabel('WindGustSpeed')\n",
    "\n"
   ]
  },
  {
   "cell_type": "code",
   "execution_count": 19,
   "metadata": {},
   "outputs": [
    {
     "data": {
      "text/plain": [
       "Text(0, 0.5, 'RainTomorrow')"
      ]
     },
     "execution_count": 19,
     "metadata": {},
     "output_type": "execute_result"
    },
    {
     "data": {
      "image/png": "[encoded data removed]",
      "text/plain": [
       "<Figure size 1080x864 with 5 Axes>"
      ]
     },
     "metadata": {
      "needs_background": "light"
     },
     "output_type": "display_data"
    }
   ],
   "source": [
    "#make visualization of num columns in hist plot\n",
    "plt.figure(figsize=(15,12))\n",
    "\n",
    "\n",
    "plt.subplot(3, 2, 1)\n",
    "fig = rain_df['Rainfall'].hist(bins=10)\n",
    "fig.set_xlabel('Rainfall')\n",
    "fig.set_ylabel('RainTomorrow')\n",
    "\n",
    "\n",
    "plt.subplot(3, 2, 2)\n",
    "fig = rain_df['Evaporation'].hist(bins=10)\n",
    "fig.set_xlabel('Evaporation')\n",
    "fig.set_ylabel('RainTomorrow')\n",
    "\n",
    "\n",
    "plt.subplot(3, 2, 3)\n",
    "fig = rain_df['WindSpeed9am'].hist(bins=10)\n",
    "fig.set_xlabel('WindSpeed9am')\n",
    "fig.set_ylabel('RainTomorrow')\n",
    "\n",
    "\n",
    "plt.subplot(3, 2, 4)\n",
    "fig = rain_df['WindSpeed3pm'].hist(bins=10)\n",
    "fig.set_xlabel('WindSpeed3pm')\n",
    "fig.set_ylabel('RainTomorrow')\n",
    "\n",
    "plt.subplot(3, 2, 5)\n",
    "fig = rain_df['WindGustSpeed'].hist(bins=10)\n",
    "fig.set_xlabel('WindGustSpeed')\n",
    "fig.set_ylabel('RainTomorrow')"
   ]
  },
  {
   "cell_type": "code",
   "execution_count": 20,
   "metadata": {},
   "outputs": [],
   "source": [
    "#make dataset which going to do in correlation\n",
    "num_corr = rain_df[num_columns]"
   ]
  },
  {
   "cell_type": "code",
   "execution_count": 21,
   "metadata": {},
   "outputs": [
    {
     "data": {
      "text/plain": [
       "<AxesSubplot:>"
      ]
     },
     "execution_count": 21,
     "metadata": {},
     "output_type": "execute_result"
    },
    {
     "data": {
      "image/png": "[encoded data removed]",
      "text/plain": [
       "<Figure size 1152x720 with 2 Axes>"
      ]
     },
     "metadata": {
      "needs_background": "light"
     },
     "output_type": "display_data"
    }
   ],
   "source": [
    "#make visualization of heatmap\n",
    "plt.figure(figsize=(16,10))\n",
    "sns.heatmap(num_corr.corr(),annot=True)"
   ]
  },
  {
   "cell_type": "markdown",
   "metadata": {},
   "source": [
    "#### Note   :\n",
    "1.  Terdapat 16 kolom dengan type numerikal dan terdapat 6 kolom dengan type categorikal\n",
    "2.  terdapat missing value pada kolom numerikal\n",
    "3.  berdasarkan deskripsi dari kolom numerikal, terdapat keanehan dari kolom _rainfall_, _evaporation_, _windgustspeed_, _windspeed9am_, _windspeed3pm_, dimana antara max dan min value dengan mean value tidak sinkron, sehingga diduga terdapat outlier\n",
    "4.  Dari visualisari menggunakan boxplot, _rainfall_, _evaporation_, _windgustspeed_, _windspeed9am_, _windspeed3pm_ benar mengandung outlier\n",
    "5.  Dari visualisasi menggunakan histplot, _rainfall_, _evaporation_, _windgustspeed_, _windspeed9am_, _windspeed3pm_ berbentuk right-skewness\n",
    "6.  Pada visualisasi correlation menggunakan heatmap terdapat high correlation antar variable seperti :\n",
    "    - _MinTemp_ dan MaxTemp variables memiliki positif corr (correlation coefficient = 0.74).\n",
    "    - _MinTemp_ dan _Temp3pm_ variables memiliki positif corr (correlation coefficient = 0.71).\n",
    "    - _MinTemp_ dan _Temp9am_ variables memiliki positif corr (correlation coefficient = 0.90).\n",
    "    - _MaxTemp_ dan _Temp9am_ variables amemiliki positif corr (correlation coefficient = 0.89).\n",
    "    - _MaxTemp_ dan _Temp3pm_ variables memiliki positif corr (correlation coefficient = 0.98).\n",
    "    - _Pressure9am_ dan _Pressure3pm_ memiliki positif corr (correlation coefficient = 0.96).\n",
    "    - _Temp9am_ dan _Temp3pm_ variables memiliki positif corr (correlation coefficient = 0.86).\n",
    "\n"
   ]
  },
  {
   "cell_type": "markdown",
   "metadata": {},
   "source": [
    "b.  Categorical Columns"
   ]
  },
  {
   "cell_type": "code",
   "execution_count": 22,
   "metadata": {},
   "outputs": [
    {
     "name": "stdout",
     "output_type": "stream",
     "text": [
      "Categorical Columns are :  ['Date', 'Location', 'WindGustDir', 'WindDir9am', 'WindDir3pm', 'RainToday', 'RainTomorrow']\n"
     ]
    }
   ],
   "source": [
    "#check categorical value\n",
    "print('Categorical Columns are : ' , cat_columns)"
   ]
  },
  {
   "cell_type": "code",
   "execution_count": 23,
   "metadata": {},
   "outputs": [
    {
     "name": "stdout",
     "output_type": "stream",
     "text": [
      "<class 'pandas.core.frame.DataFrame'>\n",
      "Int64Index: 142193 entries, 0 to 145458\n",
      "Data columns (total 7 columns):\n",
      " #   Column        Non-Null Count   Dtype \n",
      "---  ------        --------------   ----- \n",
      " 0   Date          142193 non-null  object\n",
      " 1   Location      142193 non-null  object\n",
      " 2   WindGustDir   132863 non-null  object\n",
      " 3   WindDir9am    132180 non-null  object\n",
      " 4   WindDir3pm    138415 non-null  object\n",
      " 5   RainToday     140787 non-null  object\n",
      " 6   RainTomorrow  142193 non-null  object\n",
      "dtypes: object(7)\n",
      "memory usage: 8.7+ MB\n"
     ]
    }
   ],
   "source": [
    "#check info of cat columns\n",
    "rain_df[cat_columns].info()"
   ]
  },
  {
   "cell_type": "code",
   "execution_count": 24,
   "metadata": {},
   "outputs": [],
   "source": [
    "#change type of date to datetime\n",
    "rain_df['Date'] = pd.to_datetime(rain_df['Date'])"
   ]
  },
  {
   "cell_type": "code",
   "execution_count": 25,
   "metadata": {},
   "outputs": [
    {
     "name": "stdout",
     "output_type": "stream",
     "text": [
      "Date contains : 3436 variable\n",
      "\n",
      "Location contains : 49 variable\n",
      "\n",
      "WindGustDir contains : 17 variable\n",
      "\n",
      "WindDir9am contains : 17 variable\n",
      "\n",
      "WindDir3pm contains : 17 variable\n",
      "\n",
      "RainToday contains : 3 variable\n",
      "\n",
      "RainTomorrow contains : 2 variable\n",
      "\n"
     ]
    }
   ],
   "source": [
    "#check how many of variable each cat columns\n",
    "for val in rain_df[cat_columns]:\n",
    "    print(f'{val} contains : {len(rain_df[val].unique())} variable')\n",
    "    print()"
   ]
  },
  {
   "cell_type": "code",
   "execution_count": 26,
   "metadata": {},
   "outputs": [],
   "source": [
    "#make another format of date, because of cardinality\n",
    "rain_df['Year'] = rain_df['Date'].dt.year\n",
    "rain_df['Month'] = rain_df['Date'].dt.month\n",
    "rain_df['Day'] = rain_df['Date'].dt.day\n"
   ]
  },
  {
   "cell_type": "code",
   "execution_count": 27,
   "metadata": {},
   "outputs": [],
   "source": [
    "#drop column date\n",
    "rain_df.drop(columns=['Date'], axis=0, inplace=True)"
   ]
  },
  {
   "cell_type": "code",
   "execution_count": 28,
   "metadata": {},
   "outputs": [
    {
     "data": {
      "text/html": [
       "<div>\n",
       "<style scoped>\n",
       "    .dataframe tbody tr th:only-of-type {\n",
       "        vertical-align: middle;\n",
       "    }\n",
       "\n",
       "    .dataframe tbody tr th {\n",
       "        vertical-align: top;\n",
       "    }\n",
       "\n",
       "    .dataframe thead th {\n",
       "        text-align: right;\n",
       "    }\n",
       "</style>\n",
       "<table border=\"1\" class=\"dataframe\">\n",
       "  <thead>\n",
       "    <tr style=\"text-align: right;\">\n",
       "      <th></th>\n",
       "      <th>Location</th>\n",
       "      <th>WindGustDir</th>\n",
       "      <th>WindDir9am</th>\n",
       "      <th>WindDir3pm</th>\n",
       "      <th>RainToday</th>\n",
       "      <th>RainTomorrow</th>\n",
       "    </tr>\n",
       "  </thead>\n",
       "  <tbody>\n",
       "    <tr>\n",
       "      <th>0</th>\n",
       "      <td>Albury</td>\n",
       "      <td>W</td>\n",
       "      <td>W</td>\n",
       "      <td>WNW</td>\n",
       "      <td>No</td>\n",
       "      <td>No</td>\n",
       "    </tr>\n",
       "    <tr>\n",
       "      <th>1</th>\n",
       "      <td>Albury</td>\n",
       "      <td>WNW</td>\n",
       "      <td>NNW</td>\n",
       "      <td>WSW</td>\n",
       "      <td>No</td>\n",
       "      <td>No</td>\n",
       "    </tr>\n",
       "    <tr>\n",
       "      <th>2</th>\n",
       "      <td>Albury</td>\n",
       "      <td>WSW</td>\n",
       "      <td>W</td>\n",
       "      <td>WSW</td>\n",
       "      <td>No</td>\n",
       "      <td>No</td>\n",
       "    </tr>\n",
       "    <tr>\n",
       "      <th>3</th>\n",
       "      <td>Albury</td>\n",
       "      <td>NE</td>\n",
       "      <td>SE</td>\n",
       "      <td>E</td>\n",
       "      <td>No</td>\n",
       "      <td>No</td>\n",
       "    </tr>\n",
       "    <tr>\n",
       "      <th>4</th>\n",
       "      <td>Albury</td>\n",
       "      <td>W</td>\n",
       "      <td>ENE</td>\n",
       "      <td>NW</td>\n",
       "      <td>No</td>\n",
       "      <td>No</td>\n",
       "    </tr>\n",
       "  </tbody>\n",
       "</table>\n",
       "</div>"
      ],
      "text/plain": [
       "  Location WindGustDir WindDir9am WindDir3pm RainToday RainTomorrow\n",
       "0   Albury           W          W        WNW        No           No\n",
       "1   Albury         WNW        NNW        WSW        No           No\n",
       "2   Albury         WSW          W        WSW        No           No\n",
       "3   Albury          NE         SE          E        No           No\n",
       "4   Albury           W        ENE         NW        No           No"
      ]
     },
     "execution_count": 28,
     "metadata": {},
     "output_type": "execute_result"
    }
   ],
   "source": [
    "#check column after drop the date\n",
    "cat_columns = rain_df.select_dtypes(include=['object']).columns.tolist()\n",
    "rain_df[cat_columns].head()"
   ]
  },
  {
   "cell_type": "code",
   "execution_count": 29,
   "metadata": {},
   "outputs": [],
   "source": [
    "#function to visualization of cat columns\n",
    "def show_counts(col):\n",
    "    col_df = rain_df.groupby(col).size().reset_index(name=\"counts\")\n",
    "    plt.figure(figsize=(10, 6))\n",
    "    axs = sns.barplot(x=col, y=\"counts\", data=col_df)\n",
    "    axs.tick_params(axis='x', rotation=90)"
   ]
  },
  {
   "cell_type": "code",
   "execution_count": 30,
   "metadata": {},
   "outputs": [
    {
     "data": {
      "image/png": "[encoded data removed]",
      "text/plain": [
       "<Figure size 720x432 with 1 Axes>"
      ]
     },
     "metadata": {
      "needs_background": "light"
     },
     "output_type": "display_data"
    }
   ],
   "source": [
    "show_counts('Location')\n"
   ]
  },
  {
   "cell_type": "code",
   "execution_count": 31,
   "metadata": {},
   "outputs": [
    {
     "data": {
      "image/png": "[encoded data removed]",
      "text/plain": [
       "<Figure size 720x432 with 1 Axes>"
      ]
     },
     "metadata": {
      "needs_background": "light"
     },
     "output_type": "display_data"
    },
    {
     "data": {
      "image/png": "[encoded data removed]",
      "text/plain": [
       "<Figure size 720x432 with 1 Axes>"
      ]
     },
     "metadata": {
      "needs_background": "light"
     },
     "output_type": "display_data"
    },
    {
     "data": {
      "image/png": "[encoded data removed]",
      "text/plain": [
       "<Figure size 720x432 with 1 Axes>"
      ]
     },
     "metadata": {
      "needs_background": "light"
     },
     "output_type": "display_data"
    }
   ],
   "source": [
    "show_counts('WindGustDir')\n",
    "show_counts('WindDir9am')\n",
    "show_counts('WindDir3pm')\n"
   ]
  },
  {
   "cell_type": "code",
   "execution_count": 32,
   "metadata": {},
   "outputs": [
    {
     "data": {
      "image/png": "[encoded data removed]",
      "text/plain": [
       "<Figure size 720x432 with 1 Axes>"
      ]
     },
     "metadata": {
      "needs_background": "light"
     },
     "output_type": "display_data"
    }
   ],
   "source": [
    "show_counts('RainToday')"
   ]
  },
  {
   "cell_type": "code",
   "execution_count": 33,
   "metadata": {},
   "outputs": [
    {
     "data": {
      "text/plain": [
       "Location            0\n",
       "WindGustDir      9330\n",
       "WindDir9am      10013\n",
       "WindDir3pm       3778\n",
       "RainToday        1406\n",
       "RainTomorrow        0\n",
       "dtype: int64"
      ]
     },
     "execution_count": 33,
     "metadata": {},
     "output_type": "execute_result"
    }
   ],
   "source": [
    "#check missing value of cat_columns\n",
    "rain_df[cat_columns].isnull().sum()"
   ]
  },
  {
   "cell_type": "markdown",
   "metadata": {},
   "source": [
    "#### Note   :\n",
    "1.  Setelah dicek berapa banyak variabel yang terdapat pada categorical column, terdapat High cardinality pada kolom _Date_\n",
    "    *High cardinality adalah kasus dimana jumlah unique value pada sebuah kolom terlampau banyak, sehingga sangat riskan utk dimasukan ke model\n",
    "2.  Untuk menghilangkan cardinality, kolom _Date_ dipecah menjadi _Year_, _Month_ dan _Day_, kemudian didrop \n",
    "3.  Lokasi data yang digunakan, sangat merata diseluruh wilayah Australia sebesar kurang lebih 3000 buah\n",
    "4.  _WindGust_, _WindDir9am_, _WIndDir3pm_ sama2 memiliki 17 variabel \n",
    "5.  Kolom _Raintoday_ menunjukan value _No_ (tidak hujan pada hari ini) lebih banyak dibandingkan value _Yes_ (hujan pada hari ini)"
   ]
  },
  {
   "cell_type": "markdown",
   "metadata": {},
   "source": [
    "---\n",
    "---\n",
    "## 5.   Preprocessing"
   ]
  },
  {
   "cell_type": "markdown",
   "metadata": {},
   "source": [
    "#### Step by Step   :\n",
    "1.  Split Train dan test set\n",
    "2.  Handling missing value\n",
    "3.  Handling outlier\n",
    "4.  Scalling\n",
    "5.  Encoding"
   ]
  },
  {
   "cell_type": "markdown",
   "metadata": {},
   "source": [
    "---\n",
    "#### 1.  Split Train and Test set"
   ]
  },
  {
   "cell_type": "code",
   "execution_count": 34,
   "metadata": {},
   "outputs": [],
   "source": [
    "X = rain_df.drop(columns=['RainTomorrow'], axis=1)\n",
    "y = rain_df['RainTomorrow']"
   ]
  },
  {
   "cell_type": "code",
   "execution_count": 35,
   "metadata": {},
   "outputs": [],
   "source": [
    "#split data X, y with parameter 20% test and 80% training set\n",
    "X_train, X_test, y_train, y_test = train_test_split(X, y, test_size=0.2, random_state=18)"
   ]
  },
  {
   "cell_type": "code",
   "execution_count": 36,
   "metadata": {},
   "outputs": [
    {
     "name": "stdout",
     "output_type": "stream",
     "text": [
      "Numerical Columns : ['MinTemp', 'MaxTemp', 'Rainfall', 'Evaporation', 'Sunshine', 'WindGustSpeed', 'WindSpeed9am', 'WindSpeed3pm', 'Humidity9am', 'Humidity3pm', 'Pressure9am', 'Pressure3pm', 'Cloud9am', 'Cloud3pm', 'Temp9am', 'Temp3pm', 'Year', 'Month', 'Day']\n",
      "\n",
      "Categorical Columns : ['Location', 'WindGustDir', 'WindDir9am', 'WindDir3pm', 'RainToday']\n"
     ]
    }
   ],
   "source": [
    "#split training set into numeric and categoric columns\n",
    "numeric_columns = X_train.select_dtypes(include=np.number).columns.tolist()\n",
    "categorical_columns = X_train.select_dtypes(include=['object']).columns.tolist()\n",
    "\n",
    "print('Numerical Columns :', numeric_columns)\n",
    "print()\n",
    "print('Categorical Columns :', categorical_columns)"
   ]
  },
  {
   "cell_type": "markdown",
   "metadata": {},
   "source": [
    "---\n",
    "#### 2. Handling Missing value (Numerical Value)"
   ]
  },
  {
   "cell_type": "code",
   "execution_count": 37,
   "metadata": {},
   "outputs": [
    {
     "name": "stdout",
     "output_type": "stream",
     "text": [
      "Numerical value missing :  MinTemp            512\n",
      "MaxTemp            261\n",
      "Rainfall          1104\n",
      "Evaporation      48681\n",
      "Sunshine         54233\n",
      "WindGustSpeed     7422\n",
      "WindSpeed9am      1067\n",
      "WindSpeed3pm      2073\n",
      "Humidity9am       1405\n",
      "Humidity3pm       2834\n",
      "Pressure9am      11209\n",
      "Pressure3pm      11185\n",
      "Cloud9am         42824\n",
      "Cloud3pm         45531\n",
      "Temp9am            720\n",
      "Temp3pm           2137\n",
      "Year                 0\n",
      "Month                0\n",
      "Day                  0\n",
      "dtype: int64\n"
     ]
    }
   ],
   "source": [
    "#check missing value and percentage of missing value\n",
    "num_missing = X_train[numeric_columns].isnull().sum()\n",
    "percentage_num_missing = X_train[numeric_columns].isnull().sum() * 100 / len(X_train)\n",
    "\n",
    "print('Numerical value missing : ', num_missing)\n"
   ]
  },
  {
   "cell_type": "code",
   "execution_count": 38,
   "metadata": {},
   "outputs": [
    {
     "name": "stdout",
     "output_type": "stream",
     "text": [
      "Numerical value missing percentage :  MinTemp           0.450094\n",
      "MaxTemp           0.229442\n",
      "Rainfall          0.970515\n",
      "Evaporation      42.794979\n",
      "Sunshine         47.675686\n",
      "WindGustSpeed     6.524606\n",
      "WindSpeed9am      0.937989\n",
      "WindSpeed3pm      1.822353\n",
      "Humidity9am       1.235121\n",
      "Humidity3pm       2.491341\n",
      "Pressure9am       9.853719\n",
      "Pressure3pm       9.832621\n",
      "Cloud9am         37.646149\n",
      "Cloud3pm         40.025845\n",
      "Temp9am           0.632945\n",
      "Temp3pm           1.878615\n",
      "Year              0.000000\n",
      "Month             0.000000\n",
      "Day               0.000000\n",
      "dtype: float64\n"
     ]
    }
   ],
   "source": [
    "print('Numerical value missing percentage : ', percentage_num_missing)"
   ]
  },
  {
   "cell_type": "code",
   "execution_count": 39,
   "metadata": {},
   "outputs": [],
   "source": [
    "#FIll Nan value in numerical columns with media value\n",
    "for df in [X_train, X_test]:\n",
    "    for col in numeric_columns:\n",
    "        col_median=X_train[col].median()\n",
    "        df[col].fillna(col_median, inplace=True)   "
   ]
  },
  {
   "cell_type": "code",
   "execution_count": 40,
   "metadata": {},
   "outputs": [
    {
     "data": {
      "text/plain": [
       "MinTemp          0.0\n",
       "MaxTemp          0.0\n",
       "Rainfall         0.0\n",
       "Evaporation      0.0\n",
       "Sunshine         0.0\n",
       "WindGustSpeed    0.0\n",
       "WindSpeed9am     0.0\n",
       "WindSpeed3pm     0.0\n",
       "Humidity9am      0.0\n",
       "Humidity3pm      0.0\n",
       "Pressure9am      0.0\n",
       "Pressure3pm      0.0\n",
       "Cloud9am         0.0\n",
       "Cloud3pm         0.0\n",
       "Temp9am          0.0\n",
       "Temp3pm          0.0\n",
       "Year             0.0\n",
       "Month            0.0\n",
       "Day              0.0\n",
       "dtype: float64"
      ]
     },
     "execution_count": 40,
     "metadata": {},
     "output_type": "execute_result"
    }
   ],
   "source": [
    "#check missing value to make sure of the numeric value\n",
    "X_train[numeric_columns].isnull().sum() * 100 / len(X_train)"
   ]
  },
  {
   "cell_type": "code",
   "execution_count": 41,
   "metadata": {},
   "outputs": [
    {
     "data": {
      "text/plain": [
       "MinTemp          0.0\n",
       "MaxTemp          0.0\n",
       "Rainfall         0.0\n",
       "Evaporation      0.0\n",
       "Sunshine         0.0\n",
       "WindGustSpeed    0.0\n",
       "WindSpeed9am     0.0\n",
       "WindSpeed3pm     0.0\n",
       "Humidity9am      0.0\n",
       "Humidity3pm      0.0\n",
       "Pressure9am      0.0\n",
       "Pressure3pm      0.0\n",
       "Cloud9am         0.0\n",
       "Cloud3pm         0.0\n",
       "Temp9am          0.0\n",
       "Temp3pm          0.0\n",
       "Year             0.0\n",
       "Month            0.0\n",
       "Day              0.0\n",
       "dtype: float64"
      ]
     },
     "execution_count": 41,
     "metadata": {},
     "output_type": "execute_result"
    }
   ],
   "source": [
    "X_test[numeric_columns].isnull().sum() * 100 / len(X_train)"
   ]
  },
  {
   "cell_type": "code",
   "execution_count": 42,
   "metadata": {},
   "outputs": [
    {
     "name": "stdout",
     "output_type": "stream",
     "text": [
      "(113754, 24) (28439, 24)\n"
     ]
    }
   ],
   "source": [
    "#check size of training and test set after fill the missing value using median\n",
    "print(X_train.shape, X_test.shape)"
   ]
  },
  {
   "cell_type": "markdown",
   "metadata": {},
   "source": [
    "#### Note   :\n",
    "1.  Untuk missing value pendapat pribadi saya bahwa, mv bersifat acak atau Missing completely at random (MCAR), sehingga dapat disimpulkan bahwa untuk mengisi mv bisa menggunakan imputasi rata2, median atau sampel acak\n",
    "2.  Median digunakan karena, metode ini cocok pada data yang memiliki outlier yang besar, dan dari pengecekan outlier dibagian sebelumnya bahwa numerical value mempunyai outlier yang cukup besar"
   ]
  },
  {
   "cell_type": "code",
   "execution_count": 43,
   "metadata": {},
   "outputs": [
    {
     "name": "stdout",
     "output_type": "stream",
     "text": [
      "Categorical value missing :  Location          0\n",
      "WindGustDir    7468\n",
      "WindDir9am     7968\n",
      "WindDir3pm     3010\n",
      "RainToday      1104\n",
      "dtype: int64\n",
      "\n",
      "Categorical value missing percentage :  Location       0.000000\n",
      "WindGustDir    6.565044\n",
      "WindDir9am     7.004589\n",
      "WindDir3pm     2.646061\n",
      "RainToday      0.970515\n",
      "dtype: float64\n"
     ]
    }
   ],
   "source": [
    "#check missing value of cat columns and the percentage of missing value\n",
    "cat_missing = X_train[categorical_columns].isnull().sum()\n",
    "persen_cat_missing = X_train[categorical_columns].isnull().sum() * 100 / len(X_train)\n",
    "\n",
    "print('Categorical value missing : ', cat_missing)\n",
    "print()\n",
    "print('Categorical value missing percentage : ', persen_cat_missing)"
   ]
  },
  {
   "cell_type": "code",
   "execution_count": 44,
   "metadata": {},
   "outputs": [],
   "source": [
    "#fill missing value cat columns using mode method\n",
    "for df in [X_train, X_test]:\n",
    "    for col in categorical_columns:\n",
    "        col_mode=X_train[col].mode()\n",
    "        df[col].fillna(col_mode[0], inplace=True)   "
   ]
  },
  {
   "cell_type": "code",
   "execution_count": 45,
   "metadata": {},
   "outputs": [
    {
     "data": {
      "text/plain": [
       "Location       0\n",
       "WindGustDir    0\n",
       "WindDir9am     0\n",
       "WindDir3pm     0\n",
       "RainToday      0\n",
       "dtype: int64"
      ]
     },
     "execution_count": 45,
     "metadata": {},
     "output_type": "execute_result"
    }
   ],
   "source": [
    "#check missing value to make sure the cat columns\n",
    "X_train[categorical_columns].isnull().sum()"
   ]
  },
  {
   "cell_type": "code",
   "execution_count": 46,
   "metadata": {},
   "outputs": [
    {
     "data": {
      "text/plain": [
       "Location       0\n",
       "WindGustDir    0\n",
       "WindDir9am     0\n",
       "WindDir3pm     0\n",
       "RainToday      0\n",
       "dtype: int64"
      ]
     },
     "execution_count": 46,
     "metadata": {},
     "output_type": "execute_result"
    }
   ],
   "source": [
    "X_test[categorical_columns].isnull().sum()"
   ]
  },
  {
   "cell_type": "markdown",
   "metadata": {},
   "source": [
    "#### Nota   :\n",
    "1.  Missing value pada kolom categorical disi menggunakan metode mode, atau value yang paling banyak muncul\n",
    "2.  Penghapusan missing value pada kolom dihindari karena, diyakini akan menghapus informasi yang penting pada model"
   ]
  },
  {
   "cell_type": "markdown",
   "metadata": {},
   "source": [
    "---\n",
    "#### 3.  Handling Oultier"
   ]
  },
  {
   "cell_type": "code",
   "execution_count": 48,
   "metadata": {},
   "outputs": [],
   "source": [
    "#make function to check outlier\n",
    "def calc_outlier(new_df, col):\n",
    "\n",
    "    q1 = np.quantile(new_df[col], 0.25)\n",
    "    q3 = np.quantile(new_df[col], 0.75)\n",
    "    iqr = q3 - q1\n",
    "\n",
    "    #cari batas atas dan batas bawah\n",
    "    upper = q3 + 1.5 * iqr\n",
    "    lower = q1 - 1.5 * iqr\n",
    "    \n",
    "    new_df[col] = np.where(\n",
    "    new_df[col] > upper,\n",
    "    upper,\n",
    "    np.where(\n",
    "        new_df[col] < lower,\n",
    "        lower,\n",
    "        new_df[col]\n",
    "        )\n",
    "    )"
   ]
  },
  {
   "cell_type": "code",
   "execution_count": 49,
   "metadata": {},
   "outputs": [],
   "source": [
    "#in section above, there is some columns that has outlier, check using function before\n",
    "calc_outlier(X_train, 'Rainfall')\n",
    "calc_outlier(X_train, 'Evaporation')\n",
    "calc_outlier(X_train, 'WindSpeed9am')\n",
    "calc_outlier(X_train, 'WindSpeed3pm')\n",
    "calc_outlier(X_train, 'WindGustSpeed')\n"
   ]
  },
  {
   "cell_type": "code",
   "execution_count": 50,
   "metadata": {},
   "outputs": [
    {
     "data": {
      "text/html": [
       "<div>\n",
       "<style scoped>\n",
       "    .dataframe tbody tr th:only-of-type {\n",
       "        vertical-align: middle;\n",
       "    }\n",
       "\n",
       "    .dataframe tbody tr th {\n",
       "        vertical-align: top;\n",
       "    }\n",
       "\n",
       "    .dataframe thead th {\n",
       "        text-align: right;\n",
       "    }\n",
       "</style>\n",
       "<table border=\"1\" class=\"dataframe\">\n",
       "  <thead>\n",
       "    <tr style=\"text-align: right;\">\n",
       "      <th></th>\n",
       "      <th>MinTemp</th>\n",
       "      <th>MaxTemp</th>\n",
       "      <th>Rainfall</th>\n",
       "      <th>Evaporation</th>\n",
       "      <th>Sunshine</th>\n",
       "      <th>WindGustSpeed</th>\n",
       "      <th>WindSpeed9am</th>\n",
       "      <th>WindSpeed3pm</th>\n",
       "      <th>Humidity9am</th>\n",
       "      <th>Humidity3pm</th>\n",
       "      <th>Pressure9am</th>\n",
       "      <th>Pressure3pm</th>\n",
       "      <th>Cloud9am</th>\n",
       "      <th>Cloud3pm</th>\n",
       "      <th>Temp9am</th>\n",
       "      <th>Temp3pm</th>\n",
       "      <th>Year</th>\n",
       "      <th>Month</th>\n",
       "      <th>Day</th>\n",
       "    </tr>\n",
       "  </thead>\n",
       "  <tbody>\n",
       "    <tr>\n",
       "      <th>count</th>\n",
       "      <td>113754.000000</td>\n",
       "      <td>113754.000000</td>\n",
       "      <td>113754.000000</td>\n",
       "      <td>113754.000000</td>\n",
       "      <td>113754.000000</td>\n",
       "      <td>113754.000000</td>\n",
       "      <td>113754.000000</td>\n",
       "      <td>113754.000000</td>\n",
       "      <td>113754.000000</td>\n",
       "      <td>113754.000000</td>\n",
       "      <td>113754.000000</td>\n",
       "      <td>113754.000000</td>\n",
       "      <td>113754.000000</td>\n",
       "      <td>113754.000000</td>\n",
       "      <td>113754.000000</td>\n",
       "      <td>113754.000000</td>\n",
       "      <td>113754.000000</td>\n",
       "      <td>113754.000000</td>\n",
       "      <td>113754.000000</td>\n",
       "    </tr>\n",
       "    <tr>\n",
       "      <th>mean</th>\n",
       "      <td>12.185905</td>\n",
       "      <td>23.235539</td>\n",
       "      <td>0.385304</td>\n",
       "      <td>4.798824</td>\n",
       "      <td>8.043126</td>\n",
       "      <td>39.586116</td>\n",
       "      <td>13.900171</td>\n",
       "      <td>18.549365</td>\n",
       "      <td>68.832015</td>\n",
       "      <td>51.445954</td>\n",
       "      <td>1017.653105</td>\n",
       "      <td>1015.254185</td>\n",
       "      <td>4.651924</td>\n",
       "      <td>4.706278</td>\n",
       "      <td>16.990472</td>\n",
       "      <td>21.689750</td>\n",
       "      <td>2012.758866</td>\n",
       "      <td>6.397489</td>\n",
       "      <td>15.694982</td>\n",
       "    </tr>\n",
       "    <tr>\n",
       "      <th>std</th>\n",
       "      <td>6.399351</td>\n",
       "      <td>7.117889</td>\n",
       "      <td>0.610070</td>\n",
       "      <td>1.629511</td>\n",
       "      <td>2.772574</td>\n",
       "      <td>12.195800</td>\n",
       "      <td>8.551367</td>\n",
       "      <td>8.436310</td>\n",
       "      <td>18.944425</td>\n",
       "      <td>20.527913</td>\n",
       "      <td>6.739460</td>\n",
       "      <td>6.679643</td>\n",
       "      <td>2.296277</td>\n",
       "      <td>2.121141</td>\n",
       "      <td>6.483912</td>\n",
       "      <td>6.881915</td>\n",
       "      <td>2.541199</td>\n",
       "      <td>3.426960</td>\n",
       "      <td>8.799480</td>\n",
       "    </tr>\n",
       "    <tr>\n",
       "      <th>min</th>\n",
       "      <td>-8.500000</td>\n",
       "      <td>-4.800000</td>\n",
       "      <td>0.000000</td>\n",
       "      <td>1.900000</td>\n",
       "      <td>0.000000</td>\n",
       "      <td>8.500000</td>\n",
       "      <td>0.000000</td>\n",
       "      <td>0.000000</td>\n",
       "      <td>1.000000</td>\n",
       "      <td>0.000000</td>\n",
       "      <td>982.000000</td>\n",
       "      <td>977.100000</td>\n",
       "      <td>0.000000</td>\n",
       "      <td>0.000000</td>\n",
       "      <td>-7.200000</td>\n",
       "      <td>-5.400000</td>\n",
       "      <td>2007.000000</td>\n",
       "      <td>1.000000</td>\n",
       "      <td>1.000000</td>\n",
       "    </tr>\n",
       "    <tr>\n",
       "      <th>25%</th>\n",
       "      <td>7.600000</td>\n",
       "      <td>17.900000</td>\n",
       "      <td>0.000000</td>\n",
       "      <td>4.000000</td>\n",
       "      <td>8.200000</td>\n",
       "      <td>31.000000</td>\n",
       "      <td>7.000000</td>\n",
       "      <td>13.000000</td>\n",
       "      <td>57.000000</td>\n",
       "      <td>37.000000</td>\n",
       "      <td>1013.500000</td>\n",
       "      <td>1011.000000</td>\n",
       "      <td>3.000000</td>\n",
       "      <td>4.000000</td>\n",
       "      <td>12.300000</td>\n",
       "      <td>16.700000</td>\n",
       "      <td>2011.000000</td>\n",
       "      <td>3.000000</td>\n",
       "      <td>8.000000</td>\n",
       "    </tr>\n",
       "    <tr>\n",
       "      <th>50%</th>\n",
       "      <td>12.000000</td>\n",
       "      <td>22.700000</td>\n",
       "      <td>0.000000</td>\n",
       "      <td>4.800000</td>\n",
       "      <td>8.500000</td>\n",
       "      <td>39.000000</td>\n",
       "      <td>13.000000</td>\n",
       "      <td>19.000000</td>\n",
       "      <td>70.000000</td>\n",
       "      <td>52.000000</td>\n",
       "      <td>1017.600000</td>\n",
       "      <td>1015.200000</td>\n",
       "      <td>5.000000</td>\n",
       "      <td>5.000000</td>\n",
       "      <td>16.700000</td>\n",
       "      <td>21.100000</td>\n",
       "      <td>2013.000000</td>\n",
       "      <td>6.000000</td>\n",
       "      <td>16.000000</td>\n",
       "    </tr>\n",
       "    <tr>\n",
       "      <th>75%</th>\n",
       "      <td>16.800000</td>\n",
       "      <td>28.200000</td>\n",
       "      <td>0.600000</td>\n",
       "      <td>5.400000</td>\n",
       "      <td>8.700000</td>\n",
       "      <td>46.000000</td>\n",
       "      <td>19.000000</td>\n",
       "      <td>24.000000</td>\n",
       "      <td>83.000000</td>\n",
       "      <td>65.000000</td>\n",
       "      <td>1021.800000</td>\n",
       "      <td>1019.400000</td>\n",
       "      <td>6.000000</td>\n",
       "      <td>6.000000</td>\n",
       "      <td>21.500000</td>\n",
       "      <td>26.300000</td>\n",
       "      <td>2015.000000</td>\n",
       "      <td>9.000000</td>\n",
       "      <td>23.000000</td>\n",
       "    </tr>\n",
       "    <tr>\n",
       "      <th>max</th>\n",
       "      <td>33.900000</td>\n",
       "      <td>48.100000</td>\n",
       "      <td>1.500000</td>\n",
       "      <td>7.500000</td>\n",
       "      <td>14.500000</td>\n",
       "      <td>68.500000</td>\n",
       "      <td>37.000000</td>\n",
       "      <td>40.500000</td>\n",
       "      <td>100.000000</td>\n",
       "      <td>100.000000</td>\n",
       "      <td>1041.000000</td>\n",
       "      <td>1039.600000</td>\n",
       "      <td>9.000000</td>\n",
       "      <td>9.000000</td>\n",
       "      <td>39.400000</td>\n",
       "      <td>46.700000</td>\n",
       "      <td>2017.000000</td>\n",
       "      <td>12.000000</td>\n",
       "      <td>31.000000</td>\n",
       "    </tr>\n",
       "  </tbody>\n",
       "</table>\n",
       "</div>"
      ],
      "text/plain": [
       "             MinTemp        MaxTemp       Rainfall    Evaporation  \\\n",
       "count  113754.000000  113754.000000  113754.000000  113754.000000   \n",
       "mean       12.185905      23.235539       0.385304       4.798824   \n",
       "std         6.399351       7.117889       0.610070       1.629511   \n",
       "min        -8.500000      -4.800000       0.000000       1.900000   \n",
       "25%         7.600000      17.900000       0.000000       4.000000   \n",
       "50%        12.000000      22.700000       0.000000       4.800000   \n",
       "75%        16.800000      28.200000       0.600000       5.400000   \n",
       "max        33.900000      48.100000       1.500000       7.500000   \n",
       "\n",
       "            Sunshine  WindGustSpeed   WindSpeed9am   WindSpeed3pm  \\\n",
       "count  113754.000000  113754.000000  113754.000000  113754.000000   \n",
       "mean        8.043126      39.586116      13.900171      18.549365   \n",
       "std         2.772574      12.195800       8.551367       8.436310   \n",
       "min         0.000000       8.500000       0.000000       0.000000   \n",
       "25%         8.200000      31.000000       7.000000      13.000000   \n",
       "50%         8.500000      39.000000      13.000000      19.000000   \n",
       "75%         8.700000      46.000000      19.000000      24.000000   \n",
       "max        14.500000      68.500000      37.000000      40.500000   \n",
       "\n",
       "         Humidity9am    Humidity3pm    Pressure9am    Pressure3pm  \\\n",
       "count  113754.000000  113754.000000  113754.000000  113754.000000   \n",
       "mean       68.832015      51.445954    1017.653105    1015.254185   \n",
       "std        18.944425      20.527913       6.739460       6.679643   \n",
       "min         1.000000       0.000000     982.000000     977.100000   \n",
       "25%        57.000000      37.000000    1013.500000    1011.000000   \n",
       "50%        70.000000      52.000000    1017.600000    1015.200000   \n",
       "75%        83.000000      65.000000    1021.800000    1019.400000   \n",
       "max       100.000000     100.000000    1041.000000    1039.600000   \n",
       "\n",
       "            Cloud9am       Cloud3pm        Temp9am        Temp3pm  \\\n",
       "count  113754.000000  113754.000000  113754.000000  113754.000000   \n",
       "mean        4.651924       4.706278      16.990472      21.689750   \n",
       "std         2.296277       2.121141       6.483912       6.881915   \n",
       "min         0.000000       0.000000      -7.200000      -5.400000   \n",
       "25%         3.000000       4.000000      12.300000      16.700000   \n",
       "50%         5.000000       5.000000      16.700000      21.100000   \n",
       "75%         6.000000       6.000000      21.500000      26.300000   \n",
       "max         9.000000       9.000000      39.400000      46.700000   \n",
       "\n",
       "                Year          Month            Day  \n",
       "count  113754.000000  113754.000000  113754.000000  \n",
       "mean     2012.758866       6.397489      15.694982  \n",
       "std         2.541199       3.426960       8.799480  \n",
       "min      2007.000000       1.000000       1.000000  \n",
       "25%      2011.000000       3.000000       8.000000  \n",
       "50%      2013.000000       6.000000      16.000000  \n",
       "75%      2015.000000       9.000000      23.000000  \n",
       "max      2017.000000      12.000000      31.000000  "
      ]
     },
     "execution_count": 50,
     "metadata": {},
     "output_type": "execute_result"
    }
   ],
   "source": [
    "#check the description of trainset which had outlier handled\n",
    "X_train.describe()"
   ]
  },
  {
   "cell_type": "markdown",
   "metadata": {},
   "source": [
    "#### Note   :\n",
    "1. outlier yang sebelumnya dicek pada bagian EDA, kemudian dihandling menggunakan metode IQR\n",
    "2. Metode IQR digunakan karena distribusi dari kolom yang bersifat right-skewness"
   ]
  },
  {
   "cell_type": "markdown",
   "metadata": {},
   "source": [
    "---\n",
    "#### 4.  Feature Encoding"
   ]
  },
  {
   "cell_type": "code",
   "execution_count": 51,
   "metadata": {},
   "outputs": [],
   "source": [
    "encoder = OneHotEncoder(sparse=False)\n",
    "encoder.fit(X_train[categorical_columns])\n",
    "X_train_cat_enc = encoder.transform(X_train[categorical_columns])\n",
    "X_test_cat_enc = encoder.transform(X_test[categorical_columns])\n",
    "cat_col_name = encoder.get_feature_names(['Loc', 'WindDir', 'Wind9am', 'Wind3pm', 'RainToday'])"
   ]
  },
  {
   "cell_type": "markdown",
   "metadata": {},
   "source": [
    "#### Note   :\n",
    "1. Encoding digunakan untuk mengubah value dari kolom kategorikal, sehingga bisa diproses kedalam model\n",
    "2. OHE digunakan, karena semua value dari kolom kategorikal yang ada pada dataset bersifat individual, atau tidak memiliki hubungan dengan value lainya"
   ]
  },
  {
   "cell_type": "markdown",
   "metadata": {},
   "source": [
    "---\n",
    "#### 5. Feature Scalling"
   ]
  },
  {
   "cell_type": "code",
   "execution_count": 52,
   "metadata": {},
   "outputs": [],
   "source": [
    "scaler = MinMaxScaler()\n",
    "scaler.fit(X_train[numeric_columns]) \n",
    "\n",
    "X_train_num_scaled = scaler.transform(X_train[numeric_columns])\n",
    "X_test_num_scaled = scaler.transform(X_test[numeric_columns])"
   ]
  },
  {
   "cell_type": "code",
   "execution_count": 135,
   "metadata": {},
   "outputs": [
    {
     "data": {
      "text/plain": [
       "array([[0.62264151, 0.72400756, 0.        , ..., 0.3       , 0.18181818,\n",
       "        0.96666667],\n",
       "       [0.49764151, 0.39508507, 0.13333333, ..., 0.3       , 1.        ,\n",
       "        0.83333333],\n",
       "       [0.44339623, 0.55009452, 0.        , ..., 0.5       , 0.36363636,\n",
       "        0.93333333],\n",
       "       ...,\n",
       "       [0.59669811, 0.56143667, 0.13333333, ..., 0.9       , 1.        ,\n",
       "        0.6       ],\n",
       "       [0.7759434 , 0.68809074, 1.        , ..., 0.3       , 0.09090909,\n",
       "        0.2       ],\n",
       "       [0.56132075, 0.51984877, 0.26666667, ..., 0.3       , 0.27272727,\n",
       "        0.3       ]])"
      ]
     },
     "execution_count": 135,
     "metadata": {},
     "output_type": "execute_result"
    }
   ],
   "source": [
    "X_train_num_scaled"
   ]
  },
  {
   "cell_type": "markdown",
   "metadata": {},
   "source": [
    "#### Note   :\n",
    "1. Scalling bertujuan untuk menyamaratakan satuan pada semua feature column, sehingga bisa diproses kedalam model\n",
    "2. MinMaxScaler digunakan karena, metode ini tidak mengubah bentuk asli dari distribusi, sehingga tidak mengubah informasi asli dari data."
   ]
  },
  {
   "cell_type": "markdown",
   "metadata": {},
   "source": [
    "---\n",
    "---\n",
    "## 6. Model Definition and Training"
   ]
  },
  {
   "cell_type": "markdown",
   "metadata": {},
   "source": [
    "#### Step by step   :\n",
    "1.  Buat traning dan test set final\n",
    "2.  Definisikan model menggunakan LogisticReggresion\n",
    "3.  Definisikan model menggunakan SVC\n",
    "4.  Training kedua model"
   ]
  },
  {
   "cell_type": "code",
   "execution_count": 53,
   "metadata": {},
   "outputs": [],
   "source": [
    "#combine dataset that contain Train numeric and train encode to make training final, so is Test set\n",
    "X_train_final = np.concatenate([X_train_num_scaled, X_train_cat_enc], axis=1)\n",
    "X_test_final =  np.concatenate([X_test_num_scaled, X_test_cat_enc], axis=1)"
   ]
  },
  {
   "cell_type": "code",
   "execution_count": 54,
   "metadata": {},
   "outputs": [
    {
     "data": {
      "text/html": [
       "<div>\n",
       "<style scoped>\n",
       "    .dataframe tbody tr th:only-of-type {\n",
       "        vertical-align: middle;\n",
       "    }\n",
       "\n",
       "    .dataframe tbody tr th {\n",
       "        vertical-align: top;\n",
       "    }\n",
       "\n",
       "    .dataframe thead th {\n",
       "        text-align: right;\n",
       "    }\n",
       "</style>\n",
       "<table border=\"1\" class=\"dataframe\">\n",
       "  <thead>\n",
       "    <tr style=\"text-align: right;\">\n",
       "      <th></th>\n",
       "      <th>MinTemp</th>\n",
       "      <th>MaxTemp</th>\n",
       "      <th>Rainfall</th>\n",
       "      <th>Evaporation</th>\n",
       "      <th>Sunshine</th>\n",
       "      <th>WindGustSpeed</th>\n",
       "      <th>WindSpeed9am</th>\n",
       "      <th>WindSpeed3pm</th>\n",
       "      <th>Humidity9am</th>\n",
       "      <th>Humidity3pm</th>\n",
       "      <th>...</th>\n",
       "      <th>Wind3pm_S</th>\n",
       "      <th>Wind3pm_SE</th>\n",
       "      <th>Wind3pm_SSE</th>\n",
       "      <th>Wind3pm_SSW</th>\n",
       "      <th>Wind3pm_SW</th>\n",
       "      <th>Wind3pm_W</th>\n",
       "      <th>Wind3pm_WNW</th>\n",
       "      <th>Wind3pm_WSW</th>\n",
       "      <th>RainToday_No</th>\n",
       "      <th>RainToday_Yes</th>\n",
       "    </tr>\n",
       "  </thead>\n",
       "  <tbody>\n",
       "    <tr>\n",
       "      <th>0</th>\n",
       "      <td>0.622642</td>\n",
       "      <td>0.724008</td>\n",
       "      <td>0.000000</td>\n",
       "      <td>0.517857</td>\n",
       "      <td>0.703448</td>\n",
       "      <td>0.508333</td>\n",
       "      <td>0.459459</td>\n",
       "      <td>0.691358</td>\n",
       "      <td>0.292929</td>\n",
       "      <td>0.14</td>\n",
       "      <td>...</td>\n",
       "      <td>0.0</td>\n",
       "      <td>0.0</td>\n",
       "      <td>0.0</td>\n",
       "      <td>0.0</td>\n",
       "      <td>0.0</td>\n",
       "      <td>0.0</td>\n",
       "      <td>0.0</td>\n",
       "      <td>1.0</td>\n",
       "      <td>1.0</td>\n",
       "      <td>0.0</td>\n",
       "    </tr>\n",
       "    <tr>\n",
       "      <th>1</th>\n",
       "      <td>0.497642</td>\n",
       "      <td>0.395085</td>\n",
       "      <td>0.133333</td>\n",
       "      <td>0.625000</td>\n",
       "      <td>0.165517</td>\n",
       "      <td>0.508333</td>\n",
       "      <td>0.540541</td>\n",
       "      <td>0.493827</td>\n",
       "      <td>0.868687</td>\n",
       "      <td>0.53</td>\n",
       "      <td>...</td>\n",
       "      <td>0.0</td>\n",
       "      <td>0.0</td>\n",
       "      <td>0.0</td>\n",
       "      <td>1.0</td>\n",
       "      <td>0.0</td>\n",
       "      <td>0.0</td>\n",
       "      <td>0.0</td>\n",
       "      <td>0.0</td>\n",
       "      <td>1.0</td>\n",
       "      <td>0.0</td>\n",
       "    </tr>\n",
       "    <tr>\n",
       "      <th>2</th>\n",
       "      <td>0.443396</td>\n",
       "      <td>0.550095</td>\n",
       "      <td>0.000000</td>\n",
       "      <td>0.196429</td>\n",
       "      <td>0.648276</td>\n",
       "      <td>0.508333</td>\n",
       "      <td>0.702703</td>\n",
       "      <td>0.320988</td>\n",
       "      <td>0.464646</td>\n",
       "      <td>0.27</td>\n",
       "      <td>...</td>\n",
       "      <td>0.0</td>\n",
       "      <td>0.0</td>\n",
       "      <td>0.0</td>\n",
       "      <td>0.0</td>\n",
       "      <td>0.0</td>\n",
       "      <td>0.0</td>\n",
       "      <td>0.0</td>\n",
       "      <td>0.0</td>\n",
       "      <td>1.0</td>\n",
       "      <td>0.0</td>\n",
       "    </tr>\n",
       "    <tr>\n",
       "      <th>3</th>\n",
       "      <td>0.384434</td>\n",
       "      <td>0.461248</td>\n",
       "      <td>0.000000</td>\n",
       "      <td>0.660714</td>\n",
       "      <td>0.751724</td>\n",
       "      <td>0.575000</td>\n",
       "      <td>0.540541</td>\n",
       "      <td>0.320988</td>\n",
       "      <td>0.656566</td>\n",
       "      <td>0.32</td>\n",
       "      <td>...</td>\n",
       "      <td>0.0</td>\n",
       "      <td>0.0</td>\n",
       "      <td>0.0</td>\n",
       "      <td>0.0</td>\n",
       "      <td>0.0</td>\n",
       "      <td>0.0</td>\n",
       "      <td>0.0</td>\n",
       "      <td>0.0</td>\n",
       "      <td>1.0</td>\n",
       "      <td>0.0</td>\n",
       "    </tr>\n",
       "    <tr>\n",
       "      <th>4</th>\n",
       "      <td>0.426887</td>\n",
       "      <td>0.457467</td>\n",
       "      <td>0.000000</td>\n",
       "      <td>0.517857</td>\n",
       "      <td>0.586207</td>\n",
       "      <td>0.358333</td>\n",
       "      <td>0.243243</td>\n",
       "      <td>0.469136</td>\n",
       "      <td>0.787879</td>\n",
       "      <td>0.61</td>\n",
       "      <td>...</td>\n",
       "      <td>0.0</td>\n",
       "      <td>0.0</td>\n",
       "      <td>0.0</td>\n",
       "      <td>0.0</td>\n",
       "      <td>0.0</td>\n",
       "      <td>0.0</td>\n",
       "      <td>0.0</td>\n",
       "      <td>0.0</td>\n",
       "      <td>1.0</td>\n",
       "      <td>0.0</td>\n",
       "    </tr>\n",
       "  </tbody>\n",
       "</table>\n",
       "<p>5 rows × 118 columns</p>\n",
       "</div>"
      ],
      "text/plain": [
       "    MinTemp   MaxTemp  Rainfall  Evaporation  Sunshine  WindGustSpeed  \\\n",
       "0  0.622642  0.724008  0.000000     0.517857  0.703448       0.508333   \n",
       "1  0.497642  0.395085  0.133333     0.625000  0.165517       0.508333   \n",
       "2  0.443396  0.550095  0.000000     0.196429  0.648276       0.508333   \n",
       "3  0.384434  0.461248  0.000000     0.660714  0.751724       0.575000   \n",
       "4  0.426887  0.457467  0.000000     0.517857  0.586207       0.358333   \n",
       "\n",
       "   WindSpeed9am  WindSpeed3pm  Humidity9am  Humidity3pm  ...  Wind3pm_S  \\\n",
       "0      0.459459      0.691358     0.292929         0.14  ...        0.0   \n",
       "1      0.540541      0.493827     0.868687         0.53  ...        0.0   \n",
       "2      0.702703      0.320988     0.464646         0.27  ...        0.0   \n",
       "3      0.540541      0.320988     0.656566         0.32  ...        0.0   \n",
       "4      0.243243      0.469136     0.787879         0.61  ...        0.0   \n",
       "\n",
       "   Wind3pm_SE  Wind3pm_SSE  Wind3pm_SSW  Wind3pm_SW  Wind3pm_W  Wind3pm_WNW  \\\n",
       "0         0.0          0.0          0.0         0.0        0.0          0.0   \n",
       "1         0.0          0.0          1.0         0.0        0.0          0.0   \n",
       "2         0.0          0.0          0.0         0.0        0.0          0.0   \n",
       "3         0.0          0.0          0.0         0.0        0.0          0.0   \n",
       "4         0.0          0.0          0.0         0.0        0.0          0.0   \n",
       "\n",
       "   Wind3pm_WSW  RainToday_No  RainToday_Yes  \n",
       "0          1.0           1.0            0.0  \n",
       "1          0.0           1.0            0.0  \n",
       "2          0.0           1.0            0.0  \n",
       "3          0.0           1.0            0.0  \n",
       "4          0.0           1.0            0.0  \n",
       "\n",
       "[5 rows x 118 columns]"
      ]
     },
     "execution_count": 54,
     "metadata": {},
     "output_type": "execute_result"
    }
   ],
   "source": [
    "#show the datafreme of final dataset\n",
    "df_cat = pd.DataFrame(X_train_cat_enc, columns=cat_col_name)\n",
    "df_num = pd.DataFrame(X_train_num_scaled, columns=numeric_columns)\n",
    "df_num.join(df_cat).head()"
   ]
  },
  {
   "cell_type": "code",
   "execution_count": 55,
   "metadata": {},
   "outputs": [
    {
     "data": {
      "text/plain": [
       "array([[0.62264151, 0.72400756, 0.        , ..., 1.        , 1.        ,\n",
       "        0.        ],\n",
       "       [0.49764151, 0.39508507, 0.13333333, ..., 0.        , 1.        ,\n",
       "        0.        ],\n",
       "       [0.44339623, 0.55009452, 0.        , ..., 0.        , 1.        ,\n",
       "        0.        ],\n",
       "       ...,\n",
       "       [0.59669811, 0.56143667, 0.13333333, ..., 0.        , 1.        ,\n",
       "        0.        ],\n",
       "       [0.7759434 , 0.68809074, 1.        , ..., 0.        , 0.        ,\n",
       "        1.        ],\n",
       "       [0.56132075, 0.51984877, 0.26666667, ..., 1.        , 1.        ,\n",
       "        0.        ]])"
      ]
     },
     "execution_count": 55,
     "metadata": {},
     "output_type": "execute_result"
    }
   ],
   "source": [
    "X_train_final"
   ]
  },
  {
   "cell_type": "code",
   "execution_count": 56,
   "metadata": {},
   "outputs": [
    {
     "data": {
      "text/plain": [
       "LogisticRegression()"
      ]
     },
     "execution_count": 56,
     "metadata": {},
     "output_type": "execute_result"
    }
   ],
   "source": [
    "# instantiate the model\n",
    "logreg = LogisticRegression()\n",
    "\n",
    "\n",
    "# fit the model\n",
    "logreg.fit(X_train_final, y_train)"
   ]
  },
  {
   "cell_type": "markdown",
   "metadata": {},
   "source": [
    "---\n",
    "---\n",
    "## 7.  Model Evaluation"
   ]
  },
  {
   "cell_type": "code",
   "execution_count": 57,
   "metadata": {},
   "outputs": [
    {
     "data": {
      "text/plain": [
       "array(['No', 'No', 'Yes', ..., 'No', 'No', 'Yes'], dtype=object)"
      ]
     },
     "execution_count": 57,
     "metadata": {},
     "output_type": "execute_result"
    }
   ],
   "source": [
    "#predict logreg model test set\n",
    "y_pred_test = logreg.predict(X_test_final)\n",
    "\n",
    "y_pred_test"
   ]
  },
  {
   "cell_type": "code",
   "execution_count": 58,
   "metadata": {},
   "outputs": [
    {
     "data": {
      "text/plain": [
       "array([0.7350249 , 0.94668261, 0.01126851, ..., 0.99423097, 0.97691927,\n",
       "       0.20551762])"
      ]
     },
     "execution_count": 58,
     "metadata": {},
     "output_type": "execute_result"
    }
   ],
   "source": [
    "#check probability the predict of logreg of Rain is happen tomorrow\n",
    "logreg.predict_proba(X_test_final)[:,0] # 0 - Rain"
   ]
  },
  {
   "cell_type": "code",
   "execution_count": 59,
   "metadata": {},
   "outputs": [
    {
     "data": {
      "text/plain": [
       "array([0.2649751 , 0.05331739, 0.98873149, ..., 0.00576903, 0.02308073,\n",
       "       0.79448238])"
      ]
     },
     "execution_count": 59,
     "metadata": {},
     "output_type": "execute_result"
    }
   ],
   "source": [
    "#check probability the predict of logreg of Rain is not happen tomorrow\n",
    "logreg.predict_proba(X_test_final)[:,1] # 1 - No Rain"
   ]
  },
  {
   "cell_type": "code",
   "execution_count": 60,
   "metadata": {},
   "outputs": [
    {
     "data": {
      "text/plain": [
       "array(['No', 'No', 'No', ..., 'No', 'No', 'Yes'], dtype=object)"
      ]
     },
     "execution_count": 60,
     "metadata": {},
     "output_type": "execute_result"
    }
   ],
   "source": [
    "#predict logreg model of training set\n",
    "y_pred_train = logreg.predict(X_train_final)\n",
    "\n",
    "y_pred_train"
   ]
  },
  {
   "cell_type": "code",
   "execution_count": 61,
   "metadata": {},
   "outputs": [
    {
     "name": "stdout",
     "output_type": "stream",
     "text": [
      "accuracy score training - set: 0.8485415897462947\n",
      "accuracy score test - set : 0.8228489046731601 \n"
     ]
    }
   ],
   "source": [
    "#print accuracy of logisticregression model\n",
    "print('accuracy score training - set: {}'. format(accuracy_score(y_train, y_pred_train)))\n",
    "\n",
    "print('accuracy score test - set : {} '. format(accuracy_score(y_test, y_pred_test)))\n",
    "\n"
   ]
  },
  {
   "cell_type": "code",
   "execution_count": 62,
   "metadata": {},
   "outputs": [
    {
     "name": "stdout",
     "output_type": "stream",
     "text": [
      "              precision    recall  f1-score   support\n",
      "\n",
      "          No       0.88      0.89      0.89     22049\n",
      "         Yes       0.61      0.60      0.60      6390\n",
      "\n",
      "    accuracy                           0.82     28439\n",
      "   macro avg       0.75      0.74      0.75     28439\n",
      "weighted avg       0.82      0.82      0.82     28439\n",
      "\n"
     ]
    }
   ],
   "source": [
    "print(classification_report(y_test, y_pred_test))"
   ]
  },
  {
   "cell_type": "code",
   "execution_count": 146,
   "metadata": {},
   "outputs": [],
   "source": [
    "svc = SVC()\n",
    "svc.fit(X_train_final,y_train)"
   ]
  },
  {
   "cell_type": "code",
   "execution_count": 147,
   "metadata": {},
   "outputs": [],
   "source": [
    "y_pred_train_svc = svc.predict(X_train_final)\n",
    "y_pred_test_svc = svc.predict(X_test_final)"
   ]
  },
  {
   "cell_type": "code",
   "execution_count": 148,
   "metadata": {},
   "outputs": [],
   "source": [
    "print('accuracy score training - set using SVC: {}'. format(accuracy_score(y_train, y_pred_train_svc)))\n",
    "\n",
    "print('accuracy score test - set usning SVC : {} '. format(accuracy_score(y_test, y_pred_test_svc)))"
   ]
  },
  {
   "cell_type": "code",
   "execution_count": 149,
   "metadata": {},
   "outputs": [],
   "source": [
    "print(classification_report(y_test, y_pred_test_svc))"
   ]
  },
  {
   "cell_type": "markdown",
   "metadata": {},
   "source": [
    "#### Note   :\n",
    "- LogisticReggresion\n",
    "1.  Training set akurasi yaitu 0.84, sedangkan pada test set yaitu 0.822\n",
    "2.  Precision mengidentifikasi proporsi hasil positif yang diprediksi dengan benar, dengan skore 88% pada jawaban _No_ dan 60% pada jawaban _Yes_\n",
    "3.  Recall mengidentifikasi proporsi positif aktual yang diprediksi dengan benar, dengan skore 89% pada jawaban _No_ dan 60% pada jawaban _Yes_ \n",
    "4.  f1-score adalah rata-rata dari Precision dan Recall\n",
    "5.  Support adalah jumlah aktual kemunculan kelas dalam dataset, yatu 22049 pada jawaban _No_ dan 6390 pada jawaban _Yes_\n",
    "\n",
    "-  SVM\n",
    "1.  Training set akurasi yaitu 0.86, sedangkan pada test set yaitu 0.82\n",
    "2.  Precision mengidentifikasi proporsi hasil positif yang diprediksi dengan benar, dengan skore 88% pada jawaban _No_ dan 60% pada jawaban _Yes_\n",
    "3.  Recall mengidentifikasi proporsi positif aktual yang diprediksi dengan benar, dengan skore 89% pada jawaban _No_ dan 60% pada jawaban _Yes_\n",
    "4.  Support adalah jumlah aktual kemunculan kelas dalam dataset, yatu 22049 pada jawaban _No_ dan 6390 pada jawaban _Yes_"
   ]
  },
  {
   "cell_type": "markdown",
   "metadata": {},
   "source": [
    "---\n",
    "#### 1. Tuning Model Using GridSearchCV"
   ]
  },
  {
   "cell_type": "code",
   "execution_count": null,
   "metadata": {},
   "outputs": [],
   "source": [
    "model = LogisticRegression()\n",
    "solvers = ['newton-cg', 'lbfgs', 'liblinear']\n",
    "penalty = ['l2']\n",
    "c_values = [100, 10, 1.0, 0.1, 0.01]\n",
    "# define grid search\n",
    "grid = dict(solver=solvers,penalty=penalty,C=c_values)\n",
    "cv = RepeatedStratifiedKFold(n_splits=10, n_repeats=3, random_state=1)\n",
    "grid_search = GridSearchCV(estimator=model, param_grid=grid, n_jobs=-1, cv=cv, scoring='accuracy',error_score=0)\n",
    "grid_result = grid_search.fit(X_train_final, y_train)\n",
    "# summarize results\n",
    "print(\"Best: %f using %s\" % (grid_result.best_score_, grid_result.best_params_))\n",
    "means = grid_result.cv_results_['mean_test_score']\n",
    "stds = grid_result.cv_results_['std_test_score']\n",
    "params = grid_result.cv_results_['params']\n",
    "for mean, stdev, param in zip(means, stds, params):\n",
    "    print(\"%f (%f) with: %r\" % (mean, stdev, param))"
   ]
  },
  {
   "cell_type": "code",
   "execution_count": 75,
   "metadata": {},
   "outputs": [
    {
     "data": {
      "text/plain": [
       "LogisticRegression(C=100, solver='newton-cg')"
      ]
     },
     "execution_count": 75,
     "metadata": {},
     "output_type": "execute_result"
    }
   ],
   "source": [
    "# instantiate the model\n",
    "logreg100 = LogisticRegression(C=100, solver='newton-cg', penalty='l2')\n",
    "\n",
    "\n",
    "# fit the model\n",
    "logreg100.fit(X_train_final, y_train)"
   ]
  },
  {
   "cell_type": "code",
   "execution_count": 76,
   "metadata": {},
   "outputs": [],
   "source": [
    "y_pred_test = logreg100.predict(X_test_final)\n",
    "y_pred_train = logreg100.predict(X_train_final)"
   ]
  },
  {
   "cell_type": "code",
   "execution_count": 77,
   "metadata": {},
   "outputs": [
    {
     "name": "stdout",
     "output_type": "stream",
     "text": [
      "accuracy score training - set: 0.8488228985354361\n",
      "accuracy score test - set : 0.8228137416927459 \n"
     ]
    }
   ],
   "source": [
    "print('accuracy score training - set: {}'. format(accuracy_score(y_train, y_pred_train)))\n",
    "\n",
    "print('accuracy score test - set : {} '. format(accuracy_score(y_test, y_pred_test)))"
   ]
  },
  {
   "cell_type": "code",
   "execution_count": 229,
   "metadata": {},
   "outputs": [],
   "source": [
    "model = SVC()\n",
    "kernel = ['poly', 'rbf', 'sigmoid']\n",
    "C = [50, 10, 1.0, 0.1, 0.01]\n",
    "gamma = ['scale']\n",
    "# define grid search\n",
    "grid = dict(kernel=kernel,C=C,gamma=gamma)\n",
    "cv = RepeatedStratifiedKFold(n_splits=10, n_repeats=3, random_state=1)\n",
    "grid_search = GridSearchCV(estimator=model, param_grid=grid, n_jobs=-1, cv=cv, scoring='accuracy',error_score=0)\n",
    "grid_result = grid_search.fit(X_train_final, y_train)\n",
    "# summarize results\n",
    "print(\"Best: %f using %s\" % (grid_result.best_score_, grid_result.best_params_))\n",
    "means = grid_result.cv_results_['mean_test_score']\n",
    "stds = grid_result.cv_results_['std_test_score']\n",
    "params = grid_result.cv_results_['params']\n",
    "for mean, stdev, param in zip(means, stds, params):\n",
    "    print(\"%f (%f) with: %r\" % (mean, stdev, param))"
   ]
  },
  {
   "cell_type": "code",
   "execution_count": null,
   "metadata": {},
   "outputs": [],
   "source": [
    "svc_poly = SVC(C=1, gamma='scale', kernel='poly')\n",
    "svc_poly.fit(X_train_final,y_train)"
   ]
  },
  {
   "cell_type": "code",
   "execution_count": null,
   "metadata": {},
   "outputs": [],
   "source": [
    "y_pred_train_svc = svc_poly.predict(X_train_final)\n",
    "y_pred_test_svc = svc_poly.predict(X_test_final)"
   ]
  },
  {
   "cell_type": "code",
   "execution_count": null,
   "metadata": {},
   "outputs": [],
   "source": [
    "print('accuracy score training - set using SVC: {}'. format(accuracy_score(y_train, y_pred_train_svc)))\n",
    "\n",
    "print('accuracy score test - set usning SVC : {} '. format(accuracy_score(y_test, y_pred_test_svc)))"
   ]
  },
  {
   "cell_type": "markdown",
   "metadata": {},
   "source": [
    "### Note    :\n",
    "1.  Tuning menggunakan GridSearchCV untuk mencari hyperparameter yang paling baik terhadap model yang digunakan\n",
    "2.  Pada kasus kali ini, LogisticRegression mendapatkan nilai akurasi lebih baik jika C=100 dan solver = newton-cg\n",
    "3.  untuk SVM, dari pribadi belum sempat mencoba parameter yang didapat pada GridSearchCV karna proses running yang sangat lama\n",
    "4.  Kesimpulanya, adalah bahwa untuk mendapatkan akurasi yang lebih baik pada model dapat dilakukan proses tuning hyperparameter"
   ]
  },
  {
   "cell_type": "markdown",
   "metadata": {},
   "source": [
    "---\n",
    "---\n",
    "## 8.   Model Inference"
   ]
  },
  {
   "cell_type": "code",
   "execution_count": 205,
   "metadata": {},
   "outputs": [],
   "source": [
    "#search sample to use as data inference\n",
    "data_inf = rain_df.sample(10, random_state=18)"
   ]
  },
  {
   "cell_type": "code",
   "execution_count": 206,
   "metadata": {},
   "outputs": [
    {
     "data": {
      "text/html": [
       "<div>\n",
       "<style scoped>\n",
       "    .dataframe tbody tr th:only-of-type {\n",
       "        vertical-align: middle;\n",
       "    }\n",
       "\n",
       "    .dataframe tbody tr th {\n",
       "        vertical-align: top;\n",
       "    }\n",
       "\n",
       "    .dataframe thead th {\n",
       "        text-align: right;\n",
       "    }\n",
       "</style>\n",
       "<table border=\"1\" class=\"dataframe\">\n",
       "  <thead>\n",
       "    <tr style=\"text-align: right;\">\n",
       "      <th></th>\n",
       "      <th>Location</th>\n",
       "      <th>MinTemp</th>\n",
       "      <th>MaxTemp</th>\n",
       "      <th>Rainfall</th>\n",
       "      <th>Evaporation</th>\n",
       "      <th>Sunshine</th>\n",
       "      <th>WindGustDir</th>\n",
       "      <th>WindGustSpeed</th>\n",
       "      <th>WindDir9am</th>\n",
       "      <th>WindDir3pm</th>\n",
       "      <th>...</th>\n",
       "      <th>Pressure3pm</th>\n",
       "      <th>Cloud9am</th>\n",
       "      <th>Cloud3pm</th>\n",
       "      <th>Temp9am</th>\n",
       "      <th>Temp3pm</th>\n",
       "      <th>RainToday</th>\n",
       "      <th>RainTomorrow</th>\n",
       "      <th>Year</th>\n",
       "      <th>Month</th>\n",
       "      <th>Day</th>\n",
       "    </tr>\n",
       "  </thead>\n",
       "  <tbody>\n",
       "    <tr>\n",
       "      <th>132026</th>\n",
       "      <td>Hobart</td>\n",
       "      <td>10.8</td>\n",
       "      <td>16.5</td>\n",
       "      <td>2.4</td>\n",
       "      <td>2.6</td>\n",
       "      <td>5.8</td>\n",
       "      <td>NNW</td>\n",
       "      <td>41.0</td>\n",
       "      <td>E</td>\n",
       "      <td>SE</td>\n",
       "      <td>...</td>\n",
       "      <td>1012.0</td>\n",
       "      <td>4.0</td>\n",
       "      <td>7.0</td>\n",
       "      <td>12.8</td>\n",
       "      <td>16.3</td>\n",
       "      <td>Yes</td>\n",
       "      <td>No</td>\n",
       "      <td>2014</td>\n",
       "      <td>9</td>\n",
       "      <td>25</td>\n",
       "    </tr>\n",
       "    <tr>\n",
       "      <th>50517</th>\n",
       "      <td>Tuggeranong</td>\n",
       "      <td>8.2</td>\n",
       "      <td>18.5</td>\n",
       "      <td>0.2</td>\n",
       "      <td>NaN</td>\n",
       "      <td>NaN</td>\n",
       "      <td>SSE</td>\n",
       "      <td>35.0</td>\n",
       "      <td>S</td>\n",
       "      <td>ESE</td>\n",
       "      <td>...</td>\n",
       "      <td>1021.9</td>\n",
       "      <td>NaN</td>\n",
       "      <td>NaN</td>\n",
       "      <td>12.4</td>\n",
       "      <td>17.3</td>\n",
       "      <td>No</td>\n",
       "      <td>No</td>\n",
       "      <td>2013</td>\n",
       "      <td>4</td>\n",
       "      <td>3</td>\n",
       "    </tr>\n",
       "    <tr>\n",
       "      <th>137958</th>\n",
       "      <td>AliceSprings</td>\n",
       "      <td>12.4</td>\n",
       "      <td>16.9</td>\n",
       "      <td>12.0</td>\n",
       "      <td>7.0</td>\n",
       "      <td>3.5</td>\n",
       "      <td>SSE</td>\n",
       "      <td>33.0</td>\n",
       "      <td>SE</td>\n",
       "      <td>SE</td>\n",
       "      <td>...</td>\n",
       "      <td>1017.9</td>\n",
       "      <td>4.0</td>\n",
       "      <td>8.0</td>\n",
       "      <td>15.0</td>\n",
       "      <td>15.9</td>\n",
       "      <td>Yes</td>\n",
       "      <td>No</td>\n",
       "      <td>2014</td>\n",
       "      <td>4</td>\n",
       "      <td>30</td>\n",
       "    </tr>\n",
       "    <tr>\n",
       "      <th>96955</th>\n",
       "      <td>Adelaide</td>\n",
       "      <td>21.0</td>\n",
       "      <td>22.6</td>\n",
       "      <td>0.2</td>\n",
       "      <td>NaN</td>\n",
       "      <td>0.0</td>\n",
       "      <td>SW</td>\n",
       "      <td>28.0</td>\n",
       "      <td>NaN</td>\n",
       "      <td>NNE</td>\n",
       "      <td>...</td>\n",
       "      <td>1011.2</td>\n",
       "      <td>NaN</td>\n",
       "      <td>NaN</td>\n",
       "      <td>22.3</td>\n",
       "      <td>19.0</td>\n",
       "      <td>No</td>\n",
       "      <td>Yes</td>\n",
       "      <td>2010</td>\n",
       "      <td>3</td>\n",
       "      <td>28</td>\n",
       "    </tr>\n",
       "    <tr>\n",
       "      <th>10867</th>\n",
       "      <td>CoffsHarbour</td>\n",
       "      <td>17.8</td>\n",
       "      <td>26.2</td>\n",
       "      <td>0.4</td>\n",
       "      <td>4.4</td>\n",
       "      <td>NaN</td>\n",
       "      <td>E</td>\n",
       "      <td>26.0</td>\n",
       "      <td>WNW</td>\n",
       "      <td>E</td>\n",
       "      <td>...</td>\n",
       "      <td>1015.9</td>\n",
       "      <td>8.0</td>\n",
       "      <td>NaN</td>\n",
       "      <td>20.5</td>\n",
       "      <td>26.0</td>\n",
       "      <td>No</td>\n",
       "      <td>No</td>\n",
       "      <td>2014</td>\n",
       "      <td>3</td>\n",
       "      <td>14</td>\n",
       "    </tr>\n",
       "    <tr>\n",
       "      <th>94900</th>\n",
       "      <td>Townsville</td>\n",
       "      <td>11.5</td>\n",
       "      <td>26.1</td>\n",
       "      <td>0.0</td>\n",
       "      <td>7.0</td>\n",
       "      <td>10.5</td>\n",
       "      <td>NNE</td>\n",
       "      <td>30.0</td>\n",
       "      <td>N</td>\n",
       "      <td>NE</td>\n",
       "      <td>...</td>\n",
       "      <td>1016.4</td>\n",
       "      <td>1.0</td>\n",
       "      <td>1.0</td>\n",
       "      <td>20.9</td>\n",
       "      <td>24.7</td>\n",
       "      <td>No</td>\n",
       "      <td>No</td>\n",
       "      <td>2013</td>\n",
       "      <td>8</td>\n",
       "      <td>6</td>\n",
       "    </tr>\n",
       "    <tr>\n",
       "      <th>23166</th>\n",
       "      <td>NorfolkIsland</td>\n",
       "      <td>15.3</td>\n",
       "      <td>21.2</td>\n",
       "      <td>0.0</td>\n",
       "      <td>6.6</td>\n",
       "      <td>7.3</td>\n",
       "      <td>E</td>\n",
       "      <td>50.0</td>\n",
       "      <td>E</td>\n",
       "      <td>ENE</td>\n",
       "      <td>...</td>\n",
       "      <td>1018.6</td>\n",
       "      <td>6.0</td>\n",
       "      <td>7.0</td>\n",
       "      <td>20.0</td>\n",
       "      <td>18.7</td>\n",
       "      <td>No</td>\n",
       "      <td>No</td>\n",
       "      <td>2014</td>\n",
       "      <td>11</td>\n",
       "      <td>7</td>\n",
       "    </tr>\n",
       "    <tr>\n",
       "      <th>67265</th>\n",
       "      <td>Melbourne</td>\n",
       "      <td>5.4</td>\n",
       "      <td>18.5</td>\n",
       "      <td>0.0</td>\n",
       "      <td>3.0</td>\n",
       "      <td>6.5</td>\n",
       "      <td>SSE</td>\n",
       "      <td>30.0</td>\n",
       "      <td>N</td>\n",
       "      <td>ESE</td>\n",
       "      <td>...</td>\n",
       "      <td>1029.2</td>\n",
       "      <td>7.0</td>\n",
       "      <td>3.0</td>\n",
       "      <td>7.5</td>\n",
       "      <td>17.8</td>\n",
       "      <td>No</td>\n",
       "      <td>No</td>\n",
       "      <td>2008</td>\n",
       "      <td>9</td>\n",
       "      <td>4</td>\n",
       "    </tr>\n",
       "    <tr>\n",
       "      <th>85233</th>\n",
       "      <td>Brisbane</td>\n",
       "      <td>16.9</td>\n",
       "      <td>27.5</td>\n",
       "      <td>2.4</td>\n",
       "      <td>3.8</td>\n",
       "      <td>10.8</td>\n",
       "      <td>E</td>\n",
       "      <td>24.0</td>\n",
       "      <td>SSE</td>\n",
       "      <td>E</td>\n",
       "      <td>...</td>\n",
       "      <td>1010.5</td>\n",
       "      <td>4.0</td>\n",
       "      <td>7.0</td>\n",
       "      <td>24.9</td>\n",
       "      <td>25.4</td>\n",
       "      <td>Yes</td>\n",
       "      <td>Yes</td>\n",
       "      <td>2011</td>\n",
       "      <td>12</td>\n",
       "      <td>9</td>\n",
       "    </tr>\n",
       "    <tr>\n",
       "      <th>95210</th>\n",
       "      <td>Townsville</td>\n",
       "      <td>16.6</td>\n",
       "      <td>26.9</td>\n",
       "      <td>0.0</td>\n",
       "      <td>4.6</td>\n",
       "      <td>10.4</td>\n",
       "      <td>ESE</td>\n",
       "      <td>39.0</td>\n",
       "      <td>SE</td>\n",
       "      <td>E</td>\n",
       "      <td>...</td>\n",
       "      <td>1012.6</td>\n",
       "      <td>2.0</td>\n",
       "      <td>2.0</td>\n",
       "      <td>23.0</td>\n",
       "      <td>26.0</td>\n",
       "      <td>No</td>\n",
       "      <td>No</td>\n",
       "      <td>2014</td>\n",
       "      <td>6</td>\n",
       "      <td>12</td>\n",
       "    </tr>\n",
       "  </tbody>\n",
       "</table>\n",
       "<p>10 rows × 25 columns</p>\n",
       "</div>"
      ],
      "text/plain": [
       "             Location  MinTemp  MaxTemp  Rainfall  Evaporation  Sunshine  \\\n",
       "132026         Hobart     10.8     16.5       2.4          2.6       5.8   \n",
       "50517     Tuggeranong      8.2     18.5       0.2          NaN       NaN   \n",
       "137958   AliceSprings     12.4     16.9      12.0          7.0       3.5   \n",
       "96955        Adelaide     21.0     22.6       0.2          NaN       0.0   \n",
       "10867    CoffsHarbour     17.8     26.2       0.4          4.4       NaN   \n",
       "94900      Townsville     11.5     26.1       0.0          7.0      10.5   \n",
       "23166   NorfolkIsland     15.3     21.2       0.0          6.6       7.3   \n",
       "67265       Melbourne      5.4     18.5       0.0          3.0       6.5   \n",
       "85233        Brisbane     16.9     27.5       2.4          3.8      10.8   \n",
       "95210      Townsville     16.6     26.9       0.0          4.6      10.4   \n",
       "\n",
       "       WindGustDir  WindGustSpeed WindDir9am WindDir3pm  ...  Pressure3pm  \\\n",
       "132026         NNW           41.0          E         SE  ...       1012.0   \n",
       "50517          SSE           35.0          S        ESE  ...       1021.9   \n",
       "137958         SSE           33.0         SE         SE  ...       1017.9   \n",
       "96955           SW           28.0        NaN        NNE  ...       1011.2   \n",
       "10867            E           26.0        WNW          E  ...       1015.9   \n",
       "94900          NNE           30.0          N         NE  ...       1016.4   \n",
       "23166            E           50.0          E        ENE  ...       1018.6   \n",
       "67265          SSE           30.0          N        ESE  ...       1029.2   \n",
       "85233            E           24.0        SSE          E  ...       1010.5   \n",
       "95210          ESE           39.0         SE          E  ...       1012.6   \n",
       "\n",
       "        Cloud9am  Cloud3pm  Temp9am  Temp3pm  RainToday  RainTomorrow  Year  \\\n",
       "132026       4.0       7.0     12.8     16.3        Yes            No  2014   \n",
       "50517        NaN       NaN     12.4     17.3         No            No  2013   \n",
       "137958       4.0       8.0     15.0     15.9        Yes            No  2014   \n",
       "96955        NaN       NaN     22.3     19.0         No           Yes  2010   \n",
       "10867        8.0       NaN     20.5     26.0         No            No  2014   \n",
       "94900        1.0       1.0     20.9     24.7         No            No  2013   \n",
       "23166        6.0       7.0     20.0     18.7         No            No  2014   \n",
       "67265        7.0       3.0      7.5     17.8         No            No  2008   \n",
       "85233        4.0       7.0     24.9     25.4        Yes           Yes  2011   \n",
       "95210        2.0       2.0     23.0     26.0         No            No  2014   \n",
       "\n",
       "        Month  Day  \n",
       "132026      9   25  \n",
       "50517       4    3  \n",
       "137958      4   30  \n",
       "96955       3   28  \n",
       "10867       3   14  \n",
       "94900       8    6  \n",
       "23166      11    7  \n",
       "67265       9    4  \n",
       "85233      12    9  \n",
       "95210       6   12  \n",
       "\n",
       "[10 rows x 25 columns]"
      ]
     },
     "execution_count": 206,
     "metadata": {},
     "output_type": "execute_result"
    }
   ],
   "source": [
    "data_inf"
   ]
  },
  {
   "cell_type": "code",
   "execution_count": 207,
   "metadata": {},
   "outputs": [],
   "source": [
    "data_inf_test = data_inf.copy() "
   ]
  },
  {
   "cell_type": "code",
   "execution_count": 208,
   "metadata": {},
   "outputs": [],
   "source": [
    "#drop target to use as model inference\n",
    "data_inf_test.drop(columns=['RainTomorrow'], axis=1, inplace=True)"
   ]
  },
  {
   "cell_type": "code",
   "execution_count": 209,
   "metadata": {},
   "outputs": [
    {
     "name": "stdout",
     "output_type": "stream",
     "text": [
      "Data Inference num columns :  ['MinTemp', 'MaxTemp', 'Rainfall', 'Evaporation', 'Sunshine', 'WindGustSpeed', 'WindSpeed9am', 'WindSpeed3pm', 'Humidity9am', 'Humidity3pm', 'Pressure9am', 'Pressure3pm', 'Cloud9am', 'Cloud3pm', 'Temp9am', 'Temp3pm', 'Year', 'Month', 'Day']\n",
      "Data inference cat columns :  ['Location', 'WindGustDir', 'WindDir9am', 'WindDir3pm', 'RainToday']\n"
     ]
    }
   ],
   "source": [
    "#split data inf to cat columns and num columns\n",
    "num_columns_inf = data_inf_test.select_dtypes(include=np.number).columns.tolist()\n",
    "cat_columns_inf = data_inf_test.select_dtypes(include=['object']).columns.tolist()\n",
    "\n",
    "print('Data Inference num columns : ', num_columns_inf)\n",
    "print('Data inference cat columns : ', cat_columns_inf)"
   ]
  },
  {
   "cell_type": "code",
   "execution_count": 210,
   "metadata": {},
   "outputs": [
    {
     "data": {
      "text/plain": [
       "MinTemp          0\n",
       "MaxTemp          0\n",
       "Rainfall         0\n",
       "Evaporation      2\n",
       "Sunshine         2\n",
       "WindGustSpeed    0\n",
       "WindSpeed9am     0\n",
       "WindSpeed3pm     0\n",
       "Humidity9am      0\n",
       "Humidity3pm      0\n",
       "Pressure9am      0\n",
       "Pressure3pm      0\n",
       "Cloud9am         2\n",
       "Cloud3pm         3\n",
       "Temp9am          0\n",
       "Temp3pm          0\n",
       "Year             0\n",
       "Month            0\n",
       "Day              0\n",
       "dtype: int64"
      ]
     },
     "execution_count": 210,
     "metadata": {},
     "output_type": "execute_result"
    }
   ],
   "source": [
    "#check missing value num column\n",
    "data_inf_test[num_columns_inf].isnull().sum()"
   ]
  },
  {
   "cell_type": "code",
   "execution_count": 211,
   "metadata": {},
   "outputs": [
    {
     "data": {
      "text/plain": [
       "Location       0\n",
       "WindGustDir    0\n",
       "WindDir9am     1\n",
       "WindDir3pm     0\n",
       "RainToday      0\n",
       "dtype: int64"
      ]
     },
     "execution_count": 211,
     "metadata": {},
     "output_type": "execute_result"
    }
   ],
   "source": [
    "#check missing value cat column\n",
    "data_inf_test[cat_columns_inf].isnull().sum()"
   ]
  },
  {
   "cell_type": "code",
   "execution_count": 212,
   "metadata": {},
   "outputs": [],
   "source": [
    "#fill missing value in num column using median\n",
    "for col in num_columns_inf:\n",
    "    col_median=data_inf_test[col].median()\n",
    "    data_inf_test[col].fillna(col_median, inplace=True)  \n"
   ]
  },
  {
   "cell_type": "code",
   "execution_count": 213,
   "metadata": {},
   "outputs": [],
   "source": [
    "#fill missing value in cat column using mode\n",
    "for col in cat_columns_inf:\n",
    "    col_mode=data_inf_test[col].mode()\n",
    "    data_inf_test[col].fillna(col_mode[0], inplace=True)   "
   ]
  },
  {
   "cell_type": "code",
   "execution_count": 214,
   "metadata": {},
   "outputs": [
    {
     "data": {
      "text/plain": [
       "Location       0\n",
       "WindGustDir    0\n",
       "WindDir9am     0\n",
       "WindDir3pm     0\n",
       "RainToday      0\n",
       "dtype: int64"
      ]
     },
     "execution_count": 214,
     "metadata": {},
     "output_type": "execute_result"
    }
   ],
   "source": [
    "data_inf_test[cat_columns_inf].isnull().sum()"
   ]
  },
  {
   "cell_type": "code",
   "execution_count": 215,
   "metadata": {},
   "outputs": [
    {
     "data": {
      "text/plain": [
       "MinTemp          0\n",
       "MaxTemp          0\n",
       "Rainfall         0\n",
       "Evaporation      0\n",
       "Sunshine         0\n",
       "WindGustSpeed    0\n",
       "WindSpeed9am     0\n",
       "WindSpeed3pm     0\n",
       "Humidity9am      0\n",
       "Humidity3pm      0\n",
       "Pressure9am      0\n",
       "Pressure3pm      0\n",
       "Cloud9am         0\n",
       "Cloud3pm         0\n",
       "Temp9am          0\n",
       "Temp3pm          0\n",
       "Year             0\n",
       "Month            0\n",
       "Day              0\n",
       "dtype: int64"
      ]
     },
     "execution_count": 215,
     "metadata": {},
     "output_type": "execute_result"
    }
   ],
   "source": [
    "data_inf_test[num_columns_inf].isnull().sum()"
   ]
  },
  {
   "cell_type": "code",
   "execution_count": 216,
   "metadata": {},
   "outputs": [],
   "source": [
    "data_inf_num = data_inf_test[num_columns_inf]\n",
    "data_inf_cat = data_inf_test[cat_columns_inf]"
   ]
  },
  {
   "cell_type": "code",
   "execution_count": 217,
   "metadata": {},
   "outputs": [
    {
     "data": {
      "text/html": [
       "<div>\n",
       "<style scoped>\n",
       "    .dataframe tbody tr th:only-of-type {\n",
       "        vertical-align: middle;\n",
       "    }\n",
       "\n",
       "    .dataframe tbody tr th {\n",
       "        vertical-align: top;\n",
       "    }\n",
       "\n",
       "    .dataframe thead th {\n",
       "        text-align: right;\n",
       "    }\n",
       "</style>\n",
       "<table border=\"1\" class=\"dataframe\">\n",
       "  <thead>\n",
       "    <tr style=\"text-align: right;\">\n",
       "      <th></th>\n",
       "      <th>MinTemp</th>\n",
       "      <th>MaxTemp</th>\n",
       "      <th>Rainfall</th>\n",
       "      <th>Evaporation</th>\n",
       "      <th>Sunshine</th>\n",
       "      <th>WindGustSpeed</th>\n",
       "      <th>WindSpeed9am</th>\n",
       "      <th>WindSpeed3pm</th>\n",
       "      <th>Humidity9am</th>\n",
       "      <th>Humidity3pm</th>\n",
       "      <th>Pressure9am</th>\n",
       "      <th>Pressure3pm</th>\n",
       "      <th>Cloud9am</th>\n",
       "      <th>Cloud3pm</th>\n",
       "      <th>Temp9am</th>\n",
       "      <th>Temp3pm</th>\n",
       "      <th>Year</th>\n",
       "      <th>Month</th>\n",
       "      <th>Day</th>\n",
       "    </tr>\n",
       "  </thead>\n",
       "  <tbody>\n",
       "    <tr>\n",
       "      <th>count</th>\n",
       "      <td>10.000000</td>\n",
       "      <td>10.000000</td>\n",
       "      <td>10.000000</td>\n",
       "      <td>10.000000</td>\n",
       "      <td>10.000000</td>\n",
       "      <td>10.000000</td>\n",
       "      <td>10.000000</td>\n",
       "      <td>10.000000</td>\n",
       "      <td>10.000000</td>\n",
       "      <td>10.000000</td>\n",
       "      <td>10.000000</td>\n",
       "      <td>10.000000</td>\n",
       "      <td>10.0000</td>\n",
       "      <td>10.00000</td>\n",
       "      <td>10.000000</td>\n",
       "      <td>10.000000</td>\n",
       "      <td>10.00000</td>\n",
       "      <td>10.0000</td>\n",
       "      <td>10.00000</td>\n",
       "    </tr>\n",
       "    <tr>\n",
       "      <th>mean</th>\n",
       "      <td>13.590000</td>\n",
       "      <td>22.090000</td>\n",
       "      <td>1.760000</td>\n",
       "      <td>4.800000</td>\n",
       "      <td>6.860000</td>\n",
       "      <td>33.600000</td>\n",
       "      <td>11.000000</td>\n",
       "      <td>15.500000</td>\n",
       "      <td>70.300000</td>\n",
       "      <td>59.100000</td>\n",
       "      <td>1018.850000</td>\n",
       "      <td>1016.620000</td>\n",
       "      <td>4.4000</td>\n",
       "      <td>5.60000</td>\n",
       "      <td>17.930000</td>\n",
       "      <td>20.710000</td>\n",
       "      <td>2012.50000</td>\n",
       "      <td>6.9000</td>\n",
       "      <td>13.80000</td>\n",
       "    </tr>\n",
       "    <tr>\n",
       "      <th>std</th>\n",
       "      <td>4.775737</td>\n",
       "      <td>4.351105</td>\n",
       "      <td>3.723559</td>\n",
       "      <td>1.576917</td>\n",
       "      <td>3.351683</td>\n",
       "      <td>7.904991</td>\n",
       "      <td>8.819171</td>\n",
       "      <td>6.867799</td>\n",
       "      <td>9.055999</td>\n",
       "      <td>15.125034</td>\n",
       "      <td>6.620717</td>\n",
       "      <td>5.740654</td>\n",
       "      <td>2.1187</td>\n",
       "      <td>2.54733</td>\n",
       "      <td>5.650575</td>\n",
       "      <td>4.262615</td>\n",
       "      <td>2.12132</td>\n",
       "      <td>3.3483</td>\n",
       "      <td>10.19586</td>\n",
       "    </tr>\n",
       "    <tr>\n",
       "      <th>min</th>\n",
       "      <td>5.400000</td>\n",
       "      <td>16.500000</td>\n",
       "      <td>0.000000</td>\n",
       "      <td>2.600000</td>\n",
       "      <td>0.000000</td>\n",
       "      <td>24.000000</td>\n",
       "      <td>0.000000</td>\n",
       "      <td>6.000000</td>\n",
       "      <td>58.000000</td>\n",
       "      <td>43.000000</td>\n",
       "      <td>1011.500000</td>\n",
       "      <td>1010.500000</td>\n",
       "      <td>1.0000</td>\n",
       "      <td>1.00000</td>\n",
       "      <td>7.500000</td>\n",
       "      <td>15.900000</td>\n",
       "      <td>2008.00000</td>\n",
       "      <td>3.0000</td>\n",
       "      <td>3.00000</td>\n",
       "    </tr>\n",
       "    <tr>\n",
       "      <th>25%</th>\n",
       "      <td>10.975000</td>\n",
       "      <td>18.500000</td>\n",
       "      <td>0.000000</td>\n",
       "      <td>3.950000</td>\n",
       "      <td>5.975000</td>\n",
       "      <td>28.500000</td>\n",
       "      <td>5.250000</td>\n",
       "      <td>11.000000</td>\n",
       "      <td>65.750000</td>\n",
       "      <td>45.750000</td>\n",
       "      <td>1013.875000</td>\n",
       "      <td>1012.150000</td>\n",
       "      <td>4.0000</td>\n",
       "      <td>4.00000</td>\n",
       "      <td>13.350000</td>\n",
       "      <td>17.425000</td>\n",
       "      <td>2011.50000</td>\n",
       "      <td>4.0000</td>\n",
       "      <td>6.25000</td>\n",
       "    </tr>\n",
       "    <tr>\n",
       "      <th>50%</th>\n",
       "      <td>13.850000</td>\n",
       "      <td>21.900000</td>\n",
       "      <td>0.200000</td>\n",
       "      <td>4.500000</td>\n",
       "      <td>6.900000</td>\n",
       "      <td>31.500000</td>\n",
       "      <td>9.000000</td>\n",
       "      <td>15.000000</td>\n",
       "      <td>70.000000</td>\n",
       "      <td>59.000000</td>\n",
       "      <td>1019.450000</td>\n",
       "      <td>1016.150000</td>\n",
       "      <td>4.0000</td>\n",
       "      <td>7.00000</td>\n",
       "      <td>20.250000</td>\n",
       "      <td>18.850000</td>\n",
       "      <td>2013.50000</td>\n",
       "      <td>7.0000</td>\n",
       "      <td>10.50000</td>\n",
       "    </tr>\n",
       "    <tr>\n",
       "      <th>75%</th>\n",
       "      <td>16.825000</td>\n",
       "      <td>26.175000</td>\n",
       "      <td>1.900000</td>\n",
       "      <td>6.100000</td>\n",
       "      <td>9.625000</td>\n",
       "      <td>38.000000</td>\n",
       "      <td>16.000000</td>\n",
       "      <td>18.500000</td>\n",
       "      <td>73.500000</td>\n",
       "      <td>65.750000</td>\n",
       "      <td>1020.575000</td>\n",
       "      <td>1018.425000</td>\n",
       "      <td>5.5000</td>\n",
       "      <td>7.00000</td>\n",
       "      <td>21.950000</td>\n",
       "      <td>25.225000</td>\n",
       "      <td>2014.00000</td>\n",
       "      <td>9.0000</td>\n",
       "      <td>22.25000</td>\n",
       "    </tr>\n",
       "    <tr>\n",
       "      <th>max</th>\n",
       "      <td>21.000000</td>\n",
       "      <td>27.500000</td>\n",
       "      <td>12.000000</td>\n",
       "      <td>7.000000</td>\n",
       "      <td>10.800000</td>\n",
       "      <td>50.000000</td>\n",
       "      <td>30.000000</td>\n",
       "      <td>28.000000</td>\n",
       "      <td>89.000000</td>\n",
       "      <td>90.000000</td>\n",
       "      <td>1034.400000</td>\n",
       "      <td>1029.200000</td>\n",
       "      <td>8.0000</td>\n",
       "      <td>8.00000</td>\n",
       "      <td>24.900000</td>\n",
       "      <td>26.000000</td>\n",
       "      <td>2014.00000</td>\n",
       "      <td>12.0000</td>\n",
       "      <td>30.00000</td>\n",
       "    </tr>\n",
       "  </tbody>\n",
       "</table>\n",
       "</div>"
      ],
      "text/plain": [
       "         MinTemp    MaxTemp   Rainfall  Evaporation   Sunshine  WindGustSpeed  \\\n",
       "count  10.000000  10.000000  10.000000    10.000000  10.000000      10.000000   \n",
       "mean   13.590000  22.090000   1.760000     4.800000   6.860000      33.600000   \n",
       "std     4.775737   4.351105   3.723559     1.576917   3.351683       7.904991   \n",
       "min     5.400000  16.500000   0.000000     2.600000   0.000000      24.000000   \n",
       "25%    10.975000  18.500000   0.000000     3.950000   5.975000      28.500000   \n",
       "50%    13.850000  21.900000   0.200000     4.500000   6.900000      31.500000   \n",
       "75%    16.825000  26.175000   1.900000     6.100000   9.625000      38.000000   \n",
       "max    21.000000  27.500000  12.000000     7.000000  10.800000      50.000000   \n",
       "\n",
       "       WindSpeed9am  WindSpeed3pm  Humidity9am  Humidity3pm  Pressure9am  \\\n",
       "count     10.000000     10.000000    10.000000    10.000000    10.000000   \n",
       "mean      11.000000     15.500000    70.300000    59.100000  1018.850000   \n",
       "std        8.819171      6.867799     9.055999    15.125034     6.620717   \n",
       "min        0.000000      6.000000    58.000000    43.000000  1011.500000   \n",
       "25%        5.250000     11.000000    65.750000    45.750000  1013.875000   \n",
       "50%        9.000000     15.000000    70.000000    59.000000  1019.450000   \n",
       "75%       16.000000     18.500000    73.500000    65.750000  1020.575000   \n",
       "max       30.000000     28.000000    89.000000    90.000000  1034.400000   \n",
       "\n",
       "       Pressure3pm  Cloud9am  Cloud3pm    Temp9am    Temp3pm        Year  \\\n",
       "count    10.000000   10.0000  10.00000  10.000000  10.000000    10.00000   \n",
       "mean   1016.620000    4.4000   5.60000  17.930000  20.710000  2012.50000   \n",
       "std       5.740654    2.1187   2.54733   5.650575   4.262615     2.12132   \n",
       "min    1010.500000    1.0000   1.00000   7.500000  15.900000  2008.00000   \n",
       "25%    1012.150000    4.0000   4.00000  13.350000  17.425000  2011.50000   \n",
       "50%    1016.150000    4.0000   7.00000  20.250000  18.850000  2013.50000   \n",
       "75%    1018.425000    5.5000   7.00000  21.950000  25.225000  2014.00000   \n",
       "max    1029.200000    8.0000   8.00000  24.900000  26.000000  2014.00000   \n",
       "\n",
       "         Month       Day  \n",
       "count  10.0000  10.00000  \n",
       "mean    6.9000  13.80000  \n",
       "std     3.3483  10.19586  \n",
       "min     3.0000   3.00000  \n",
       "25%     4.0000   6.25000  \n",
       "50%     7.0000  10.50000  \n",
       "75%     9.0000  22.25000  \n",
       "max    12.0000  30.00000  "
      ]
     },
     "execution_count": 217,
     "metadata": {},
     "output_type": "execute_result"
    }
   ],
   "source": [
    "data_inf_num.describe()"
   ]
  },
  {
   "cell_type": "code",
   "execution_count": 218,
   "metadata": {},
   "outputs": [
    {
     "data": {
      "text/plain": [
       "Text(0, 0.5, 'Cloud9am')"
      ]
     },
     "execution_count": 218,
     "metadata": {},
     "output_type": "execute_result"
    },
    {
     "data": {
      "image/png": "[encoded data removed]",
      "text/plain": [
       "<Figure size 1080x720 with 3 Axes>"
      ]
     },
     "metadata": {
      "needs_background": "light"
     },
     "output_type": "display_data"
    }
   ],
   "source": [
    "#visualization data to show the outlier \n",
    "plt.figure(figsize=(15,10))\n",
    "\n",
    "plt.subplot(2, 2, 1)\n",
    "fig = data_inf_num.boxplot(column='Rainfall')\n",
    "fig.set_title('')\n",
    "fig.set_ylabel('Rainfall')\n",
    "\n",
    "\n",
    "plt.subplot(2, 2, 2)\n",
    "fig = data_inf_num.boxplot(column='Pressure9am')\n",
    "fig.set_title('')\n",
    "fig.set_ylabel('Pressure9am')\n",
    "\n",
    "\n",
    "plt.subplot(2, 2, 3)\n",
    "fig = data_inf_num.boxplot(column='Cloud9am')\n",
    "fig.set_title('')\n",
    "fig.set_ylabel('Cloud9am')\n"
   ]
  },
  {
   "cell_type": "code",
   "execution_count": 219,
   "metadata": {},
   "outputs": [],
   "source": [
    "#handling the outlier \n",
    "def calc_outlier(new_df, col):\n",
    "\n",
    "    q1 = np.quantile(new_df[col], 0.25)\n",
    "    q3 = np.quantile(new_df[col], 0.75)\n",
    "    iqr = q3 - q1\n",
    "\n",
    "    #cari batas atas dan batas bawah\n",
    "    upper = q3 + 1.5 * iqr\n",
    "    lower = q1 - 1.5 * iqr\n",
    "    \n",
    "    new_df[col] = np.where(\n",
    "    new_df[col] > upper,\n",
    "    upper,\n",
    "    np.where(\n",
    "        new_df[col] < lower,\n",
    "        lower,\n",
    "        new_df[col]\n",
    "        )\n",
    "    )\n",
    "\n",
    "calc_outlier(data_inf_num, 'Rainfall')\n",
    "calc_outlier(data_inf_num, 'Pressure9am')\n",
    "calc_outlier(data_inf_num, 'Cloud9am')"
   ]
  },
  {
   "cell_type": "code",
   "execution_count": 220,
   "metadata": {},
   "outputs": [],
   "source": [
    "#scaled num data and encode cat data, not using fit\n",
    "data_inf_num_scaled = scaler.transform(data_inf_num)\n",
    "data_inf_cat_enc = encoder.transform(data_inf_cat)"
   ]
  },
  {
   "cell_type": "code",
   "execution_count": 221,
   "metadata": {},
   "outputs": [
    {
     "data": {
      "text/html": [
       "<div>\n",
       "<style scoped>\n",
       "    .dataframe tbody tr th:only-of-type {\n",
       "        vertical-align: middle;\n",
       "    }\n",
       "\n",
       "    .dataframe tbody tr th {\n",
       "        vertical-align: top;\n",
       "    }\n",
       "\n",
       "    .dataframe thead th {\n",
       "        text-align: right;\n",
       "    }\n",
       "</style>\n",
       "<table border=\"1\" class=\"dataframe\">\n",
       "  <thead>\n",
       "    <tr style=\"text-align: right;\">\n",
       "      <th></th>\n",
       "      <th>0</th>\n",
       "      <th>1</th>\n",
       "      <th>2</th>\n",
       "      <th>3</th>\n",
       "      <th>4</th>\n",
       "      <th>5</th>\n",
       "      <th>6</th>\n",
       "      <th>7</th>\n",
       "      <th>8</th>\n",
       "      <th>9</th>\n",
       "      <th>...</th>\n",
       "      <th>108</th>\n",
       "      <th>109</th>\n",
       "      <th>110</th>\n",
       "      <th>111</th>\n",
       "      <th>112</th>\n",
       "      <th>113</th>\n",
       "      <th>114</th>\n",
       "      <th>115</th>\n",
       "      <th>116</th>\n",
       "      <th>117</th>\n",
       "    </tr>\n",
       "  </thead>\n",
       "  <tbody>\n",
       "    <tr>\n",
       "      <th>0</th>\n",
       "      <td>0.455189</td>\n",
       "      <td>0.402647</td>\n",
       "      <td>1.600000</td>\n",
       "      <td>0.125000</td>\n",
       "      <td>0.400000</td>\n",
       "      <td>0.541667</td>\n",
       "      <td>0.351351</td>\n",
       "      <td>0.271605</td>\n",
       "      <td>0.737374</td>\n",
       "      <td>0.45</td>\n",
       "      <td>...</td>\n",
       "      <td>0.0</td>\n",
       "      <td>1.0</td>\n",
       "      <td>0.0</td>\n",
       "      <td>0.0</td>\n",
       "      <td>0.0</td>\n",
       "      <td>0.0</td>\n",
       "      <td>0.0</td>\n",
       "      <td>0.0</td>\n",
       "      <td>0.0</td>\n",
       "      <td>1.0</td>\n",
       "    </tr>\n",
       "    <tr>\n",
       "      <th>1</th>\n",
       "      <td>0.393868</td>\n",
       "      <td>0.440454</td>\n",
       "      <td>0.133333</td>\n",
       "      <td>0.464286</td>\n",
       "      <td>0.475862</td>\n",
       "      <td>0.441667</td>\n",
       "      <td>0.243243</td>\n",
       "      <td>0.222222</td>\n",
       "      <td>0.696970</td>\n",
       "      <td>0.48</td>\n",
       "      <td>...</td>\n",
       "      <td>0.0</td>\n",
       "      <td>0.0</td>\n",
       "      <td>0.0</td>\n",
       "      <td>0.0</td>\n",
       "      <td>0.0</td>\n",
       "      <td>0.0</td>\n",
       "      <td>0.0</td>\n",
       "      <td>0.0</td>\n",
       "      <td>1.0</td>\n",
       "      <td>0.0</td>\n",
       "    </tr>\n",
       "    <tr>\n",
       "      <th>2</th>\n",
       "      <td>0.492925</td>\n",
       "      <td>0.410208</td>\n",
       "      <td>3.166667</td>\n",
       "      <td>0.910714</td>\n",
       "      <td>0.241379</td>\n",
       "      <td>0.408333</td>\n",
       "      <td>0.459459</td>\n",
       "      <td>0.419753</td>\n",
       "      <td>0.717172</td>\n",
       "      <td>0.74</td>\n",
       "      <td>...</td>\n",
       "      <td>0.0</td>\n",
       "      <td>1.0</td>\n",
       "      <td>0.0</td>\n",
       "      <td>0.0</td>\n",
       "      <td>0.0</td>\n",
       "      <td>0.0</td>\n",
       "      <td>0.0</td>\n",
       "      <td>0.0</td>\n",
       "      <td>0.0</td>\n",
       "      <td>1.0</td>\n",
       "    </tr>\n",
       "    <tr>\n",
       "      <th>3</th>\n",
       "      <td>0.695755</td>\n",
       "      <td>0.517958</td>\n",
       "      <td>0.133333</td>\n",
       "      <td>0.464286</td>\n",
       "      <td>0.000000</td>\n",
       "      <td>0.325000</td>\n",
       "      <td>0.000000</td>\n",
       "      <td>0.148148</td>\n",
       "      <td>0.696970</td>\n",
       "      <td>0.90</td>\n",
       "      <td>...</td>\n",
       "      <td>0.0</td>\n",
       "      <td>0.0</td>\n",
       "      <td>0.0</td>\n",
       "      <td>0.0</td>\n",
       "      <td>0.0</td>\n",
       "      <td>0.0</td>\n",
       "      <td>0.0</td>\n",
       "      <td>0.0</td>\n",
       "      <td>1.0</td>\n",
       "      <td>0.0</td>\n",
       "    </tr>\n",
       "    <tr>\n",
       "      <th>4</th>\n",
       "      <td>0.620283</td>\n",
       "      <td>0.586011</td>\n",
       "      <td>0.266667</td>\n",
       "      <td>0.446429</td>\n",
       "      <td>0.475862</td>\n",
       "      <td>0.291667</td>\n",
       "      <td>0.243243</td>\n",
       "      <td>0.419753</td>\n",
       "      <td>0.888889</td>\n",
       "      <td>0.58</td>\n",
       "      <td>...</td>\n",
       "      <td>0.0</td>\n",
       "      <td>0.0</td>\n",
       "      <td>0.0</td>\n",
       "      <td>0.0</td>\n",
       "      <td>0.0</td>\n",
       "      <td>0.0</td>\n",
       "      <td>0.0</td>\n",
       "      <td>0.0</td>\n",
       "      <td>1.0</td>\n",
       "      <td>0.0</td>\n",
       "    </tr>\n",
       "    <tr>\n",
       "      <th>5</th>\n",
       "      <td>0.471698</td>\n",
       "      <td>0.584121</td>\n",
       "      <td>0.000000</td>\n",
       "      <td>0.910714</td>\n",
       "      <td>0.724138</td>\n",
       "      <td>0.358333</td>\n",
       "      <td>0.054054</td>\n",
       "      <td>0.469136</td>\n",
       "      <td>0.676768</td>\n",
       "      <td>0.44</td>\n",
       "      <td>...</td>\n",
       "      <td>0.0</td>\n",
       "      <td>0.0</td>\n",
       "      <td>0.0</td>\n",
       "      <td>0.0</td>\n",
       "      <td>0.0</td>\n",
       "      <td>0.0</td>\n",
       "      <td>0.0</td>\n",
       "      <td>0.0</td>\n",
       "      <td>1.0</td>\n",
       "      <td>0.0</td>\n",
       "    </tr>\n",
       "    <tr>\n",
       "      <th>6</th>\n",
       "      <td>0.561321</td>\n",
       "      <td>0.491493</td>\n",
       "      <td>0.000000</td>\n",
       "      <td>0.839286</td>\n",
       "      <td>0.503448</td>\n",
       "      <td>0.691667</td>\n",
       "      <td>0.810811</td>\n",
       "      <td>0.691358</td>\n",
       "      <td>0.585859</td>\n",
       "      <td>0.67</td>\n",
       "      <td>...</td>\n",
       "      <td>0.0</td>\n",
       "      <td>0.0</td>\n",
       "      <td>0.0</td>\n",
       "      <td>0.0</td>\n",
       "      <td>0.0</td>\n",
       "      <td>0.0</td>\n",
       "      <td>0.0</td>\n",
       "      <td>0.0</td>\n",
       "      <td>1.0</td>\n",
       "      <td>0.0</td>\n",
       "    </tr>\n",
       "    <tr>\n",
       "      <th>7</th>\n",
       "      <td>0.327830</td>\n",
       "      <td>0.440454</td>\n",
       "      <td>0.000000</td>\n",
       "      <td>0.196429</td>\n",
       "      <td>0.448276</td>\n",
       "      <td>0.358333</td>\n",
       "      <td>0.108108</td>\n",
       "      <td>0.320988</td>\n",
       "      <td>0.777778</td>\n",
       "      <td>0.43</td>\n",
       "      <td>...</td>\n",
       "      <td>0.0</td>\n",
       "      <td>0.0</td>\n",
       "      <td>0.0</td>\n",
       "      <td>0.0</td>\n",
       "      <td>0.0</td>\n",
       "      <td>0.0</td>\n",
       "      <td>0.0</td>\n",
       "      <td>0.0</td>\n",
       "      <td>1.0</td>\n",
       "      <td>0.0</td>\n",
       "    </tr>\n",
       "    <tr>\n",
       "      <th>8</th>\n",
       "      <td>0.599057</td>\n",
       "      <td>0.610586</td>\n",
       "      <td>1.600000</td>\n",
       "      <td>0.339286</td>\n",
       "      <td>0.744828</td>\n",
       "      <td>0.258333</td>\n",
       "      <td>0.243243</td>\n",
       "      <td>0.271605</td>\n",
       "      <td>0.575758</td>\n",
       "      <td>0.62</td>\n",
       "      <td>...</td>\n",
       "      <td>0.0</td>\n",
       "      <td>0.0</td>\n",
       "      <td>0.0</td>\n",
       "      <td>0.0</td>\n",
       "      <td>0.0</td>\n",
       "      <td>0.0</td>\n",
       "      <td>0.0</td>\n",
       "      <td>0.0</td>\n",
       "      <td>0.0</td>\n",
       "      <td>1.0</td>\n",
       "    </tr>\n",
       "    <tr>\n",
       "      <th>9</th>\n",
       "      <td>0.591981</td>\n",
       "      <td>0.599244</td>\n",
       "      <td>0.000000</td>\n",
       "      <td>0.482143</td>\n",
       "      <td>0.717241</td>\n",
       "      <td>0.508333</td>\n",
       "      <td>0.459459</td>\n",
       "      <td>0.592593</td>\n",
       "      <td>0.646465</td>\n",
       "      <td>0.60</td>\n",
       "      <td>...</td>\n",
       "      <td>0.0</td>\n",
       "      <td>0.0</td>\n",
       "      <td>0.0</td>\n",
       "      <td>0.0</td>\n",
       "      <td>0.0</td>\n",
       "      <td>0.0</td>\n",
       "      <td>0.0</td>\n",
       "      <td>0.0</td>\n",
       "      <td>1.0</td>\n",
       "      <td>0.0</td>\n",
       "    </tr>\n",
       "  </tbody>\n",
       "</table>\n",
       "<p>10 rows × 118 columns</p>\n",
       "</div>"
      ],
      "text/plain": [
       "        0         1         2         3         4         5         6    \\\n",
       "0  0.455189  0.402647  1.600000  0.125000  0.400000  0.541667  0.351351   \n",
       "1  0.393868  0.440454  0.133333  0.464286  0.475862  0.441667  0.243243   \n",
       "2  0.492925  0.410208  3.166667  0.910714  0.241379  0.408333  0.459459   \n",
       "3  0.695755  0.517958  0.133333  0.464286  0.000000  0.325000  0.000000   \n",
       "4  0.620283  0.586011  0.266667  0.446429  0.475862  0.291667  0.243243   \n",
       "5  0.471698  0.584121  0.000000  0.910714  0.724138  0.358333  0.054054   \n",
       "6  0.561321  0.491493  0.000000  0.839286  0.503448  0.691667  0.810811   \n",
       "7  0.327830  0.440454  0.000000  0.196429  0.448276  0.358333  0.108108   \n",
       "8  0.599057  0.610586  1.600000  0.339286  0.744828  0.258333  0.243243   \n",
       "9  0.591981  0.599244  0.000000  0.482143  0.717241  0.508333  0.459459   \n",
       "\n",
       "        7         8     9    ...  108  109  110  111  112  113  114  115  116  \\\n",
       "0  0.271605  0.737374  0.45  ...  0.0  1.0  0.0  0.0  0.0  0.0  0.0  0.0  0.0   \n",
       "1  0.222222  0.696970  0.48  ...  0.0  0.0  0.0  0.0  0.0  0.0  0.0  0.0  1.0   \n",
       "2  0.419753  0.717172  0.74  ...  0.0  1.0  0.0  0.0  0.0  0.0  0.0  0.0  0.0   \n",
       "3  0.148148  0.696970  0.90  ...  0.0  0.0  0.0  0.0  0.0  0.0  0.0  0.0  1.0   \n",
       "4  0.419753  0.888889  0.58  ...  0.0  0.0  0.0  0.0  0.0  0.0  0.0  0.0  1.0   \n",
       "5  0.469136  0.676768  0.44  ...  0.0  0.0  0.0  0.0  0.0  0.0  0.0  0.0  1.0   \n",
       "6  0.691358  0.585859  0.67  ...  0.0  0.0  0.0  0.0  0.0  0.0  0.0  0.0  1.0   \n",
       "7  0.320988  0.777778  0.43  ...  0.0  0.0  0.0  0.0  0.0  0.0  0.0  0.0  1.0   \n",
       "8  0.271605  0.575758  0.62  ...  0.0  0.0  0.0  0.0  0.0  0.0  0.0  0.0  0.0   \n",
       "9  0.592593  0.646465  0.60  ...  0.0  0.0  0.0  0.0  0.0  0.0  0.0  0.0  1.0   \n",
       "\n",
       "   117  \n",
       "0  1.0  \n",
       "1  0.0  \n",
       "2  1.0  \n",
       "3  0.0  \n",
       "4  0.0  \n",
       "5  0.0  \n",
       "6  0.0  \n",
       "7  0.0  \n",
       "8  1.0  \n",
       "9  0.0  \n",
       "\n",
       "[10 rows x 118 columns]"
      ]
     },
     "execution_count": 221,
     "metadata": {},
     "output_type": "execute_result"
    }
   ],
   "source": [
    "#concate data tobe a data final\n",
    "data_inf_final = np.concatenate([data_inf_num_scaled, data_inf_cat_enc], axis=1)\n",
    "pd.DataFrame(data_inf_final)"
   ]
  },
  {
   "cell_type": "code",
   "execution_count": 222,
   "metadata": {},
   "outputs": [
    {
     "data": {
      "text/html": [
       "<div>\n",
       "<style scoped>\n",
       "    .dataframe tbody tr th:only-of-type {\n",
       "        vertical-align: middle;\n",
       "    }\n",
       "\n",
       "    .dataframe tbody tr th {\n",
       "        vertical-align: top;\n",
       "    }\n",
       "\n",
       "    .dataframe thead th {\n",
       "        text-align: right;\n",
       "    }\n",
       "</style>\n",
       "<table border=\"1\" class=\"dataframe\">\n",
       "  <thead>\n",
       "    <tr style=\"text-align: right;\">\n",
       "      <th></th>\n",
       "      <th>RainTomorrow - Inference</th>\n",
       "    </tr>\n",
       "  </thead>\n",
       "  <tbody>\n",
       "    <tr>\n",
       "      <th>0</th>\n",
       "      <td>No</td>\n",
       "    </tr>\n",
       "    <tr>\n",
       "      <th>1</th>\n",
       "      <td>No</td>\n",
       "    </tr>\n",
       "    <tr>\n",
       "      <th>2</th>\n",
       "      <td>Yes</td>\n",
       "    </tr>\n",
       "    <tr>\n",
       "      <th>3</th>\n",
       "      <td>Yes</td>\n",
       "    </tr>\n",
       "    <tr>\n",
       "      <th>4</th>\n",
       "      <td>No</td>\n",
       "    </tr>\n",
       "    <tr>\n",
       "      <th>5</th>\n",
       "      <td>No</td>\n",
       "    </tr>\n",
       "    <tr>\n",
       "      <th>6</th>\n",
       "      <td>No</td>\n",
       "    </tr>\n",
       "    <tr>\n",
       "      <th>7</th>\n",
       "      <td>No</td>\n",
       "    </tr>\n",
       "    <tr>\n",
       "      <th>8</th>\n",
       "      <td>No</td>\n",
       "    </tr>\n",
       "    <tr>\n",
       "      <th>9</th>\n",
       "      <td>No</td>\n",
       "    </tr>\n",
       "  </tbody>\n",
       "</table>\n",
       "</div>"
      ],
      "text/plain": [
       "  RainTomorrow - Inference\n",
       "0                       No\n",
       "1                       No\n",
       "2                      Yes\n",
       "3                      Yes\n",
       "4                       No\n",
       "5                       No\n",
       "6                       No\n",
       "7                       No\n",
       "8                       No\n",
       "9                       No"
      ]
     },
     "execution_count": 222,
     "metadata": {},
     "output_type": "execute_result"
    }
   ],
   "source": [
    "#predict data\n",
    "y_pred_inf = logreg.predict(data_inf_final)\n",
    "y_pred_inf_df = pd.DataFrame(y_pred_inf, columns=['RainTomorrow - Inference'])\n",
    "y_pred_inf_df"
   ]
  },
  {
   "cell_type": "code",
   "execution_count": 225,
   "metadata": {},
   "outputs": [
    {
     "data": {
      "text/plain": [
       "132026     No\n",
       "50517      No\n",
       "137958     No\n",
       "96955     Yes\n",
       "10867      No\n",
       "94900      No\n",
       "23166      No\n",
       "67265      No\n",
       "85233     Yes\n",
       "95210      No\n",
       "Name: RainTomorrow, dtype: object"
      ]
     },
     "execution_count": 225,
     "metadata": {},
     "output_type": "execute_result"
    }
   ],
   "source": [
    "data_inf['RainTomorrow']"
   ]
  },
  {
   "cell_type": "markdown",
   "metadata": {},
   "source": [
    "#### Note   :\n",
    "1.  Berdasarkan hasil dari prediksi menggunakan Data Inference perbandingan antara dataset asli dengan prediksi adalah dari 10 sampel didapat 8 prediksi tepat, sedangkan 2 buah prediksi salah\n",
    "sehingga dapat disimpulkan model memiliki akurasi 80%"
   ]
  }
 ],
 "metadata": {
  "interpreter": {
   "hash": "ec48a7eb029cdc542407fb9869288c96ab6e2ae880e1da9f0814a29f5bb615aa"
  },
  "kernelspec": {
   "display_name": "Python 3.10.0 64-bit",
   "language": "python",
   "name": "python3"
  },
  "language_info": {
   "codemirror_mode": {
    "name": "ipython",
    "version": 3
   },
   "file_extension": ".py",
   "mimetype": "text/x-python",
   "name": "python",
   "nbconvert_exporter": "python",
   "pygments_lexer": "ipython3",
   "version": "3.10.0"
  },
  "orig_nbformat": 4
 },
 "nbformat": 4,
 "nbformat_minor": 2
}
